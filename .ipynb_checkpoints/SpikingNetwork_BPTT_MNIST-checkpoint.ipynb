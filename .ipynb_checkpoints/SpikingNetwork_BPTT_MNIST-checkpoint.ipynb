{
 "cells": [
  {
   "cell_type": "code",
   "execution_count": 1,
   "metadata": {},
   "outputs": [],
   "source": [
    "from __future__ import absolute_import\n",
    "from __future__ import division\n",
    "from __future__ import print_function\n",
    "import matplotlib.pyplot as plt \n",
    "%matplotlib inline\n",
    "import matplotlib.cm as cm\n",
    "\n",
    "import numpy as np\n",
    "import tensorflow as tf\n",
    "\n",
    "import collections\n",
    "import hashlib\n",
    "import numbers\n",
    "\n",
    "from tensorflow.python.eager import context\n",
    "from tensorflow.python.framework import constant_op\n",
    "from tensorflow.python.framework import dtypes\n",
    "from tensorflow.python.framework import ops\n",
    "from tensorflow.python.framework import tensor_shape\n",
    "from tensorflow.python.framework import tensor_util\n",
    "from tensorflow.python.layers import base as base_layer\n",
    "from tensorflow.python.ops import array_ops\n",
    "from tensorflow.python.ops import clip_ops\n",
    "from tensorflow.python.ops import init_ops\n",
    "from tensorflow.python.ops import math_ops\n",
    "from tensorflow.python.ops import nn_ops\n",
    "from tensorflow.python.ops import partitioned_variables\n",
    "from tensorflow.python.ops import random_ops\n",
    "from tensorflow.python.ops import tensor_array_ops\n",
    "from tensorflow.python.ops import variable_scope as vs\n",
    "from tensorflow.python.ops import variables as tf_variables\n",
    "from tensorflow.python.platform import tf_logging as logging\n",
    "from tensorflow.python.util import nest\n",
    "from tensorflow.contrib.rnn.python.ops.core_rnn_cell import _Linear\n",
    "from tensorflow.contrib import slim\n",
    "import spiking_cell"
   ]
  },
  {
   "cell_type": "code",
   "execution_count": 2,
   "metadata": {},
   "outputs": [
    {
     "name": "stdout",
     "output_type": "stream",
     "text": [
      "Extracting MNIST_data/train-images-idx3-ubyte.gz\n",
      "Extracting MNIST_data/train-labels-idx1-ubyte.gz\n",
      "Extracting MNIST_data/t10k-images-idx3-ubyte.gz\n",
      "Extracting MNIST_data/t10k-labels-idx1-ubyte.gz\n"
     ]
    }
   ],
   "source": [
    "# uplading mnist data \n",
    "\n",
    "old_v = tf.logging.get_verbosity()\n",
    "tf.logging.set_verbosity(tf.logging.ERROR)\n",
    "\n",
    "from tensorflow.examples.tutorials.mnist import input_data\n",
    "\n",
    "mnist = input_data.read_data_sets(\"MNIST_data/\", one_hot=True)\n",
    "train_data = mnist.train.images  # Returns np.array\n",
    "train_labels = np.asarray(mnist.train.labels, dtype=np.int32)\n",
    "eval_data = mnist.test.images  # Returns np.array\n",
    "eval_labels = np.asarray(mnist.test.labels, dtype=np.int32)\n",
    "\n",
    "tf.logging.set_verbosity(old_v)\n"
   ]
  },
  {
   "cell_type": "code",
   "execution_count": 6,
   "metadata": {},
   "outputs": [],
   "source": [
    "# Training Parameters\n",
    "learning_rate = 1e-5\n",
    "training_steps = 5000\n",
    "batch_size = 2\n",
    "display_step = 200\n",
    "test_len=128\n",
    "grad_clip=200\n",
    "# Network Parameters\n",
    "num_input = 1 # MNIST data input (img shape: 28*28)\n",
    "timesteps = 28*28 # timesteps\n",
    "# \n",
    "num_unit_input_layer=20 # input layer neurons \n",
    "num_hidden = 20 # hidden layer num of features\n",
    "num_classes = 10 # MNIST total classes (0-9 digits)"
   ]
  },
  {
   "cell_type": "markdown",
   "metadata": {},
   "source": [
    " ## spiking cell "
   ]
  },
  {
   "cell_type": "code",
   "execution_count": 7,
   "metadata": {},
   "outputs": [],
   "source": [
    "def SNN(x):\n",
    "    with tf.name_scope('input_layer') as scope: \n",
    "        input_layer_cell=spiking_cell.input_spike_cell(num_units=num_unit_input_layer)\n",
    "\n",
    "    with tf.name_scope('hidden_layer') as scope: \n",
    "        hidden_layer_cell=spiking_cell.conductance_spike_Cell(num_units=num_hidden)\n",
    "    \n",
    "    output_l1, states_l1 = tf.nn.dynamic_rnn(input_layer_cell, dtype=tf.float32, inputs=x)\n",
    "    output_hidden, states_hidden = tf.nn.dynamic_rnn(hidden_layer_cell, dtype=tf.float32, inputs=output_l1)\n",
    "    #with tf.name_scope('output_layer') as scope : \n",
    "    #    output_layer_cell=spiking_cell.output_spike_cell(num_units=num_classes)\n",
    "    #    output_voltage, voltage_states=tf.nn.dynamic_rnn(output_layer_cell,dtype=tf.float32,inputs=output_hidden)\n",
    "\n",
    "    return output_hidden, output_l1\n",
    "\n",
    "    "
   ]
  },
  {
   "cell_type": "code",
   "execution_count": 11,
   "metadata": {},
   "outputs": [],
   "source": [
    "def SNN(x):\n",
    "    with tf.name_scope('input_layer') as scope: \n",
    "        input_layer_cell=spiking_cell.input_spike_cell(num_units=num_unit_input_layer)\n",
    "\n",
    "    with tf.name_scope('hidden_layer') as scope: \n",
    "        hidden_layer_cell=spiking_cell.conductance_spike_Cell(num_units=num_hidden)\n",
    "    cells=[input_layer_cell,hidden_layer_cell]\n",
    "    stack_rnn_cell=tf.nn.rnn_cell.MultiRNNCell(cells)\n",
    "    \n",
    "    output_hidden, states_hidden = tf.nn.dynamic_rnn(stack_rnn_cell, dtype=tf.float32, inputs=x)\n",
    "    #with tf.name_scope('output_layer') as scope : \n",
    "    #    output_layer_cell=spiking_cell.output_spike_cell(num_units=num_classes)\n",
    "    #    output_voltage, voltage_states=tf.nn.dynamic_rnn(output_layer_cell,dtype=tf.float32,inputs=output_hidden)\n",
    "\n",
    "    return output_hidden, states_hidden\n"
   ]
  },
  {
   "cell_type": "code",
   "execution_count": 12,
   "metadata": {},
   "outputs": [
    {
     "name": "stdout",
     "output_type": "stream",
     "text": [
      "WARNING:tensorflow:(2, 20): Please use float \n",
      "WARNING:tensorflow:(2, 20): Please use float \n"
     ]
    }
   ],
   "source": [
    "tf.reset_default_graph()\n",
    "graph=tf.Graph()\n",
    "with graph.as_default():\n",
    "    # input to graph\n",
    "    X=tf.placeholder('float',shape=[batch_size,timesteps,num_input])\n",
    "    # define out\n",
    "    hidden_spikes,_ =SNN(X)\n",
    "    init=tf.global_variables_initializer()\n"
   ]
  },
  {
   "cell_type": "code",
   "execution_count": null,
   "metadata": {},
   "outputs": [],
   "source": [
    "with tf.Session(graph=graph) as sess:\n",
    "    sess.run(init)\n",
    "    batch_x,batch_y=mnist.train.next_batch(batch_size)\n",
    "    batch_x = batch_x.reshape((batch_size, timesteps, num_input))\n",
    "    hidden_sp, input_sp=sess.run(hidden_spikes, feed_dict={X: batch_x})\n",
    "    \n",
    "spikes=input_sp[9,:,:]\n",
    "\n",
    "plt.figure(figsize=[15,10])\n",
    "colors_map=cm.viridis(np.linspace(0,1,2*40))\n",
    "for t in range(timesteps):\n",
    "    cross=np.argwhere(spikes[t,:])\n",
    "    plt.scatter(cross*0+t,cross,color=colors_map[cross.flatten(),:],s=4)\n",
    "\n",
    "plt.figure()\n",
    "plt.imshow(batch_x[9].reshape(28,28))"
   ]
  },
  {
   "cell_type": "code",
   "execution_count": null,
   "metadata": {},
   "outputs": [],
   "source": []
  },
  {
   "cell_type": "markdown",
   "metadata": {},
   "source": [
    "## computation graph "
   ]
  },
  {
   "cell_type": "code",
   "execution_count": null,
   "metadata": {},
   "outputs": [],
   "source": [
    "tf.reset_default_graph()\n",
    "graph=tf.Graph()\n",
    "with graph.as_default():\n",
    "    # define weights and inputs to the network\n",
    "    X = tf.placeholder(\"float\", [None, timesteps, num_input])\n",
    "    Y = tf.placeholder(\"float\", [None, num_classes])\n",
    "    # define a function for extraction of variable names\n",
    "    SNN_output,SNN_states=SNN(X)\n",
    "    trainables=tf.trainable_variables()\n",
    "    variable_names=[v.name for v in tf.trainable_variables()]\n",
    "    # \n",
    "    find_joing_index = lambda x, name_1,name_2 : [a and b for a,b in zip([np.unicode_.find(k.name, name_1)>-1 for k in x] ,[np.unicode_.find(k.name, name_2)>-1 for k in x])].index(True)\n",
    "    # find trainable parameters for keRNL \n",
    "    with tf.name_scope('SNN_Trainables') as scope:\n",
    "        SNN_hidden_kernel_index= find_joing_index(trainables,'hidden_layer','kernel')\n",
    "        SNN_hidden_bias_index= find_joing_index(trainables,'hidden_layer','bias')\n",
    "        SNN_output_kernel_index= find_joing_index(trainables,'output_layer','kernel')\n",
    "        SNN_output_bias_index= find_joing_index(trainables,'output_layer','bias')\n",
    "    # \n",
    "        SSN_weight_training_indices=np.asarray([SNN_hidden_kernel_index,SNN_hidden_bias_index,SNN_output_kernel_index,SNN_output_bias_index],dtype=np.int)\n",
    "        SNN_weight_trainables= [trainables[k] for k in SSN_weight_training_indices]\n",
    "    #\n",
    "    #define loss functions  \n",
    "    ##################\n",
    "    # SNN train ####\n",
    "    ##################\n",
    "    with tf.name_scope(\"SNN_train\") as scope:\n",
    "        # outputs \n",
    "        SNN_loss_output_prediction=tf.losses.softmax_cross_entropy(onehot_labels=Y,logits=SNN_output[:,-1,:])\n",
    "        SNN_prediction = tf.nn.softmax(SNN_output[:,-1,:])\n",
    "        SNN_correct_pred = tf.equal(tf.argmax(SNN_prediction, 1), tf.argmax(Y, 1))\n",
    "        SNN_accuracy = tf.reduce_mean(tf.cast(SNN_correct_pred, tf.float32))\n",
    "       # define optimizer \n",
    "        SNN_weight_optimizer = tf.train.RMSPropOptimizer(learning_rate=weight_learning_rate)\n",
    "        \n",
    "       \n",
    "        with tf.name_scope('SNN_train_weights') as scope: \n",
    "            SNN_grad_cost_trainables=tf.gradients(SNN_loss_output_prediction,SNN_weight_trainables)\n",
    "            \n",
    "            # crop the gradients  \n",
    "            SNN_weight_grads_and_vars=list(zip(SNN_grad_cost_trainables,SNN_weight_trainables))\n",
    "            SNN_cropped_weight_grads_and_vars=[(tf.clip_by_norm(grad, grad_clip),var) if  np.unicode_.find(var.name,'output')==-1 else (grad,var) for grad,var in SNN_weight_grads_and_vars]\n",
    "            # apply gradients \n",
    "            SNN_weight_train_op = SNN_weight_optimizer.apply_gradients(SNN_cropped_weight_grads_and_vars)\n",
    "    \n",
    "    ##################\n",
    "    # SUMMARIES ######\n",
    "    ##################\n",
    "    with tf.name_scope(\"SNN_summaries\") as scope:\n",
    "        # IRNN kernel\n",
    "        tf.summary.histogram('SNN_hidden_kernel_grad',SNN_grad_cost_trainables[0]+1e-10)\n",
    "        tf.summary.histogram('SNN_hidden_kernel', SNN_weight_trainables[0]+1e-10)\n",
    "        # IRNN output weight\n",
    "        tf.summary.histogram('SNN_output_kernel_grad',SNN_grad_cost_trainables[2]+1e-10)\n",
    "        tf.summary.histogram('SNN_output_kernel', SNN_weight_trainables[2]+1e-10)\n",
    "        # IRNN output bias\n",
    "        tf.summary.histogram('SNN_hidden_bias_grad',SNN_grad_cost_trainables[1])\n",
    "        tf.summary.histogram('SNN_hidden_bias', SNN_weight_trainables[1]+1e-10)\n",
    "        \n",
    "        tf.summary.histogram('SNN_output_bias_grad',SNN_grad_cost_trainables[3])\n",
    "        tf.summary.histogram('SNN_output_bias', SNN_weight_trainables[3]+1e-10)\n",
    "        # IRNN loss and accuracy \n",
    "        tf.summary.scalar('SNN_loss_output_prediction',SNN_loss_output_prediction)\n",
    "        tf.summary.scalar('IRNN_accuracy',SNN_accuracy)\n",
    "        # IRNN kernel and ouput matrix \n",
    "        tf.summary.image('SNN_hidden_kernel_matrix',tf.expand_dims(tf.expand_dims(SNN_weight_trainables[0],axis=0),axis=-1))\n",
    "        tf.summary.image('SNN_output_kernel_matrix',tf.expand_dims(tf.expand_dims(SNN_weight_trainables[2],axis=0),axis=-1))\n",
    "        IRNN_merged_summary_op=tf.summary.merge_all(scope=\"SNN_summaries\")    \n",
    "    init = tf.global_variables_initializer()\n",
    "    saver = tf.train.Saver()\n"
   ]
  },
  {
   "cell_type": "code",
   "execution_count": null,
   "metadata": {},
   "outputs": [],
   "source": []
  }
 ],
 "metadata": {
  "kernelspec": {
   "display_name": "Python(KeRNL)",
   "language": "python",
   "name": "kernl"
  },
  "language_info": {
   "codemirror_mode": {
    "name": "ipython",
    "version": 3
   },
   "file_extension": ".py",
   "mimetype": "text/x-python",
   "name": "python",
   "nbconvert_exporter": "python",
   "pygments_lexer": "ipython3",
   "version": "3.6.8"
  }
 },
 "nbformat": 4,
 "nbformat_minor": 2
}
