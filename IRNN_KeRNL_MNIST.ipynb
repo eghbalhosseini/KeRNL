{
 "cells": [
  {
   "cell_type": "markdown",
   "metadata": {},
   "source": [
    "code for creating a Kernel based relu-RNN learning for sequential MNIST\n",
    "adapted from : Roth, Christopher, Ingmar Kanitscheider, and Ila Fiete. 2018. “Kernel RNN Learning (KeRNL),” September. https://openreview.net/forum?id=ryGfnoC5KQ."
   ]
  },
  {
   "cell_type": "code",
   "execution_count": 1,
   "metadata": {},
   "outputs": [],
   "source": [
    "import numpy as np \n",
    "import tensorflow as tf\n",
    "import matplotlib.pyplot as plt \n",
    "\n",
    "import collections\n",
    "import hashlib\n",
    "import numbers\n",
    "import matplotlib.cm as cm\n",
    "from sys import getsizeof\n",
    "from datetime import datetime\n",
    "from pathlib import Path\n",
    "import os\n",
    "\n",
    "from pandas import DataFrame\n",
    "from IPython.display import HTML\n",
    "\n",
    "\n",
    "\n",
    "\n",
    "from tensorflow.python.eager import context\n",
    "from tensorflow.python.framework import constant_op\n",
    "from tensorflow.python.framework import dtypes\n",
    "from tensorflow.python.framework import ops\n",
    "from tensorflow.python.framework import tensor_shape\n",
    "from tensorflow.python.framework import tensor_util\n",
    "from tensorflow.python.layers import base as base_layer\n",
    "from tensorflow.python.ops import array_ops\n",
    "from tensorflow.python.ops import clip_ops\n",
    "from tensorflow.python.ops import init_ops\n",
    "from tensorflow.python.ops import math_ops\n",
    "from tensorflow.python.ops import nn_ops\n",
    "from tensorflow.python.ops import partitioned_variables\n",
    "from tensorflow.python.ops import random_ops\n",
    "from tensorflow.python.ops import tensor_array_ops\n",
    "from tensorflow.python.ops import variable_scope as vs\n",
    "from tensorflow.python.ops import variables as tf_variables\n",
    "from tensorflow.python.platform import tf_logging as logging\n",
    "from tensorflow.python.util import nest\n",
    "from tensorflow.contrib.rnn.python.ops.core_rnn_cell import _Linear\n",
    "from tensorflow.contrib import slim\n",
    "\n",
    "## user defined modules \n",
    "# kernel rnn cell \n",
    "import keRNL_cell "
   ]
  },
  {
   "cell_type": "code",
   "execution_count": 4,
   "metadata": {},
   "outputs": [
    {
     "name": "stdout",
     "output_type": "stream",
     "text": [
      "Extracting MNIST_data/train-images-idx3-ubyte.gz\n",
      "Extracting MNIST_data/train-labels-idx1-ubyte.gz\n",
      "Extracting MNIST_data/t10k-images-idx3-ubyte.gz\n",
      "Extracting MNIST_data/t10k-labels-idx1-ubyte.gz\n"
     ]
    }
   ],
   "source": [
    "# uplading mnist data \n",
    "\n",
    "old_v = tf.logging.get_verbosity()\n",
    "tf.logging.set_verbosity(tf.logging.ERROR)\n",
    "\n",
    "from tensorflow.examples.tutorials.mnist import input_data\n",
    "\n",
    "mnist = input_data.read_data_sets(\"MNIST_data/\", one_hot=True)\n",
    "train_data = mnist.train.images  # Returns np.array\n",
    "train_labels = np.asarray(mnist.train.labels, dtype=np.int32)\n",
    "eval_data = mnist.test.images  # Returns np.array\n",
    "eval_labels = np.asarray(mnist.test.labels, dtype=np.int32)\n",
    "\n",
    "tf.logging.set_verbosity(old_v)"
   ]
  },
  {
   "cell_type": "code",
   "execution_count": 5,
   "metadata": {},
   "outputs": [],
   "source": [
    "# Training Parameters\n",
    "learning_rate = 1e-4\n",
    "training_steps = 5000\n",
    "batch_size = 100\n",
    "display_step = 2\n",
    "test_len=128\n",
    "grad_clip=100\n",
    "# Network Parameters\n",
    "num_input = 1 # MNIST data input (img shape: 28*28)\n",
    "timesteps = 28*28 # timesteps\n",
    "num_hidden = 128 # hidden layer num of features\n",
    "num_classes = 10 # MNIST total classes (0-9 digits)\n",
    "\n",
    "# tf Graph input\n"
   ]
  },
  {
   "cell_type": "code",
   "execution_count": null,
   "metadata": {},
   "outputs": [],
   "source": []
  },
  {
   "cell_type": "code",
   "execution_count": 10,
   "metadata": {},
   "outputs": [],
   "source": [
    "def kernel_RNN(x, weights, biases):\n",
    "\n",
    "    # Prepare data shape to match `rnn` function requirements\n",
    "    # Current data input shape: (batch_size, timesteps, n_input)\n",
    "    # Required shape: 'timesteps' tensors list of shape (batch_size, n_input)\n",
    "\n",
    "    # Unstack to get a list of 'timesteps' tensors of shape (batch_size, n_input)\n",
    "    with tf.variable_scope('recurrent',initializer=tf.initializers.identity()) as scope: \n",
    "        # Define a lstm cell with tensorflow\n",
    "        keRNL = keRNL_cell.KeRNLCell(num_units=num_hidden,num_inputs=num_input,time_steps=timesteps,sensitivity_initializer=tf.initializers.identity)\n",
    "        # Get lstm cell output\n",
    "        kernel_outputs, kernel_states = tf.nn.dynamic_rnn(keRNL , x, dtype=tf.float32)\n",
    "\n",
    "    # Linear activation, using rnn inner loop last output\n",
    "    return tf.matmul(kernel_outputs[:,-1,:], weights['out']) + biases['out'], kernel_states"
   ]
  },
  {
   "cell_type": "code",
   "execution_count": 38,
   "metadata": {},
   "outputs": [],
   "source": [
    "tf.reset_default_graph()\n",
    "graph=tf.Graph()\n",
    "with graph.as_default():\n",
    "    # Define weights\n",
    "    weights = {\n",
    "        'out': tf.Variable(tf.random_normal([num_hidden, num_classes]),name='output_weight')\n",
    "    }\n",
    "    biases = {\n",
    "        'out': tf.Variable(tf.random_normal([num_classes]),name='output_addition')\n",
    "    }\n",
    "    X = tf.placeholder(\"float\", [None, timesteps, num_input])\n",
    "    Y = tf.placeholder(\"float\", [None, num_classes])\n",
    "    logits,states = kernel_RNN(X, weights, biases)\n",
    "    loss_op = tf.reduce_mean(tf.nn.softmax_cross_entropy_with_logits_v2(\n",
    "    logits=logits, labels=Y))\n",
    "    prediction = tf.nn.softmax(logits)\n",
    "    variable_names=[v.name for v in tf.trainable_variables()]\n",
    "    trainables=tf.trainable_variables()\n",
    "    # Define optimizer\n",
    "    optimizer = tf.train.RMSPropOptimizer(learning_rate=learning_rate)\n",
    "    \n",
    "    # compute gradients \n",
    "    # get the trainable variables \n",
    "    temporal_kernel_index=[np.unicode_.find(k.name,'temporal_filter_coeff')>-1 for k in trainables].index(True)\n",
    "    sensitivity_tensor_index=[np.unicode_.find(k.name,'sensitivity_tensor')>-1 for k in trainables].index(True)    \n",
    "    kernel_index=[np.unicode_.find(k.name,'kernel')>-1 for k in trainables].index(True)\n",
    "    bias_index=[np.unicode_.find(k.name,'bias')>-1 for k in trainables].index(True)\n",
    "    output_weight_index=[np.unicode_.find(k.name,'output_weight')>-1 for k in trainables].index(True)\n",
    "    # create a new trainable list \n",
    "    #a=np.asarray([temporal_kernel_index,sensitivity_tensor_index,kernel_index,bias_index],dtype=np.int)\n",
    "    a=np.asarray([sensitivity_tensor_index,temporal_kernel_index,kernel_index],dtype=np.int)\n",
    "    new_trainables= [trainables[k] for k in a ]\n",
    "# manually calculate gradients \n",
    "    #1- sensitivity tensor gradient \n",
    "    sensitivity_tensor_update=tf.matmul(tf.transpose(states.delta_sensitivity),states.Gamma)\n",
    "    \n",
    "    #2- temporal kernel coefficient gradient \n",
    "    temporal_kernel_update=tf.reduce_mean(tf.multiply(states.delta_sensitivity,tf.matmul(states.Gamma,tf.transpose(trainables[sensitivity_tensor_index]))),axis=0)\n",
    "    \n",
    "    #3- gradient for the recurrent weights \n",
    "    grad_cost_to_output=tf.gradients(loss_op,logits, name= 'grad_cost_to_y')\n",
    "    error_in_hidden_state=tf.expand_dims(tf.reduce_mean(tf.matmul(grad_cost_to_output[-1],tf.transpose(trainables[output_weight_index])),axis=0),axis=0)\n",
    "    weight_update_aux=tf.matmul(trainables[kernel_index],tf.transpose(error_in_hidden_state))\n",
    "    total_trace=tf.concat([states.input_trace,states.recurrent_trace],axis=2)\n",
    "    weight_update=tf.transpose(tf.reduce_mean(tf.multiply(total_trace,tf.transpose(tf.tile(weight_update_aux,[1,num_hidden]))),axis=0))\n",
    "    \n",
    "    \n",
    "# zip gradients and vars \n",
    "    new_grads_and_vars=list(zip([sensitivity_tensor_update, temporal_kernel_update,weight_update],new_trainables))\n",
    "    train_op = optimizer.apply_gradients(new_grads_and_vars)\n",
    "    \n",
    "    # TODO \n",
    "    # Evaluate model (with test logits, for dropout to be disabled)\n",
    "    correct_pred = tf.equal(tf.argmax(prediction, 1), tf.argmax(Y, 1))\n",
    "    accuracy = tf.reduce_mean(tf.cast(correct_pred, tf.float32))\n",
    "    # Initialize the variables (i.e. assign their default value)\n",
    "    init = tf.global_variables_initializer()\n",
    "        # predictions \n",
    "        #prediction=tf.nn.softmax(logits)\n",
    "    tf.summary.histogram('prediction',prediction+1e-8)\n",
    "    tf.summary.histogram('logits',logits+1e-8)\n",
    "    tf.summary.histogram('sensitivity_updates',sensitivity_tensor_update+1e-8)\n",
    "    tf.summary.histogram('temporal_kernel_updates',temporal_kernel_update+1e-8)\n",
    "    #tf.summary.scalar('loss',loss_op)\n",
    "    merged_summary_op=tf.summary.merge_all()\n",
    "    "
   ]
  },
  {
   "cell_type": "code",
   "execution_count": 39,
   "metadata": {},
   "outputs": [
    {
     "name": "stdout",
     "output_type": "stream",
     "text": [
      "['variable: ', 'output_weight:0']\n",
      "['variable: ', 0]\n",
      "['shape: ', (128, 10)]\n",
      "['variable: ', 'output_addition:0']\n",
      "['variable: ', 0]\n",
      "['shape: ', (10,)]\n",
      "['variable: ', 'recurrent/rnn/ke_rnl_cell/temporal_filter_coeff:0']\n",
      "['variable: ', -1]\n",
      "['shape: ', (128,)]\n",
      "['variable: ', 'recurrent/rnn/ke_rnl_cell/sensitivity_tensor:0']\n",
      "['variable: ', -1]\n",
      "['shape: ', (128, 128)]\n",
      "['variable: ', 'recurrent/rnn/ke_rnl_cell/kernel:0']\n",
      "['variable: ', -1]\n",
      "['shape: ', (129, 128)]\n",
      "['variable: ', 'recurrent/rnn/ke_rnl_cell/bias:0']\n",
      "['variable: ', -1]\n",
      "['shape: ', (128,)]\n"
     ]
    }
   ],
   "source": [
    "# verify initialization \n",
    "with tf.Session(graph=graph) as sess : \n",
    "    sess.run(init)\n",
    "    values,trainable_vars = sess.run([variable_names,new_trainables])\n",
    "    for k, v in zip(variable_names,values):\n",
    "        print([\"variable: \" , k])\n",
    "        #print([\"value: \" , v])\n",
    "        print([\"variable: \" , np.unicode_.find(k,'output')]) \n",
    "        print([\"shape: \" , v.shape])\n",
    "        #print(v) \n",
    "     "
   ]
  },
  {
   "cell_type": "code",
   "execution_count": 37,
   "metadata": {},
   "outputs": [
    {
     "data": {
      "text/plain": [
       "<tf.Tensor 'transpose_5:0' shape=(129, 128) dtype=float32>"
      ]
     },
     "execution_count": 37,
     "metadata": {},
     "output_type": "execute_result"
    }
   ],
   "source": [
    "\n",
    "weight_update"
   ]
  },
  {
   "cell_type": "code",
   "execution_count": 43,
   "metadata": {},
   "outputs": [],
   "source": [
    "log_dir = \"logs/kernel_rnn/batch_learning_gc_%d_eta_%d_batch_%d_run_%s\" %(grad_clip,learning_rate,batch_size, datetime.now().strftime(\"%Y%m%d_%H%M\"))\n",
    "Path(log_dir).mkdir(exist_ok=True, parents=True)\n",
    "filelist = [ f for f in os.listdir(log_dir) if f.endswith(\".local\") ]\n",
    "for f in filelist:\n",
    "    os.remove(os.path.join(log_dir, f))"
   ]
  },
  {
   "cell_type": "code",
   "execution_count": 44,
   "metadata": {},
   "outputs": [
    {
     "name": "stdout",
     "output_type": "stream",
     "text": [
      "Step: 2, Train Loss: 2.572, Train Acc: 0.130\n",
      "Step: 3, Train Loss: 2.539, Train Acc: 0.170\n",
      "Step: 5, Train Loss: 2.555, Train Acc: 0.140\n",
      "Step: 7, Train Loss: 2.720, Train Acc: 0.100\n",
      "Step: 9, Train Loss: 2.614, Train Acc: 0.080\n",
      "Step: 11, Train Loss: 2.561, Train Acc: 0.120\n",
      "Step: 13, Train Loss: 2.646, Train Acc: 0.080\n",
      "Step: 15, Train Loss: 2.565, Train Acc: 0.160\n",
      "Step: 17, Train Loss: 2.527, Train Acc: 0.140\n",
      "Step: 19, Train Loss: 2.496, Train Acc: 0.170\n",
      "Step: 21, Train Loss: 2.614, Train Acc: 0.120\n",
      "Step: 23, Train Loss: 2.689, Train Acc: 0.090\n",
      "Step: 25, Train Loss: 2.627, Train Acc: 0.120\n",
      "Step: 27, Train Loss: 2.614, Train Acc: 0.100\n",
      "Step: 29, Train Loss: 2.705, Train Acc: 0.120\n",
      "Step: 31, Train Loss: 2.546, Train Acc: 0.160\n",
      "Step: 33, Train Loss: 2.446, Train Acc: 0.180\n",
      "Step: 35, Train Loss: 2.716, Train Acc: 0.080\n",
      "Step: 37, Train Loss: 2.536, Train Acc: 0.180\n",
      "Step: 39, Train Loss: 2.569, Train Acc: 0.100\n",
      "Step: 41, Train Loss: 2.843, Train Acc: 0.090\n",
      "Step: 43, Train Loss: 2.617, Train Acc: 0.110\n",
      "Step: 45, Train Loss: 2.829, Train Acc: 0.100\n",
      "Step: 47, Train Loss: 2.626, Train Acc: 0.080\n",
      "Step: 49, Train Loss: 2.631, Train Acc: 0.120\n",
      "Step: 51, Train Loss: 2.672, Train Acc: 0.110\n",
      "Step: 53, Train Loss: 2.711, Train Acc: 0.120\n",
      "Step: 55, Train Loss: 2.771, Train Acc: 0.100\n",
      "Step: 57, Train Loss: 2.621, Train Acc: 0.140\n",
      "Step: 59, Train Loss: 2.653, Train Acc: 0.110\n",
      "Step: 61, Train Loss: 2.706, Train Acc: 0.090\n",
      "Step: 63, Train Loss: 2.880, Train Acc: 0.070\n",
      "Step: 65, Train Loss: 2.666, Train Acc: 0.110\n",
      "Step: 67, Train Loss: 2.552, Train Acc: 0.110\n",
      "Step: 69, Train Loss: 2.688, Train Acc: 0.100\n",
      "Step: 71, Train Loss: 2.757, Train Acc: 0.100\n",
      "Step: 73, Train Loss: 2.608, Train Acc: 0.120\n",
      "Step: 75, Train Loss: 2.677, Train Acc: 0.090\n",
      "Step: 77, Train Loss: 2.640, Train Acc: 0.120\n",
      "Step: 79, Train Loss: 2.677, Train Acc: 0.130\n",
      "Step: 81, Train Loss: 2.486, Train Acc: 0.140\n",
      "Step: 83, Train Loss: 2.608, Train Acc: 0.100\n",
      "Step: 85, Train Loss: 2.681, Train Acc: 0.100\n",
      "Step: 87, Train Loss: 2.696, Train Acc: 0.130\n",
      "Step: 89, Train Loss: 2.632, Train Acc: 0.060\n",
      "Step: 91, Train Loss: 2.681, Train Acc: 0.150\n",
      "Step: 93, Train Loss: 2.541, Train Acc: 0.170\n",
      "Step: 95, Train Loss: 2.672, Train Acc: 0.120\n",
      "Step: 97, Train Loss: 2.642, Train Acc: 0.130\n",
      "Step: 99, Train Loss: 2.515, Train Acc: 0.120\n",
      "Optimization Finished!\n",
      "Testing Accuracy: 0.1171875\n"
     ]
    }
   ],
   "source": [
    "# write graph into tensorboard \n",
    "tb_writer = tf.summary.FileWriter(log_dir,graph)\n",
    "# run a training session \n",
    "with tf.Session(graph=graph) as sess:\n",
    "    sess.run(init)\n",
    "    for step in range(1,100):#range(1,training_steps+1):\n",
    "        batch_x, batch_y = mnist.train.next_batch(batch_size)\n",
    "        batch_x=batch_x.reshape((batch_size,timesteps,num_input))\n",
    "        # run optimizaer \n",
    "        opt, loss_train,acc_train=sess.run([train_op,loss_op,accuracy],feed_dict={X:batch_x, Y:batch_y})\n",
    "        logits_out, states_out,sensitivity_tensor= sess.run([logits, states,sensitivity_tensor_update],feed_dict={X:batch_x, Y:batch_y})\n",
    "        merged_summary=sess.run(merged_summary_op,feed_dict={X:batch_x, Y:batch_y})\n",
    "        tb_writer.add_summary(merged_summary, global_step=step)\n",
    "        #tb_writer.flush()\n",
    "        # show interim performance \n",
    "        if step % display_step==0 or step==1 : \n",
    "            # get batch loss and accuracy \n",
    "            print('Step: {}, Train Loss: {:.3f}, Train Acc: {:.3f}'.format(\n",
    "            step + 1, loss_train, acc_train))\n",
    "            # write summary \n",
    "            #tb_writer.add_summary(acc,global_step=step)\n",
    "            #tb_writer.flush()\n",
    "            # evaluate performance on test data \n",
    "            test_X=mnist.test.images[:test_len].reshape((-1, timesteps, num_input))\n",
    "            test_Y=mnist.test.labels[:test_len]\n",
    "\n",
    "    print(\"Optimization Finished!\")\n",
    "    test_data = mnist.test.images[:test_len].reshape((-1, timesteps, num_input))\n",
    "    test_label = mnist.test.labels[:test_len]\n",
    "    print(\"Testing Accuracy:\", \n",
    "        sess.run(accuracy, feed_dict={X: test_data, Y: test_label}))"
   ]
  },
  {
   "cell_type": "code",
   "execution_count": 33,
   "metadata": {},
   "outputs": [
    {
     "data": {
      "text/plain": [
       "TensorShape([Dimension(None), Dimension(128), Dimension(1)])"
      ]
     },
     "execution_count": 33,
     "metadata": {},
     "output_type": "execute_result"
    }
   ],
   "source": [
    "states.input_trace.shape"
   ]
  },
  {
   "cell_type": "markdown",
   "metadata": {},
   "source": [
    "get the name of trainable variables in the graph"
   ]
  }
 ],
 "metadata": {
  "kernelspec": {
   "display_name": "Python(KeRNL)",
   "language": "python",
   "name": "kernl"
  },
  "language_info": {
   "codemirror_mode": {
    "name": "ipython",
    "version": 3
   },
   "file_extension": ".py",
   "mimetype": "text/x-python",
   "name": "python",
   "nbconvert_exporter": "python",
   "pygments_lexer": "ipython3",
   "version": "3.6.6"
  }
 },
 "nbformat": 4,
 "nbformat_minor": 2
}
