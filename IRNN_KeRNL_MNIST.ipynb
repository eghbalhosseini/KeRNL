{
 "cells": [
  {
   "cell_type": "markdown",
   "metadata": {},
   "source": [
    "code for creating a Kernel based relu-RNN learning for sequential MNIST\n",
    "adapted from : Roth, Christopher, Ingmar Kanitscheider, and Ila Fiete. 2018. “Kernel RNN Learning (KeRNL),” September. https://openreview.net/forum?id=ryGfnoC5KQ."
   ]
  },
  {
   "cell_type": "code",
   "execution_count": 54,
   "metadata": {},
   "outputs": [],
   "source": [
    "import numpy as np \n",
    "import tensorflow as tf\n",
    "import matplotlib.pyplot as plt \n",
    "from datetime import datetime\n",
    "from pathlib import Path\n",
    "import collections\n",
    "import hashlib\n",
    "import numbers\n",
    "import matplotlib.cm as cm\n",
    "from mpl_toolkits.mplot3d import axes3d\n",
    "%matplotlib inline\n",
    "import os\n",
    "\n",
    "from tensorflow.python.eager import context\n",
    "from tensorflow.python.framework import constant_op\n",
    "from tensorflow.python.framework import dtypes\n",
    "from tensorflow.python.framework import ops\n",
    "from tensorflow.python.framework import tensor_shape\n",
    "from tensorflow.python.framework import tensor_util\n",
    "from tensorflow.python.layers import base as base_layer\n",
    "from tensorflow.python.ops import array_ops\n",
    "from tensorflow.python.ops import clip_ops\n",
    "from tensorflow.python.ops import init_ops\n",
    "from tensorflow.python.ops import math_ops\n",
    "from tensorflow.python.ops import nn_ops\n",
    "from tensorflow.python.ops import partitioned_variables\n",
    "from tensorflow.python.ops import random_ops\n",
    "from tensorflow.python.ops import tensor_array_ops\n",
    "from tensorflow.python.ops import variable_scope as vs\n",
    "from tensorflow.python.ops import variables as tf_variables\n",
    "from tensorflow.python.platform import tf_logging as logging\n",
    "from tensorflow.python.util import nest\n",
    "from tensorflow.contrib.rnn.python.ops.core_rnn_cell import _Linear\n",
    "from matplotlib.colors import LinearSegmentedColormap"
   ]
  },
  {
   "cell_type": "code",
   "execution_count": 55,
   "metadata": {},
   "outputs": [
    {
     "name": "stdout",
     "output_type": "stream",
     "text": [
      "Extracting MNIST_data/train-images-idx3-ubyte.gz\n",
      "Extracting MNIST_data/train-labels-idx1-ubyte.gz\n",
      "Extracting MNIST_data/t10k-images-idx3-ubyte.gz\n",
      "Extracting MNIST_data/t10k-labels-idx1-ubyte.gz\n"
     ]
    }
   ],
   "source": [
    "# uplading mnist data \n",
    "\n",
    "old_v = tf.logging.get_verbosity()\n",
    "tf.logging.set_verbosity(tf.logging.ERROR)\n",
    "\n",
    "from tensorflow.examples.tutorials.mnist import input_data\n",
    "\n",
    "mnist = input_data.read_data_sets(\"MNIST_data/\", one_hot=True)\n",
    "train_data = mnist.train.images  # Returns np.array\n",
    "train_labels = np.asarray(mnist.train.labels, dtype=np.int32)\n",
    "eval_data = mnist.test.images  # Returns np.array\n",
    "eval_labels = np.asarray(mnist.test.labels, dtype=np.int32)\n",
    "\n",
    "tf.logging.set_verbosity(old_v)"
   ]
  },
  {
   "cell_type": "code",
   "execution_count": 66,
   "metadata": {},
   "outputs": [],
   "source": [
    "# Training Parameters\n",
    "learning_rate = 1e-5\n",
    "training_steps = 5000\n",
    "batch_size = 128\n",
    "display_step = 200\n",
    "test_len=128\n",
    "grad_clip=200\n",
    "# Network Parameters\n",
    "num_input = 1 # MNIST data input (img shape: 28*28)\n",
    "timesteps = 28*28 # timesteps\n",
    "num_hidden = 128 # hidden layer num of features\n",
    "num_classes = 10 # MNIST total classes (0-9 digits)\n",
    "\n",
    "# tf Graph input\n"
   ]
  },
  {
   "cell_type": "code",
   "execution_count": 67,
   "metadata": {},
   "outputs": [],
   "source": [
    "def RNN(x, weights, biases):\n",
    "\n",
    "    # Prepare data shape to match `rnn` function requirements\n",
    "    # Current data input shape: (batch_size, timesteps, n_input)\n",
    "    # Required shape: 'timesteps' tensors list of shape (batch_size, n_input)\n",
    "\n",
    "    # Unstack to get a list of 'timesteps' tensors of shape (batch_size, n_input)\n",
    "    \n",
    "    # using variable scope to initialize to identity \n",
    "    with tf.variable_scope('recurrent',initializer=tf.initializers.identity()) as scope: \n",
    "        # Define a lstm cell with tensorflow\n",
    "        lstm_cell = tf.contrib.rnn.BasicRNNCell(num_hidden,name='irnn')\n",
    "        # Get lstm cell output\n",
    "        outputs, states = tf.nn.dynamic_rnn(lstm_cell, x, dtype=tf.float32)\n",
    "\n",
    "    # Linear activation, using rnn inner loop last output\n",
    "    return tf.matmul(outputs[:,-1,:], weights['out']) + biases['out']"
   ]
  },
  {
   "cell_type": "code",
   "execution_count": 68,
   "metadata": {},
   "outputs": [],
   "source": [
    "tf.reset_default_graph()\n",
    "graph=tf.Graph()\n",
    "with graph.as_default():\n",
    "    # Define weights\n",
    "    weights = {\n",
    "        'out': tf.Variable(tf.random_normal([num_hidden, num_classes]),name='output_weight')\n",
    "    }\n",
    "    biases = {\n",
    "        'out': tf.Variable(tf.random_normal([num_classes]),name='output_bias')\n",
    "    }\n",
    "    X = tf.placeholder(\"float\", [None, timesteps, num_input])\n",
    "    Y = tf.placeholder(\"float\", [None, num_classes])\n",
    "    logits = RNN(X, weights, biases)\n",
    "    prediction = tf.nn.softmax(logits)\n",
    "    variable_names=[v.name for v in tf.trainable_variables()]\n",
    "    # Define loss and optimizer\n",
    "    loss_op = tf.reduce_mean(tf.nn.softmax_cross_entropy_with_logits_v2(\n",
    "    logits=logits, labels=Y))\n",
    "    optimizer = tf.train.RMSPropOptimizer(learning_rate=learning_rate)\n",
    "    # compute gradients \n",
    "    grads_and_vars=optimizer.compute_gradients(loss_op)\n",
    "    # clip the gradient based on norm clipping:  g^ <-- threshold/l2_norm(g^)*g^\n",
    "    cropped_grads_and_vars=[(tf.clip_by_norm(grad, 2.0),var) if  np.unicode_.find(var.name,'output')==-1 else (grad,var) for grad,var in grads_and_vars]\n",
    "    train_op = optimizer.minimize(loss_op)\n",
    "    # Evaluate model (with test logits, for dropout to be disabled)\n",
    "    correct_pred = tf.equal(tf.argmax(prediction, 1), tf.argmax(Y, 1))\n",
    "    accuracy = tf.reduce_mean(tf.cast(correct_pred, tf.float32))\n",
    "    # Initialize the variables (i.e. assign their default value)\n",
    "    init = tf.global_variables_initializer()\n",
    "        # predictions \n",
    "        #prediction=tf.nn.softmax(logits)\n",
    "    tf.summary.histogram('prediction',prediction+1e-8)\n",
    "    tf.summary.histogram('logits',logits+1e-8)\n",
    "    tf.summary.scalar('loss',loss_op)\n",
    "    merged_summary_op=tf.summary.merge_all()\n",
    "    # define loss \n",
    "        #loss_op=tf.reduce_mean(tf.nn.softmax_cross_entropy_with_logits_v2(logits=logits,labels=Y))\n",
    "        # optimization loop \n",
    "        #tf.summary.scalar('loss',loss_op)\n",
    "        #tf.summary.histogram('logits',logits)    \n",
    "        #optimizer=tf.train.AdamOptimizer(learning_rate=learning_rate)\n",
    "        #gradients=optimizer.compute_gradients(loss_op)\n",
    "        #capped_gvs = [(tf.clip_by_norm(grad, 1.), var) if not var.name.startswith(\"dense\") else (grad, var) for grad, var in gradients]\n",
    "        #for _, var in gradients:\n",
    "        #    if var.name.startswith(\"dense\"):\n",
    "        #        print(var.name)   \n",
    "        #train_op=optimizer.apply_gradients(capped_gvs)\n",
    "        # initialize variables \n",
    "    merged_summary_op=tf.summary.merge_all()\n",
    "        \n",
    "        #saver=tf.train.Saver()\n",
    "    "
   ]
  },
  {
   "cell_type": "code",
   "execution_count": 69,
   "metadata": {},
   "outputs": [
    {
     "name": "stdout",
     "output_type": "stream",
     "text": [
      "['variable: ', 'output_weight:0']\n",
      "['value: ', array([[-0.57610005, -0.86781466,  0.06146901, ...,  0.612929  ,\n",
      "        -0.5240201 , -1.372101  ],\n",
      "       [-0.16586345,  0.10811837,  0.1457429 , ...,  0.57598233,\n",
      "        -0.01288651,  1.6567582 ],\n",
      "       [-0.30377197,  2.4883525 ,  0.54930466, ...,  1.2439618 ,\n",
      "         1.3481966 ,  0.16031669],\n",
      "       ...,\n",
      "       [-0.6923631 , -0.28866172, -1.3959543 , ..., -0.05419074,\n",
      "        -1.1114011 ,  0.20392828],\n",
      "       [-1.4248531 ,  0.58069444,  1.3152072 , ..., -1.3075926 ,\n",
      "        -0.5103756 , -1.1841886 ],\n",
      "       [ 1.8997777 , -0.8674232 ,  0.62497854, ..., -0.8217903 ,\n",
      "         1.4718441 , -1.832837  ]], dtype=float32)]\n",
      "['variable: ', 0]\n",
      "['shape: ', (128, 10)]\n",
      "['variable: ', 'output_bias:0']\n",
      "['value: ', array([-1.0550154 ,  0.07599307,  0.59524196, -1.3103149 ,  1.4098233 ,\n",
      "        0.10235035, -0.8149388 , -2.5393212 , -0.90383595,  0.2311637 ],\n",
      "      dtype=float32)]\n",
      "['variable: ', 0]\n",
      "['shape: ', (10,)]\n",
      "['variable: ', 'recurrent/rnn/irnn/kernel:0']\n",
      "['value: ', array([[1., 0., 0., ..., 0., 0., 0.],\n",
      "       [0., 1., 0., ..., 0., 0., 0.],\n",
      "       [0., 0., 1., ..., 0., 0., 0.],\n",
      "       ...,\n",
      "       [0., 0., 0., ..., 0., 1., 0.],\n",
      "       [0., 0., 0., ..., 0., 0., 1.],\n",
      "       [0., 0., 0., ..., 0., 0., 0.]], dtype=float32)]\n",
      "['variable: ', -1]\n",
      "['shape: ', (129, 128)]\n",
      "['variable: ', 'recurrent/rnn/irnn/bias:0']\n",
      "['value: ', array([0., 0., 0., 0., 0., 0., 0., 0., 0., 0., 0., 0., 0., 0., 0., 0., 0.,\n",
      "       0., 0., 0., 0., 0., 0., 0., 0., 0., 0., 0., 0., 0., 0., 0., 0., 0.,\n",
      "       0., 0., 0., 0., 0., 0., 0., 0., 0., 0., 0., 0., 0., 0., 0., 0., 0.,\n",
      "       0., 0., 0., 0., 0., 0., 0., 0., 0., 0., 0., 0., 0., 0., 0., 0., 0.,\n",
      "       0., 0., 0., 0., 0., 0., 0., 0., 0., 0., 0., 0., 0., 0., 0., 0., 0.,\n",
      "       0., 0., 0., 0., 0., 0., 0., 0., 0., 0., 0., 0., 0., 0., 0., 0., 0.,\n",
      "       0., 0., 0., 0., 0., 0., 0., 0., 0., 0., 0., 0., 0., 0., 0., 0., 0.,\n",
      "       0., 0., 0., 0., 0., 0., 0., 0., 0.], dtype=float32)]\n",
      "['variable: ', -1]\n",
      "['shape: ', (128,)]\n"
     ]
    }
   ],
   "source": [
    "# verify initialization \n",
    "with tf.Session(graph=graph) as sess : \n",
    "    sess.run(init)\n",
    "    values = sess.run(variable_names)\n",
    "    for k, v in zip(variable_names,values):\n",
    "        print([\"variable: \" , k])\n",
    "        print([\"value: \" , v])\n",
    "        print([\"variable: \" , np.unicode_.find(k,'output')]) \n",
    "        print([\"shape: \" , v.shape])\n",
    "        #print(v) \n",
    "     "
   ]
  },
  {
   "cell_type": "code",
   "execution_count": 72,
   "metadata": {},
   "outputs": [],
   "source": [
    "log_dir = \"logs/irnn/bptt_gc_%d_eta_%d_batch_%d_run_%s\" %(grad_clip,learning_rate,batch_size, datetime.now().strftime(\"%Y%m%d_%H%M\"))\n",
    "Path(log_dir).mkdir(exist_ok=True, parents=True)\n",
    "filelist = [ f for f in os.listdir(log_dir) if f.endswith(\".local\") ]\n",
    "for f in filelist:\n",
    "    os.remove(os.path.join(log_dir, f))"
   ]
  },
  {
   "cell_type": "code",
   "execution_count": 73,
   "metadata": {},
   "outputs": [
    {
     "name": "stdout",
     "output_type": "stream",
     "text": [
      "Step: 2, Train Loss: 2.859, Train Acc: 0.070\n",
      "Optimization Finished!\n",
      "Testing Accuracy: 0.0703125\n"
     ]
    }
   ],
   "source": [
    "\n",
    "# write graph into tensorboard \n",
    "tb_writer = tf.summary.FileWriter(log_dir,graph)\n",
    "# run a training session \n",
    "with tf.Session(graph=graph) as sess:\n",
    "    sess.run(init)\n",
    "    for step in range(1,50):#range(1,training_steps+1):\n",
    "        batch_x, batch_y = mnist.train.next_batch(batch_size)\n",
    "        batch_x=batch_x.reshape((batch_size,timesteps,num_input))\n",
    "        # run optimizaer \n",
    "        sess.run(train_op,feed_dict={X:batch_x, Y:batch_y})\n",
    "        loss_train, acc_train= sess.run([loss_op, accuracy],feed_dict={X:batch_x, Y:batch_y})\n",
    "        merged_summary=sess.run(merged_summary_op,feed_dict={X:batch_x, Y:batch_y})\n",
    "        tb_writer.add_summary(merged_summary, global_step=step)\n",
    "        #tb_writer.flush()\n",
    "        # show interim performance \n",
    "        if step % display_step==0 or step==1 : \n",
    "            # get batch loss and accuracy \n",
    "            print('Step: {}, Train Loss: {:.3f}, Train Acc: {:.3f}'.format(\n",
    "            step + 1, loss_train, acc_train))\n",
    "            # write summary \n",
    "            #tb_writer.add_summary(acc,global_step=step)\n",
    "            #tb_writer.flush()\n",
    "            # evaluate performance on test data \n",
    "            test_X=mnist.test.images[:test_len].reshape((-1, timesteps, num_input))\n",
    "            test_Y=mnist.test.labels[:test_len]\n",
    "\n",
    "    print(\"Optimization Finished!\")\n",
    "    test_data = mnist.test.images[:test_len].reshape((-1, timesteps, num_input))\n",
    "    test_label = mnist.test.labels[:test_len]\n",
    "    print(\"Testing Accuracy:\", \\\n",
    "        sess.run(accuracy, feed_dict={X: test_data, Y: test_label}))"
   ]
  },
  {
   "cell_type": "code",
   "execution_count": 53,
   "metadata": {},
   "outputs": [
    {
     "data": {
      "text/plain": [
       "'logs/irnn/irnn/bptt_gc_100_eta_0_run_20190121_1220'"
      ]
     },
     "execution_count": 53,
     "metadata": {},
     "output_type": "execute_result"
    }
   ],
   "source": [
    "\n"
   ]
  },
  {
   "cell_type": "markdown",
   "metadata": {},
   "source": [
    "get the name of trainable variables in the graph"
   ]
  }
 ],
 "metadata": {
  "kernelspec": {
   "display_name": "Python(KeRNL)",
   "language": "python",
   "name": "kernl"
  },
  "language_info": {
   "codemirror_mode": {
    "name": "ipython",
    "version": 3
   },
   "file_extension": ".py",
   "mimetype": "text/x-python",
   "name": "python",
   "nbconvert_exporter": "python",
   "pygments_lexer": "ipython3",
   "version": "3.6.6"
  }
 },
 "nbformat": 4,
 "nbformat_minor": 2
}
