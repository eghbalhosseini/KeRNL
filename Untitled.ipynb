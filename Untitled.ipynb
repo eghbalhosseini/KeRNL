{
 "cells": [
  {
   "cell_type": "code",
   "execution_count": 1,
   "metadata": {},
   "outputs": [],
   "source": [
    "from __future__ import print_function\n",
    "import tensorflow as tf\n",
    "import numpy as np \n",
    "import matplotlib.pyplot as plt\n",
    "%matplotlib inline \n",
    "tf.enable_eager_execution()"
   ]
  },
  {
   "cell_type": "code",
   "execution_count": null,
   "metadata": {},
   "outputs": [],
   "source": [
    "# training parameters \n",
    "learning_rate=0.001\n",
    "training_steps=500\n",
    "batch_size=32\n",
    "display_step=20\n",
    "\n",
    "#network parameters \n",
    "num_input_units=80\n",
    "timesteps= 28*28\n",
    "num_classes=10\n",
    "num_hidden_units =200\n",
    "num_output_units =10\n"
   ]
  },
  {
   "cell_type": "code",
   "execution_count": null,
   "metadata": {},
   "outputs": [],
   "source": []
  },
  {
   "cell_type": "code",
   "execution_count": null,
   "metadata": {},
   "outputs": [],
   "source": [
    "state=tf.random_uniform(shape=[num_hidden_units,1])"
   ]
  },
  {
   "cell_type": "code",
   "execution_count": null,
   "metadata": {},
   "outputs": [],
   "source": [
    "spike_in=tf.where(tf.greater(tf.random_uniform(shape=[num_input_units,1]),1.0),\n",
    "                  tf.constant(1.0,shape=[num_input_units,1],dtype=tf.float32),\n",
    "                              tf.constant(0.0,shape=[num_input_units,1],dtype=tf.float32))"
   ]
  },
  {
   "cell_type": "code",
   "execution_count": null,
   "metadata": {},
   "outputs": [],
   "source": [
    "dt=tf.constant(1.0,dtype=tf.float32)"
   ]
  },
  {
   "cell_type": "code",
   "execution_count": null,
   "metadata": {},
   "outputs": [],
   "source": [
    " [spike,state]=LIFLayer(num_hidden_units,num_input_units,dt,spike_in,state)"
   ]
  },
  {
   "cell_type": "code",
   "execution_count": null,
   "metadata": {},
   "outputs": [],
   "source": [
    "def OutputLayer(k,j,spike_in,dt,state):\n",
    "    neurons=k\n",
    "    inputs=j\n",
    "    tau_m = 5.0\n",
    "    # tensor variables \n",
    "    V_out = tf.contrib.eager.Variable(tf.constant(0.0,shape=[k,1],dtype=tf.float32),name='V_out')\n",
    "    W_out = tf.contrib.eager.Variable(tf.random_normal(shape=[k,j],mean=0.0,stddev=0.1,dtype=tf.float32),name='W_out')\n",
    "    G_out= tf.contrib.eager.Variable(tf.ones(shape=[k,1],dtype=tf.float32),name='G_out')\n",
    "    \n",
    "    ## update membrane dynamics \n",
    "    dv_out=tf.divide(state,tau_m)\n",
    "    V_temp=tf.subtract(state,dv_out*dt)\n",
    "    V_update=tf.clip_by_value(V_temp,tf.constant(0.0,shape=[k,1]),tf.constant(100.0,shape=[k,1]))\n",
    "    spike_in_float=tf.cast(spike_in,tf.float32)\n",
    "    spike_temp=tf.transpose(tf.tile(spike_in_float,[1,k]))\n",
    "    weight_update=tf.multiply(W_out,spike_temp)\n",
    "    G_update=tf.reduce_sum(weight_update, 1, keepdims=True)\n",
    "    # not sure about this step\n",
    "    v_membrane = tf.add(V_update,G_update)\n",
    "    return v_membrane\n"
   ]
  },
  {
   "cell_type": "code",
   "execution_count": null,
   "metadata": {},
   "outputs": [],
   "source": [
    "spike_rec=tf.where(tf.greater(tf.random_uniform(shape=[num_hidden_units,1]),0.5),\n",
    "                  tf.constant(1.0,shape=[num_hidden_units,1],dtype=tf.float32),\n",
    "                              tf.constant(0.0,shape=[num_hidden_units,1],dtype=tf.float32))\n",
    "state_out=tf.random_uniform(shape=[num_output_units,1])"
   ]
  },
  {
   "cell_type": "code",
   "execution_count": null,
   "metadata": {},
   "outputs": [],
   "source": [
    "Vout = OutputLayer(num_output_units,num_hidden_units,spike_rec,dt,state_out)\n"
   ]
  },
  {
   "cell_type": "code",
   "execution_count": null,
   "metadata": {},
   "outputs": [],
   "source": [
    "with tf.GradientTape() as t:\n",
    "    t.watch(spike_rec)\n",
    "    Vout = OutputLayer(num_output_units,num_hidden_units,spike_rec,dt,state_out)\n",
    "\n",
    "dz_dx = t.gradient(Vout, spike_rec) \n"
   ]
  },
  {
   "cell_type": "code",
   "execution_count": null,
   "metadata": {},
   "outputs": [],
   "source": []
  },
  {
   "cell_type": "code",
   "execution_count": null,
   "metadata": {},
   "outputs": [],
   "source": []
  },
  {
   "cell_type": "code",
   "execution_count": null,
   "metadata": {},
   "outputs": [],
   "source": [
    "spike_rec=tf.where(tf.greater(tf.random_uniform(shape=[num_hidden_units,1]),0.5),\n",
    "                  tf.constant(1.0,shape=[num_hidden_units,1],dtype=tf.float32),\n",
    "                              tf.constant(0.0,shape=[num_hidden_units,1],dtype=tf.float32))\n",
    "x = tf.random_uniform(shape=[num_output_units,1])\n",
    "W_o = tf.contrib.eager.Variable(tf.random_normal(shape=[num_output_units,num_hidden_units],mean=0.0,stddev=0.1,dtype=tf.float32))\n",
    "\n",
    "with tf.GradientTape() as t:\n",
    "  t.watch(x)\n",
    "  y=tf.divide(x,5.0)\n",
    "  z=tf.subtract(x,y*dt)\n",
    "  z1=tf.clip_by_value(z,tf.constant(0.0,shape=[num_output_units,1]),tf.constant(0.5,shape=[num_output_units,1]))\n",
    "  z2=tf.cast(z1,tf.float64)\n",
    "  sp=tf.cast(spike_rec,tf.float32)\n",
    "  sp1=tf.transpose(tf.tile(sp,[1,num_output_units]))\n",
    "  w1=tf.multiply(W_o,sp1)\n",
    "  G_up=tf.reduce_sum(w1, 1, keepdims=True) \n",
    "  v_mem = tf.divide(z1,G_up)\n",
    "# Derivative of z with respect to the original input tensor x\n",
    "dz_dx = t.gradient(z2, x)\n",
    "dz_dx\n"
   ]
  },
  {
   "cell_type": "code",
   "execution_count": null,
   "metadata": {},
   "outputs": [],
   "source": [
    "state=tf.clip_by_value(tf.add(tf.random_uniform(shape=[num_hidden_units,1]),tf.constant(.5,shape=[num_hidden_units,1])),0,1)"
   ]
  },
  {
   "cell_type": "code",
   "execution_count": null,
   "metadata": {},
   "outputs": [],
   "source": [
    "\n",
    "[spike,state]=LIFLayer(num_hidden_units,num_input_units,dt,spike_in,state)\n"
   ]
  },
  {
   "cell_type": "code",
   "execution_count": null,
   "metadata": {},
   "outputs": [],
   "source": []
  },
  {
   "cell_type": "code",
   "execution_count": null,
   "metadata": {},
   "outputs": [],
   "source": [
    "with tf.GradientTape() as t:\n",
    "    t.watch(spike_rec)\n",
    "    v_update=tf.where(tf.cast(spike_rec,tf.bool),tf.constant(0.0,shape=[num_hidden_units,1],dtype=tf.float32),state)\n",
    "    v_update1=tf.subtract(state,tf.multiply(spike_rec,tf.constant(1.0,shape=[num_hidden_units,1],dtype=tf.float32)))\n",
    "    Spike_temp=tf.transpose(tf.tile(spike_rec,[1,num_hidden_units]))\n",
    "dz_dx = t.gradient(Spike_temp, spike_rec) \n",
    "#plt.figure()\n",
    "#plt.subplot(3,1,1)\n",
    "#plt.plot(v_update1.numpy())\n",
    "#plt.subplot(3,1,2)\n",
    "#plt.plot(v_update.numpy())\n",
    "#plt.subplot(3,1,3)\n",
    "#plt.plot(state.numpy())"
   ]
  },
  {
   "cell_type": "code",
   "execution_count": null,
   "metadata": {},
   "outputs": [],
   "source": [
    "def LIFLayer(n,m,dt,Spike_in,state):\n",
    "    neurons=n\n",
    "    inputs=m\n",
    "    tau_m = 5.0\n",
    "    v_theta = 1.0\n",
    "    v_reset = 0.0\n",
    "    tau_s = 5.0\n",
    "    tau_refract = 3.0\n",
    "    # tensor variables \n",
    "    V = tf.contrib.eager.Variable(tf.constant(0.0,shape=[n,1],dtype=tf.float32),name='V')\n",
    "    Spike = tf.contrib.eager.Variable(tf.constant(v_reset,shape=[n,1],dtype=tf.float32),name='Spike')\n",
    "    W_rec = tf.contrib.eager.Variable(tf.random_normal(shape=[n,n],mean=1.0,stddev=0.1,dtype=tf.float32),name='W_rec')\n",
    "    W_in = tf.contrib.eager.Variable(tf.random_normal(shape=[n,m],mean=1.0,stddev=0.1,dtype=tf.float32),name='W_in')\n",
    "    G=tf.contrib.eager.Variable(tf.ones(shape=[n,1],dtype=tf.float32),name='G')\n",
    "    S=tf.contrib.eager.Variable(tf.zeros(shape=[n,n],dtype=tf.float32),name='S')\n",
    "    G_in=tf.contrib.eager.Variable(tf.ones(shape=[n,1],dtype=tf.float32),name='G_in')\n",
    "    S_in=tf.contrib.eager.Variable(tf.zeros(shape=[n,m],dtype=tf.float32),name='S_in')\n",
    "    I_syn=tf.contrib.eager.Variable(tf.ones(shape=[n,1],dtype=tf.float32),name='I_syn')\n",
    "    t_reset=tf.contrib.eager.Variable(tf.ones(shape=[n,1],dtype=tf.float32),name='t_reset')\n",
    "    \n",
    "    # subfunctions \n",
    "    @tf.custom_gradient\n",
    "    def calculate_crossing_op(x):\n",
    "        x_norm=tf.divide(tf.subtract(x,tf.constant(v_theta,shape=[n,1])),\n",
    "                         tf.constant(v_theta,shape=[n,1]))\n",
    "        temp=tf.greater_equal(x,tf.constant(v_theta,shape=[n,1],dtype=tf.float32))\n",
    "        def grad(dy):            \n",
    "            return tf.maximum(tf.constant(0.0,dtype=tf.float32),tf.subtract(tf.constant(1.0,dtype=tf.float32),tf.abs(x_norm)))  \n",
    "        return tf.cast(temp,tf.float32), grad\n",
    "\n",
    "    ## spiking neuron dynamics \n",
    "    Spike=calculate_crossing_op(state)\n",
    "    v_update=tf.subtract(state,tf.multiply(tf.cast(Spike,tf.float32),tf.constant(v_theta,shape=[n,1],dtype=tf.float32)))\n",
    "    ## update conductance for recurrent spikes \n",
    "    dS_op=tf.divide(S,tau_s)\n",
    "    dS_in_op=tf.divide(S_in,tau_s)\n",
    "    S_temp=tf.subtract(S,dS_op*dt)\n",
    "    S_in_temp=tf.subtract(S_in,dS_in_op*dt)\n",
    "    S_op=tf.clip_by_value(S_temp,tf.constant(0.0,shape=[n,n]),tf.constant(100.0,shape=[n,n]))\n",
    "    S_in_op=tf.clip_by_value(S_in_temp,tf.constant(0.0,shape=[n,m]),tf.constant(100.0,shape=[n,m]))\n",
    "    Spike_op_float=tf.cast(Spike,tf.float32)\n",
    "    Spike_in_op_float=tf.cast(Spike_in,tf.float32)\n",
    "    Spike_ax=tf.clip_by_value(tf.subtract(tf.transpose(tf.tile(Spike_op_float,[1,n])),\n",
    "                                            tf.eye(n,dtype=tf.float32)),0.0,100.0)\n",
    "\n",
    "    Spike_in_temp=tf.transpose(tf.tile(Spike_in_op_float,[1,n]))\n",
    "    Spike_in_ax=Spike_in_temp\n",
    "    S_update= tf.add(S,Spike_ax)\n",
    "    S_in_update=tf.add(S_in,Spike_in_ax)\n",
    "    G_op=tf.reduce_sum(tf.multiply(W_rec,S_update), 1, keepdims=True)\n",
    "    G_in_op=tf.reduce_sum(tf.multiply(W_in,S_in_update), 1, keepdims=True)\n",
    "    I_input=tf.add(tf.multiply(G_op,v_update),tf.multiply(G_in_op,v_update))\n",
    "    ## update voltages\n",
    "    # find neurons in refractory \n",
    "    t_subtract= tf.subtract(t_reset,tf.constant(1.0,shape=[n,1]))\n",
    "    t_margin=tf.clip_by_value(t_subtract,0.0,100)\n",
    "    t_reset_update=tf.add(t_margin,tf.multiply(Spike,tf.constant(v_theta,shape=[n,1],dtype=tf.float32)))\n",
    "    eligilible_update=tf.cast(tf.equal(t_reset_update,tf.constant(0.0,shape=[n,1])),tf.float32)\n",
    "    # update voltage\n",
    "    dV_op=tf.add(tf.constant(v_reset,shape=[n,1],dtype=tf.float32),tf.multiply(eligilible_update,\n",
    "                                                                               tf.divide(tf.subtract(I_input,v_update),tau_m)))\n",
    "    V_out=tf.add(v_update,tf.multiply(dV_op,dt))\n",
    "    return Spike, v_update\n",
    "        "
   ]
  },
  {
   "cell_type": "code",
   "execution_count": null,
   "metadata": {},
   "outputs": [],
   "source": [
    "[spike,state]=LIFLayer(num_hidden_units,num_input_units,dt,spike_in,state)"
   ]
  },
  {
   "cell_type": "code",
   "execution_count": null,
   "metadata": {},
   "outputs": [],
   "source": [
    "def test_gradient(x,n):\n",
    "    @tf.custom_gradient\n",
    "    def calculate_crossing_op(x):\n",
    "        x_norm=tf.divide(tf.subtract(x,tf.constant(1.0,shape=[n,1])),tf.constant(1.0,shape=[n,1]))\n",
    "        temp=tf.greater_equal(x,tf.constant(1.0,shape=[n,1],dtype=tf.float32))\n",
    "        def grad(dy):            \n",
    "            return tf.maximum(tf.constant(0.0,dtype=tf.float32),tf.subtract(tf.constant(1.0,dtype=tf.float32),tf.abs(x_norm)))  \n",
    "        return tf.cast(temp,tf.float32), grad\n",
    "    z = calculate_crossing_op(x)\n",
    "    return z \n",
    "\n",
    "x = tf.reshape(tf.linspace(-10.0, 10.0, 300, name=\"linspace\"),shape=[300,1])\n",
    "with tf.GradientTape() as t:\n",
    "    t.watch(x)\n",
    "    z = test_gradient(x,300)\n",
    "\n",
    "dz_dx = t.gradient(z, x) \n",
    "plt.figure(figsize=[15,10])\n",
    "plt.plot(x.numpy().flatten(),z.numpy().flatten())\n",
    "plt.plot(x.numpy(),dz_dx.numpy())"
   ]
  },
  {
   "cell_type": "code",
   "execution_count": null,
   "metadata": {},
   "outputs": [],
   "source": [
    "def test_gradient(x,Spike_in,n,m):\n",
    "    tau_m = 5.0\n",
    "    v_theta = 1.0\n",
    "    v_reset = 0.0\n",
    "    tau_s = 5.0\n",
    "    tau_refract = 3.0\n",
    "    S=tf.contrib.eager.Variable(tf.zeros(shape=[n,n],dtype=tf.float32),name='S')\n",
    "    S_in=tf.contrib.eager.Variable(tf.zeros(shape=[n,m],dtype=tf.float32),name='S_in')\n",
    "    W_rec = tf.contrib.eager.Variable(tf.random_normal(shape=[n,n],mean=0.0,stddev=0.1,dtype=tf.float32),name='W_rec')\n",
    "    W_in = tf.contrib.eager.Variable(tf.random_normal(shape=[n,m],mean=1.0,stddev=0.1,dtype=tf.float32),name='W_in')\n",
    "    t_reset=tf.contrib.eager.Variable(tf.ones(shape=[n,1],dtype=tf.float32),name='t_reset')\n",
    "    @tf.custom_gradient\n",
    "    def calculate_crossing_op(x):\n",
    "        x_norm=tf.divide(tf.subtract(x,tf.constant(1.0,shape=[n,1])),tf.constant(1.0,shape=[n,1]))\n",
    "        temp=tf.greater_equal(x,tf.constant(1.0,shape=[n,1],dtype=tf.float32))\n",
    "        def grad(dy):            \n",
    "            return tf.maximum(tf.constant(0.0,dtype=tf.float32),tf.subtract(tf.constant(1.0,dtype=tf.float32),tf.abs(x_norm)))  \n",
    "        return tf.cast(temp,tf.float32), grad\n",
    "    Spike=calculate_crossing_op(x)\n",
    "    v_update=tf.subtract(x,tf.multiply(tf.cast(Spike,tf.float32),tf.constant(1.0,shape=[n,1],dtype=tf.float32)))\n",
    "    ## update conductance for recurrent spikes \n",
    "    dS_op=tf.divide(S,3.0)\n",
    "    dS_in_op=tf.divide(S_in,tau_s)\n",
    "    S_temp=tf.subtract(S,dS_op*dt)\n",
    "    S_in_temp=tf.subtract(S_in,dS_in_op*dt)\n",
    "    S_op=tf.clip_by_value(S_temp,tf.constant(0.0,shape=[n,n]),tf.constant(100.0,shape=[n,n]))\n",
    "    S_in_op=tf.clip_by_value(S_in_temp,tf.constant(0.0,shape=[n,m]),tf.constant(100.0,shape=[n,m]))\n",
    "    Spike_op_float=tf.cast(Spike,tf.float32)\n",
    "    Spike_in_op_float=tf.cast(Spike_in,tf.float32)\n",
    "    Spike_ax=tf.clip_by_value(tf.subtract(tf.transpose(tf.tile(Spike_op_float,[1,n])),\n",
    "                                            tf.eye(n,dtype=tf.float32)),0.0,100.0)\n",
    "\n",
    "    Spike_in_temp=tf.transpose(tf.tile(Spike_in_op_float,[1,n]))\n",
    "    Spike_in_ax=Spike_in_temp\n",
    "    S_update= tf.add(S,Spike_ax)\n",
    "    S_in_update=tf.add(S_in,Spike_in_ax)\n",
    "    G_op=tf.reduce_sum(tf.multiply(W_rec,S_update), 1, keepdims=True)\n",
    "    G_in_op=tf.reduce_sum(tf.multiply(W_in,S_in_update), 1, keepdims=True)\n",
    "    I_input=tf.add(tf.multiply(G_op,v_update),tf.multiply(G_in_op,v_update))\n",
    "\n",
    "    ## update voltages\n",
    "    # find neurons in refractory \n",
    "    t_subtract= tf.subtract(t_reset,tf.constant(1.0,shape=[n,1]))\n",
    "    \n",
    "    t_margin=tf.clip_by_value(t_subtract,0.0,100)\n",
    "    t_reset_update=tf.add(t_margin,tf.multiply(Spike,tf.constant(v_theta,shape=[n,1],dtype=tf.float32)))\n",
    "\n",
    "    eligilible_update=tf.cast(tf.equal(t_reset_update,tf.constant(0.0,shape=[n,1])),tf.float32)\n",
    "#     # update voltage\n",
    "    dV_op=tf.add(tf.constant(v_reset,shape=[n,1],dtype=tf.float32),tf.multiply(eligilible_update,\n",
    "                                                                                tf.divide(tf.subtract(I_input,v_update),tau_m)))\n",
    "\n",
    "    V_out=tf.add(v_update,tf.multiply(dV_op,dt))\n",
    "    return V_out\n",
    "\n",
    "x = tf.reshape(tf.linspace(-10.0, 10.0, 200, name=\"linspace\"),shape=[200,1])\n",
    "with tf.GradientTape() as t:\n",
    "    t.watch(x)\n",
    "    z = test_gradient(x,spike_in,200,num_input_units)\n",
    "\n",
    "dz_dx = t.gradient(z, x) \n",
    "#plt.figure(figsize=[15,10])\n",
    "#plt.plot(x.numpy().flatten(),z.numpy().flatten())\n",
    "#plt.plot(x.numpy(),dz_dx.numpy())\n",
    "\n",
    "\n"
   ]
  },
  {
   "cell_type": "code",
   "execution_count": null,
   "metadata": {},
   "outputs": [],
   "source": [
    "W_test=tf.get_variable('W_test',shape=[10,10],dtype=tf.float32,initializer=tf.random_normal_initializer)"
   ]
  },
  {
   "cell_type": "code",
   "execution_count": null,
   "metadata": {},
   "outputs": [],
   "source": [
    "def _calcualte_crossings(x,threshold,output_size):\n",
    "    \"\"\"input :x : a 2D tensor with batch x n \n",
    "    outputs a tensor with the same size as x \n",
    "    and values of 0 or 1 depending on comparison between \n",
    "    x and threshold\"\"\" \n",
    "    dtype=x.dtype\n",
    "    shape=x.get_shape()\n",
    "    total_x_size=shape[1].value\n",
    "    thresholds=tf.constant(threshold,shape=[total_x_size,output_size],dtype=dtype)\n",
    "    # if it has one row \n",
    "    res=tf.greater_equal(x,thresholds,dtype=tf.float32)\n",
    "    return res"
   ]
  },
  {
   "cell_type": "code",
   "execution_count": null,
   "metadata": {},
   "outputs": [],
   "source": [
    "class SpikingRnnCell(tf.contrib.rnn.RNNCell):\n",
    "    # input and output of the network are spikes\n",
    "    # states of the network are membrane voltage and synaptic input S \n",
    "    def __init__(self,num_units,tau_m=5.0,v_theta=1.0,v_reset=0.0,tau_s=5.0,tau_refract=3.0,reuse=None):\n",
    "        super(SpikingRnnCell,self).__init__(_reuse=reuse)\n",
    "        self.num_units=num_units\n",
    "        self.tau_m=tau_m\n",
    "        self.v_theta=v_theta\n",
    "        self.v_reset=v_reset\n",
    "        self.tau_s=tau_s\n",
    "        self.tau_refract=tau_refract\n",
    "        self._weight_linear=None\n",
    "        \n",
    "        # variables \n",
    "        \n",
    "    @property\n",
    "    def state_size(self):\n",
    "        return self.num_units\n",
    "    @property\n",
    "    def output_size(self):\n",
    "        return 1\n",
    "    \n",
    "        \n",
    "    #call routine is used by tensorflow to compute the output and next state of the network,\n",
    "    def __call__(self,inputs,state):\n",
    "        \n",
    "        #output is some funtion of states\n",
    "        # first slice up the state into three vectors, \n",
    "        v_mem=tf.slice(state,[0,0],[self.num_units,1])\n",
    "        g_mem=tf.slice(state,[self.num_units,0],[self.num_units,1])\n",
    "        t_mem=tf.slice(state,[2*self.num_units,0],[self.num_units,1])\n",
    "        #\n",
    "        spike=tf.cast(tf.greater_equal(v_mem,tf.constant(self.v_theta,shape=[self.state_size,1],dtype=tf.float32)),tf.float32)\n",
    "        v_update=tf.subtract(v_mem,tf.multiply(tf.cast(spike,tf.float32),\n",
    "                                               tf.constant(self.v_theta,shape=[self.num_units,1],dtype=tf.float32)))\n",
    "        #\n",
    "        #spike_rec=tf.clip_by_value(tf.subtract(tf.transpose(tf.tile(spike,[1,self.num_units])),\n",
    "        #                                    tf.eye(self.num_units,dtype=tf.float32)),0.0,100.0)\n",
    "        #spike_in=tf.transpose(tf.tile(tf.cast(inputs,tf.float32),[1,self.num_units]))\n",
    "        if self._weight_linear is None:\n",
    "            self._weight_linear=_Linear([inputs,spike],self.num_units,False)\n",
    "            \n",
    "        g_update=self._weight_linear([spike,inputs])\n",
    "        \n",
    "        \n",
    "        #g_update=tf.add(tf.reduce_sum(tf.multiply(self.W_rec,spike_rec), 1, keepdims=True),\n",
    "        #                tf.reduce_sum(tf.multiply(self.W_in,spike_in), 1, keepdims=True))\n",
    "        #\n",
    "        dg_mem=tf.subtract(g_mem,tf.divide(g_mem,self.tau_s))\n",
    "        #g_mem_new=tf.add(g_update,tf.subtract(g_mem,dg_mem))\n",
    "        g_mem_new=g_update\n",
    "        \n",
    "        #\n",
    "        if  np.not_equal(g_update.get_shape()[0],self.state_size) :\n",
    "            raise NotImplementedError(\"Abstract method\")\n",
    "        \n",
    "        I_input=tf.multiply(tf.transpose(g_update),v_update)\n",
    "        #                \n",
    "        t_subtract=tf.subtract(t_mem,tf.constant(1.0,shape=[self.num_units,1]))\n",
    "        t_margin=tf.clip_by_value(t_subtract,0.0,100.0)\n",
    "        t_mem_new=tf.add(t_margin,tf.multiply(spike,tf.constant(self.tau_refract,shape=[self.num_units,1],dtype=tf.float32)))\n",
    "        update_trace=tf.cast(tf.equal(t_mem_new,tf.constant(0.0,shape=[self.num_units,1])),tf.float32)\n",
    "        #\n",
    "        dv_mem=tf.add(tf.constant(self.v_reset,shape=[self.num_units,1],dtype=tf.float32),\n",
    "                      tf.multiply(update_trace,tf.divide(tf.subtract(I_input,v_update),self.tau_m)))\n",
    "        v_mem_new=tf.add(v_update,dv_mem)\n",
    "\n",
    "        return spike, tf.concat([v_mem_new,g_mem_new,t_mem_new],0)\n",
    "    \n",
    "    ## crossing fucntion \n",
    "    \n",
    "    #def calculate_crossing_op(self,x):\n",
    "    #    x_norm=tf.divide(tf.subtract(x,tf.constant(self.v_theta,shape=[self.state_size,1])),\n",
    "    #                     tf.constant(self.v_theta,shape=[self.state_size,1]))\n",
    "    #    temp=tf.greater_equal(x,tf.constant(self.v_theta,shape=[self.state_size,1],dtype=tf.float32))\n",
    "    #    def grad(dy):            \n",
    "    #        return tf.maximum(tf.constant(0.0,dtype=tf.float32),tf.subtract(tf.constant(1.0,dtype=tf.float32),tf.abs(x_norm)))  \n",
    "    #    return temp, grad\n",
    "\n"
   ]
  },
  {
   "cell_type": "code",
   "execution_count": null,
   "metadata": {},
   "outputs": [],
   "source": [
    "def _calcualte_crossings(x,threshold):\n",
    "    \"\"\"input :x : a 2D tensor with batch x n \n",
    "    outputs a tensor with the same size as x \n",
    "    and values of 0 or 1 depending on comparison between \n",
    "    x and threshold\"\"\" \n",
    "    @tf.custom_gradient\n",
    "    def crossings(x):\n",
    "        dtype=x.dtype\n",
    "        shape=x.get_shape()\n",
    "        thresholds=tf.constant(threshold,shape=[shape[0].value,shape[1].value],dtype=dtype)\n",
    "        # if it has one row \n",
    "        res=tf.greater_equal(x,thresholds)\n",
    "        def grad(dy):\n",
    "            # calculate 1-|x|\n",
    "            temp=1-tf.abs(x)\n",
    "            dyres=tf.maximum(temp,0.0)\n",
    "            return dyres\n",
    "        return tf.cast(res,dtype=dtype), grad\n",
    "    z=crossings(x)\n",
    "    return z "
   ]
  },
  {
   "cell_type": "code",
   "execution_count": null,
   "metadata": {},
   "outputs": [],
   "source": [
    "x=tf.random_normal(mean=1,stddev=.5,shape=[1,100])\n",
    "x = tf.reshape(tf.linspace(-10.0, 10.0, 300, name=\"linspace\"),shape=[1,300])"
   ]
  },
  {
   "cell_type": "code",
   "execution_count": null,
   "metadata": {},
   "outputs": [],
   "source": [
    "z = _calcualte_crossings(x,1.0)"
   ]
  },
  {
   "cell_type": "code",
   "execution_count": null,
   "metadata": {},
   "outputs": [],
   "source": []
  },
  {
   "cell_type": "code",
   "execution_count": null,
   "metadata": {},
   "outputs": [],
   "source": [
    "tf.scalar_mul(5.0,z)"
   ]
  },
  {
   "cell_type": "code",
   "execution_count": null,
   "metadata": {},
   "outputs": [],
   "source": [
    "from tensorflow.python.ops import variable_scope as vs\n",
    "def _tensor_linear(x,output_size,w_type):\n",
    "    \"\"\"input - x : a 3D tensor with batch x n x m \n",
    "    w_type is a string indicating with weight is being process : W_in or W_rec\n",
    "    y is a 2D with size batch x m\n",
    "    outputs a tensor  with size batch x output_size\n",
    "    \"\"\" \n",
    "    shape_x=x.get_shape()\n",
    "    # \n",
    "    scope=vs.get_variable_scope()\n",
    "    with vs.variable_scope(scope) as outer_scope:\n",
    "        if tf.strings.regex_full_match(w_type,_INPUT_WEIGHT_NAME):\n",
    "            weight=tf.get_variable(_INPUT_WEIGHT_NAME,[shape_x[1],shape_x[2]]) # [ n x m]\n",
    "        elif tf.strings.regex_full_match(w_type,_RECURRENT_WEIGHT_NAME):\n",
    "            weight=tf.get_variable(_RECURRENT_WEIGHT_NAME,[shape_x[1],shape_x[2]]) # [n x n]\n",
    "        else:\n",
    "            raise ValueError(\"expecting W_rec or W_in as weight input\")\n",
    "        #\n",
    "        # expand x to be a 2D tensor with (batch x n) x m dimension\n",
    "        x_aux=tf.reshape(x,[-1,shape_x[2]])\n",
    "        # apply weights \n",
    "        res_aux=tf.matmul(x_aux,weight,transpose_b=True)\n",
    "        # sum along the last dimension\n",
    "        res_long=tf.reduce_sum(res_aux,tf.rank(res_aux)-1)\n",
    "        # reshape to match output size \n",
    "        res=tf.reshape(res_long,[-1,output_size])\n",
    "        return res\n",
    "\n",
    "_INPUT_WEIGHT_NAME = \"W_in\"\n",
    "_RECURRENT_WEIGHT_NAME = \"W_rec\"\n",
    "    "
   ]
  },
  {
   "cell_type": "code",
   "execution_count": null,
   "metadata": {},
   "outputs": [],
   "source": []
  },
  {
   "cell_type": "code",
   "execution_count": null,
   "metadata": {},
   "outputs": [],
   "source": []
  },
  {
   "cell_type": "code",
   "execution_count": null,
   "metadata": {},
   "outputs": [],
   "source": []
  },
  {
   "cell_type": "code",
   "execution_count": null,
   "metadata": {},
   "outputs": [],
   "source": [
    "a = tf.constant(np.arange(1, 13, dtype=np.float32),\n",
    "                shape=[2, 3, 2])"
   ]
  },
  {
   "cell_type": "code",
   "execution_count": null,
   "metadata": {},
   "outputs": [],
   "source": []
  },
  {
   "cell_type": "code",
   "execution_count": null,
   "metadata": {},
   "outputs": [],
   "source": [
    "\n",
    "a = tf.constant(np.arange(1.0, 13.0, dtype=np.int32),\n",
    "                shape=[2, 3, 2],dtype=tf.float32)\n",
    "a"
   ]
  },
  {
   "cell_type": "code",
   "execution_count": null,
   "metadata": {},
   "outputs": [],
   "source": [
    "W_rec=tf.contrib.eager.Variable(tf.constant(1.0,shape=[3,2]),name='W_rec')\n",
    "W_rec"
   ]
  },
  {
   "cell_type": "code",
   "execution_count": null,
   "metadata": {},
   "outputs": [],
   "source": [
    "w=tf.constant([[1,0,1],[0,1,0],[1,1,0]],dtype=tf.float32)"
   ]
  },
  {
   "cell_type": "code",
   "execution_count": null,
   "metadata": {},
   "outputs": [],
   "source": [
    "h=tf.matmul(b,w)"
   ]
  },
  {
   "cell_type": "code",
   "execution_count": null,
   "metadata": {},
   "outputs": [],
   "source": [
    "h=tf.reshape(h,[-1,3,3])"
   ]
  },
  {
   "cell_type": "code",
   "execution_count": null,
   "metadata": {},
   "outputs": [],
   "source": [
    "\n",
    "tf.matrix_set_diag(a, tf.zeros(a.shape[0:-1]), name=None)"
   ]
  },
  {
   "cell_type": "code",
   "execution_count": null,
   "metadata": {},
   "outputs": [],
   "source": [
    "embed = tf.reshape(embed, [-1, m])\n",
    "h = tf.matmul(embed, U)\n",
    "h = tf.reshape(h, [-1, n, c])\n"
   ]
  },
  {
   "cell_type": "code",
   "execution_count": null,
   "metadata": {},
   "outputs": [],
   "source": []
  },
  {
   "cell_type": "code",
   "execution_count": null,
   "metadata": {},
   "outputs": [],
   "source": []
  },
  {
   "cell_type": "code",
   "execution_count": null,
   "metadata": {},
   "outputs": [],
   "source": [
    "def _tensor_linear_rec_in(x,y,output_size):\n",
    "    \"\"\"input - x : a 3D tensor with batch x n x n \n",
    "    y is a 2D with size batch x m\n",
    "    outputs a tensor  with size batch x output_size\n",
    "    \"\"\" \n",
    "    shape_x=x.get_shape()\n",
    "    shape_y=y.get_shape()\n",
    "    # \n",
    "    scope=vs.get_variable_scope()\n",
    "    with vs.variable_scope(scope) as outer_scope:\n",
    "#        weight_rec=tf.get_variable(_RECURRENT_WEIGHT_NAME,[shape_x[1],shape_x[2]],\n",
    "#                                   initializer=tf.constant(1.0,shape=[shape_x[1],shape_x[2]])) # [n x n]\n",
    "#        weight_in=tf.get_variable(_INPUT_WEIGHT_NAME,[shape_y[1],shape_y[2]],\n",
    "#                                  initializer=tf.constant(0.0,shape=[shape_y[1],shape_y[2]])) # [n x m]\n",
    "        weight_rec=tf.get_variable(_RECURRENT_WEIGHT_NAME,\n",
    "                                   initializer=tf.constant(0.0,shape=[shape_x[1],shape_x[2]])) # [n x n]\n",
    "        weight_in=tf.get_variable(_INPUT_WEIGHT_NAME,\n",
    "                                  initializer=tf.constant(.5,shape=[shape_y[1],shape_y[2]])) # [n x m]\n",
    "\n",
    "        #\n",
    "        # apply_weights \n",
    "        #recurrent\n",
    "        res_rec_aux=tf.multiply(x,weight_rec)\n",
    "        res_rec_final=tf.reduce_sum(res_rec_aux,tf.rank(res_rec_aux)-1)\n",
    "        #input\n",
    "        res_in_aux=tf.multiply(y,weight_in)\n",
    "        res_in_final=tf.reduce_sum(res_in_aux,tf.rank(res_in_aux)-1)\n",
    "        # sum both \n",
    "        res=tf.add(res_in_final,res_rec_final)\n",
    "\n",
    "        return res\n",
    "\n",
    "_INPUT_WEIGHT_NAME = \"W_in\"\n",
    "_RECURRENT_WEIGHT_NAME = \"W_rec\""
   ]
  },
  {
   "cell_type": "code",
   "execution_count": null,
   "metadata": {},
   "outputs": [],
   "source": [
    "a = tf.constant(np.arange(1.0, 33.0, dtype=np.int32),\n",
    "                shape=[2, 4, 4],dtype=tf.float32)\n",
    "b = tf.constant(np.arange(1.0, 25.0, dtype=np.int32),\n",
    "                shape=[2, 4, 3],dtype=tf.float32)\n"
   ]
  },
  {
   "cell_type": "code",
   "execution_count": null,
   "metadata": {},
   "outputs": [],
   "source": [
    "a"
   ]
  },
  {
   "cell_type": "code",
   "execution_count": null,
   "metadata": {},
   "outputs": [],
   "source": [
    "tf.reduce_sum(b,tf.rank(b)-1)"
   ]
  },
  {
   "cell_type": "code",
   "execution_count": null,
   "metadata": {},
   "outputs": [],
   "source": [
    "_tensor_linear_rec_in(a,b,4)"
   ]
  },
  {
   "cell_type": "code",
   "execution_count": null,
   "metadata": {},
   "outputs": [],
   "source": [
    "def foo():\n",
    "  with tf.variable_scope(\"foo\", reuse=tf.AUTO_REUSE):\n",
    "    v = tf.get_variable(\"v\", [1])\n",
    "  return v\n",
    "\n",
    "v1 = foo()  # Creates v.\n",
    "v2 = foo()  # Gets the same, existing v.\n",
    "assert v1 == v2"
   ]
  },
  {
   "cell_type": "code",
   "execution_count": null,
   "metadata": {},
   "outputs": [],
   "source": [
    "w=tf.constant([[1.0,1.0,1.0,1.0],[1.0,1.0,1.0,1.0],[.5,.5,.5,.5],[.5,.5,.5,.5]])"
   ]
  },
  {
   "cell_type": "code",
   "execution_count": null,
   "metadata": {},
   "outputs": [],
   "source": [
    "w1=tf.constant([[1.0,1.0,1.0],[1.0,1.0,1.0],[.5,.5,.5],[.5,.5,.5]])"
   ]
  },
  {
   "cell_type": "code",
   "execution_count": null,
   "metadata": {},
   "outputs": [],
   "source": [
    "c=tf.multiply(a,w)\n"
   ]
  },
  {
   "cell_type": "code",
   "execution_count": null,
   "metadata": {},
   "outputs": [],
   "source": []
  },
  {
   "cell_type": "code",
   "execution_count": null,
   "metadata": {},
   "outputs": [],
   "source": [
    "def _tensor_expand_dim(x,y,output_size):\n",
    "    \"\"\"input - x : a 2D tensor with batch x n \n",
    "    y is a 2D with size batch x m\n",
    "    outputs is 3D tensor with size batch x n x n and batch x n x m \n",
    "    \"\"\" \n",
    "    shape_x=x.get_shape()\n",
    "    shape_y=y.get_shape()\n",
    "    # define a matrix for removing the diagonal in recurrent spikes \n",
    "    x_diag_fixer=tf.get_variable('x_diag_fixer',\n",
    "                                 initializer=tf.subtract(tf.constant(1.0,shape=[shape_x[1],shape_x[1]]),\n",
    "                                                    tf.eye(output_size))) # [n x n]\n",
    "    # expand x  \n",
    "    x_temp=tf.reshape(tf.tile(x,[1,output_size]),[-1,output_size,shape_x[1]])\n",
    "    # remove diagonal \n",
    "    x_expand=tf.multiply(x_temp,x_diag_fixer)\n",
    "    # expand y  \n",
    "    y_expand=tf.reshape(tf.tile(y,[1,output_size]),[-1,output_size,shape_y[1]])\n",
    "\n",
    "\n",
    "    return x_expand, y_expand\n"
   ]
  },
  {
   "cell_type": "code",
   "execution_count": null,
   "metadata": {},
   "outputs": [],
   "source": [
    "a=tf.constant([[1,0,0],[0,1,1],[0,0,1],[1,1,0]],dtype=tf.float32)"
   ]
  },
  {
   "cell_type": "code",
   "execution_count": null,
   "metadata": {},
   "outputs": [],
   "source": [
    "a"
   ]
  },
  {
   "cell_type": "code",
   "execution_count": null,
   "metadata": {},
   "outputs": [],
   "source": [
    "b=tf.constant([[1,0],[0,1],[0,0],[1,1]],dtype=tf.float32)\n",
    "b"
   ]
  },
  {
   "cell_type": "code",
   "execution_count": null,
   "metadata": {},
   "outputs": [],
   "source": [
    "a"
   ]
  },
  {
   "cell_type": "code",
   "execution_count": null,
   "metadata": {},
   "outputs": [],
   "source": [
    "a_expand,b_expand=_tensor_expand_dim(a,b,3)"
   ]
  },
  {
   "cell_type": "code",
   "execution_count": null,
   "metadata": {},
   "outputs": [],
   "source": [
    "a_expand"
   ]
  },
  {
   "cell_type": "code",
   "execution_count": null,
   "metadata": {},
   "outputs": [],
   "source": [
    "x_diag_fixer=tf.get_variable('x_diag_fixer',initializer=tf.subtract(tf.constant(1.0,shape=[3,3]),\n",
    "                                                    tf.eye(3))) # [n x n]\n"
   ]
  },
  {
   "cell_type": "code",
   "execution_count": null,
   "metadata": {},
   "outputs": [],
   "source": [
    "test=x_diag_fixer.get_shape()"
   ]
  },
  {
   "cell_type": "code",
   "execution_count": null,
   "metadata": {},
   "outputs": [],
   "source": [
    "np.array([2,2])"
   ]
  },
  {
   "cell_type": "code",
   "execution_count": null,
   "metadata": {},
   "outputs": [],
   "source": [
    "tf.greater_equal(a,1.0)"
   ]
  },
  {
   "cell_type": "code",
   "execution_count": null,
   "metadata": {},
   "outputs": [],
   "source": [
    "input_spikes=np.random.randint(2,size=[2,10,2])"
   ]
  },
  {
   "cell_type": "code",
   "execution_count": null,
   "metadata": {},
   "outputs": [],
   "source": [
    "input_spikes"
   ]
  },
  {
   "cell_type": "code",
   "execution_count": null,
   "metadata": {},
   "outputs": [],
   "source": [
    "input_spikes=np.random.randint(2,size=[2,10,1])"
   ]
  },
  {
   "cell_type": "code",
   "execution_count": null,
   "metadata": {},
   "outputs": [],
   "source": [
    "input_spikes.shape"
   ]
  },
  {
   "cell_type": "code",
   "execution_count": null,
   "metadata": {},
   "outputs": [],
   "source": [
    "tf_input_values = tf.constant(input_spikes, dtype=tf.float32)"
   ]
  },
  {
   "cell_type": "code",
   "execution_count": null,
   "metadata": {},
   "outputs": [],
   "source": []
  },
  {
   "cell_type": "code",
   "execution_count": null,
   "metadata": {},
   "outputs": [],
   "source": []
  },
  {
   "cell_type": "code",
   "execution_count": null,
   "metadata": {},
   "outputs": [],
   "source": []
  },
  {
   "cell_type": "code",
   "execution_count": null,
   "metadata": {},
   "outputs": [],
   "source": []
  },
  {
   "cell_type": "code",
   "execution_count": null,
   "metadata": {},
   "outputs": [],
   "source": [
    "\n"
   ]
  },
  {
   "cell_type": "code",
   "execution_count": 20,
   "metadata": {},
   "outputs": [],
   "source": [
    "inputs=tf.random_uniform([batch_size,num_of_inputs])\n",
    "batch_size=10\n",
    "num_of_inputs=1\n",
    "inputs=tf.random_uniform([batch_size,num_of_inputs])\n",
    "shape_x=np.array([batch_size,num_of_inputs])\n",
    "threshold_size=5\n",
    "weight=tf.concat([tf.constant(1.0,shape=[shape_x[0],threshold_size]),\n",
    "                                                              tf.constant(-1.0,shape=[shape_x[0],threshold_size])],\n",
    "                                                                axis=1\n",
    "                                                               )\n",
    "threshold=tf.constant([.2,.4,.6,.8,1],shape=[1,5])"
   ]
  },
  {
   "cell_type": "code",
   "execution_count": 18,
   "metadata": {},
   "outputs": [],
   "source": [
    "threshold=tf.constant([.2,.4,.6,.8,1],shape=[1,5])"
   ]
  },
  {
   "cell_type": "code",
   "execution_count": 43,
   "metadata": {},
   "outputs": [
    {
     "data": {
      "text/plain": [
       "<tf.Tensor: id=117, shape=(10, 5), dtype=float32, numpy=\n",
       "array([[0.2, 0.4, 0.6, 0.8, 1. ],\n",
       "       [0.2, 0.4, 0.6, 0.8, 1. ],\n",
       "       [0.2, 0.4, 0.6, 0.8, 1. ],\n",
       "       [0.2, 0.4, 0.6, 0.8, 1. ],\n",
       "       [0.2, 0.4, 0.6, 0.8, 1. ],\n",
       "       [0.2, 0.4, 0.6, 0.8, 1. ],\n",
       "       [0.2, 0.4, 0.6, 0.8, 1. ],\n",
       "       [0.2, 0.4, 0.6, 0.8, 1. ],\n",
       "       [0.2, 0.4, 0.6, 0.8, 1. ],\n",
       "       [0.2, 0.4, 0.6, 0.8, 1. ]], dtype=float32)>"
      ]
     },
     "execution_count": 43,
     "metadata": {},
     "output_type": "execute_result"
    }
   ],
   "source": [
    "threshold_expand=tf.matmul(tf.constant(1.0,shape=[shape_x[0],1]),threshold)\n",
    "threshold_expand"
   ]
  },
  {
   "cell_type": "markdown",
   "metadata": {},
   "source": [
    "do positive crossing first "
   ]
  },
  {
   "cell_type": "code",
   "execution_count": 33,
   "metadata": {},
   "outputs": [],
   "source": [
    "inputs_expand=tf.matmul(inputs,tf.constant(1.0,shape=[shape_x[1],threshold_size]))\n"
   ]
  },
  {
   "cell_type": "code",
   "execution_count": 44,
   "metadata": {},
   "outputs": [
    {
     "data": {
      "text/plain": [
       "<tf.Tensor: id=70, shape=(10, 1), dtype=float32, numpy=\n",
       "array([[0.48123205],\n",
       "       [0.64072   ],\n",
       "       [0.87536144],\n",
       "       [0.9062929 ],\n",
       "       [0.30992293],\n",
       "       [0.85932136],\n",
       "       [0.7297696 ],\n",
       "       [0.8608004 ],\n",
       "       [0.3014754 ],\n",
       "       [0.2128557 ]], dtype=float32)>"
      ]
     },
     "execution_count": 44,
     "metadata": {},
     "output_type": "execute_result"
    }
   ],
   "source": [
    "inputs"
   ]
  },
  {
   "cell_type": "code",
   "execution_count": 41,
   "metadata": {},
   "outputs": [],
   "source": [
    "positive_outputs=tf.cast(tf.greater(inputs_expand-threshold_expand,0),tf.float32)"
   ]
  },
  {
   "cell_type": "code",
   "execution_count": 42,
   "metadata": {},
   "outputs": [
    {
     "data": {
      "text/plain": [
       "<tf.Tensor: id=113, shape=(10, 5), dtype=float32, numpy=\n",
       "array([[1., 1., 0., 0., 0.],\n",
       "       [1., 1., 1., 0., 0.],\n",
       "       [1., 1., 1., 1., 0.],\n",
       "       [1., 1., 1., 1., 0.],\n",
       "       [1., 0., 0., 0., 0.],\n",
       "       [1., 1., 1., 1., 0.],\n",
       "       [1., 1., 1., 0., 0.],\n",
       "       [1., 1., 1., 1., 0.],\n",
       "       [1., 0., 0., 0., 0.],\n",
       "       [1., 0., 0., 0., 0.]], dtype=float32)>"
      ]
     },
     "execution_count": 42,
     "metadata": {},
     "output_type": "execute_result"
    }
   ],
   "source": [
    "positive_outputs"
   ]
  },
  {
   "cell_type": "code",
   "execution_count": 45,
   "metadata": {},
   "outputs": [],
   "source": [
    "negative_outputs=tf.cast(tf.greater(threshold_expand-inputs_expand,0),tf.float32)"
   ]
  },
  {
   "cell_type": "code",
   "execution_count": 46,
   "metadata": {},
   "outputs": [
    {
     "data": {
      "text/plain": [
       "<tf.Tensor: id=123, shape=(10, 5), dtype=float32, numpy=\n",
       "array([[0., 0., 1., 1., 1.],\n",
       "       [0., 0., 0., 1., 1.],\n",
       "       [0., 0., 0., 0., 1.],\n",
       "       [0., 0., 0., 0., 1.],\n",
       "       [0., 1., 1., 1., 1.],\n",
       "       [0., 0., 0., 0., 1.],\n",
       "       [0., 0., 0., 1., 1.],\n",
       "       [0., 0., 0., 0., 1.],\n",
       "       [0., 1., 1., 1., 1.],\n",
       "       [0., 1., 1., 1., 1.]], dtype=float32)>"
      ]
     },
     "execution_count": 46,
     "metadata": {},
     "output_type": "execute_result"
    }
   ],
   "source": [
    "negative_outputs "
   ]
  },
  {
   "cell_type": "code",
   "execution_count": 47,
   "metadata": {},
   "outputs": [
    {
     "data": {
      "text/plain": [
       "<tf.Tensor: id=126, shape=(10, 10), dtype=float32, numpy=\n",
       "array([[1., 1., 0., 0., 0., 0., 0., 1., 1., 1.],\n",
       "       [1., 1., 1., 0., 0., 0., 0., 0., 1., 1.],\n",
       "       [1., 1., 1., 1., 0., 0., 0., 0., 0., 1.],\n",
       "       [1., 1., 1., 1., 0., 0., 0., 0., 0., 1.],\n",
       "       [1., 0., 0., 0., 0., 0., 1., 1., 1., 1.],\n",
       "       [1., 1., 1., 1., 0., 0., 0., 0., 0., 1.],\n",
       "       [1., 1., 1., 0., 0., 0., 0., 0., 1., 1.],\n",
       "       [1., 1., 1., 1., 0., 0., 0., 0., 0., 1.],\n",
       "       [1., 0., 0., 0., 0., 0., 1., 1., 1., 1.],\n",
       "       [1., 0., 0., 0., 0., 0., 1., 1., 1., 1.]], dtype=float32)>"
      ]
     },
     "execution_count": 47,
     "metadata": {},
     "output_type": "execute_result"
    }
   ],
   "source": [
    "tf.concat([positive_outputs,negative_outputs],axis=1)"
   ]
  },
  {
   "cell_type": "code",
   "execution_count": 51,
   "metadata": {},
   "outputs": [
    {
     "data": {
      "text/plain": [
       "0.025"
      ]
     },
     "execution_count": 51,
     "metadata": {},
     "output_type": "execute_result"
    }
   ],
   "source": [
    "np.divide(1,40)"
   ]
  },
  {
   "cell_type": "code",
   "execution_count": 58,
   "metadata": {},
   "outputs": [],
   "source": [
    "a=np.linspace(np.divide(1,40),1,40)"
   ]
  },
  {
   "cell_type": "code",
   "execution_count": 62,
   "metadata": {},
   "outputs": [
    {
     "ename": "TypeError",
     "evalue": "Eager execution of tf.constant with unsupported shape (value has 2 elements, shape is (1, 40) with 40 elements).",
     "output_type": "error",
     "traceback": [
      "\u001b[0;31m---------------------------------------------------------------------------\u001b[0m",
      "\u001b[0;31mTypeError\u001b[0m                                 Traceback (most recent call last)",
      "\u001b[0;32m<ipython-input-62-a6e3ca1bbd12>\u001b[0m in \u001b[0;36m<module>\u001b[0;34m\u001b[0m\n\u001b[0;32m----> 1\u001b[0;31m \u001b[0mtf\u001b[0m\u001b[0;34m.\u001b[0m\u001b[0mconstant\u001b[0m\u001b[0;34m(\u001b[0m\u001b[0mtf\u001b[0m\u001b[0;34m.\u001b[0m\u001b[0mlinspace\u001b[0m\u001b[0;34m(\u001b[0m\u001b[0;36m1.0\u001b[0m\u001b[0;34m,\u001b[0m\u001b[0;36m2\u001b[0m\u001b[0;34m,\u001b[0m\u001b[0;36m2\u001b[0m\u001b[0;34m)\u001b[0m\u001b[0;34m,\u001b[0m\u001b[0mshape\u001b[0m\u001b[0;34m=\u001b[0m\u001b[0;34m[\u001b[0m\u001b[0;36m1\u001b[0m\u001b[0;34m,\u001b[0m\u001b[0;36m40\u001b[0m\u001b[0;34m]\u001b[0m\u001b[0;34m)\u001b[0m\u001b[0;34m\u001b[0m\u001b[0m\n\u001b[0m",
      "\u001b[0;32m~/anaconda3/envs/KeRNL/lib/python3.6/site-packages/tensorflow/python/framework/constant_op.py\u001b[0m in \u001b[0;36mconstant\u001b[0;34m(value, dtype, shape, name, verify_shape)\u001b[0m\n\u001b[1;32m    189\u001b[0m     raise TypeError(\"Eager execution of tf.constant with unsupported shape \"\n\u001b[1;32m    190\u001b[0m                     \u001b[0;34m\"(value has %d elements, shape is %s with %d elements).\"\u001b[0m \u001b[0;34m%\u001b[0m\u001b[0;34m\u001b[0m\u001b[0m\n\u001b[0;32m--> 191\u001b[0;31m                     (num_t, shape, shape.num_elements()))\n\u001b[0m\u001b[1;32m    192\u001b[0m   \u001b[0mg\u001b[0m \u001b[0;34m=\u001b[0m \u001b[0mops\u001b[0m\u001b[0;34m.\u001b[0m\u001b[0mget_default_graph\u001b[0m\u001b[0;34m(\u001b[0m\u001b[0;34m)\u001b[0m\u001b[0;34m\u001b[0m\u001b[0m\n\u001b[1;32m    193\u001b[0m   \u001b[0mtensor_value\u001b[0m \u001b[0;34m=\u001b[0m \u001b[0mattr_value_pb2\u001b[0m\u001b[0;34m.\u001b[0m\u001b[0mAttrValue\u001b[0m\u001b[0;34m(\u001b[0m\u001b[0;34m)\u001b[0m\u001b[0;34m\u001b[0m\u001b[0m\n",
      "\u001b[0;31mTypeError\u001b[0m: Eager execution of tf.constant with unsupported shape (value has 2 elements, shape is (1, 40) with 40 elements)."
     ]
    }
   ],
   "source": [
    "tf.constant(tf.linspace(1.0,2,2),shape=[1,40])"
   ]
  },
  {
   "cell_type": "code",
   "execution_count": 3,
   "metadata": {},
   "outputs": [
    {
     "data": {
      "text/plain": [
       "<tf.Tensor: id=12, shape=(10, 1), dtype=float32, numpy=\n",
       "array([[0.44275534],\n",
       "       [0.40095556],\n",
       "       [0.01633012],\n",
       "       [0.45121574],\n",
       "       [0.8441025 ],\n",
       "       [0.3720901 ],\n",
       "       [0.98024714],\n",
       "       [0.5562233 ],\n",
       "       [0.96396327],\n",
       "       [0.7534497 ]], dtype=float32)>"
      ]
     },
     "execution_count": 3,
     "metadata": {},
     "output_type": "execute_result"
    }
   ],
   "source": [
    "a=tf.random_uniform(shape=[10,1],dtype=tf.float32)\n",
    "a"
   ]
  },
  {
   "cell_type": "code",
   "execution_count": 4,
   "metadata": {},
   "outputs": [],
   "source": [
    "def _calcualte_crossings(x,threshold):\n",
    "    \"\"\"input :x : a 2D tensor with batch x n \n",
    "    outputs a tensor with the same size as x \n",
    "    and values of 0 or 1 depending on comparison between \n",
    "    x and threshold\"\"\" \n",
    "    @tf.custom_gradient\n",
    "    def crossings(x):\n",
    "        dtype=x.dtype\n",
    "        shape=x.get_shape()\n",
    "        thresholds=tf.constant(threshold,shape=[shape[0].value,shape[1].value],dtype=dtype)\n",
    "        # if it has one row \n",
    "        res=tf.greater_equal(x,thresholds)\n",
    "        def grad(dy):\n",
    "            # calculate 1-|x|\n",
    "            temp=1-tf.abs(x)\n",
    "            dyres=tf.maximum(temp,0.0)\n",
    "            return dyres\n",
    "        return tf.cast(res,dtype=dtype), grad\n",
    "    z=crossings(x)\n",
    "    return z \n"
   ]
  },
  {
   "cell_type": "code",
   "execution_count": 54,
   "metadata": {},
   "outputs": [
    {
     "data": {
      "text/plain": [
       "<tf.Tensor: id=352, shape=(5, 5), dtype=float32, numpy=\n",
       "array([[0.644151  , 0.8082472 , 0.8976548 , 0.6368902 , 0.6270969 ],\n",
       "       [0.9936013 , 0.02359486, 0.03668392, 0.5860578 , 0.5740315 ],\n",
       "       [0.09047401, 0.5755553 , 0.25272822, 0.11045039, 0.61225283],\n",
       "       [0.1290685 , 0.89660144, 0.06479812, 0.8622047 , 0.82242084],\n",
       "       [0.4016037 , 0.7659943 , 0.4539342 , 0.32376182, 0.4617684 ]],\n",
       "      dtype=float32)>"
      ]
     },
     "execution_count": 54,
     "metadata": {},
     "output_type": "execute_result"
    }
   ],
   "source": [
    "tf.set_random_seed(10)\n",
    "a=tf.random_uniform(shape=[5,5],dtype=tf.float32)\n",
    "threshold=tf.constant([.5,0,.1,.2,0],shape=[5,1])\n",
    "a"
   ]
  },
  {
   "cell_type": "code",
   "execution_count": 58,
   "metadata": {},
   "outputs": [
    {
     "data": {
      "text/plain": [
       "<tf.Tensor: id=378, shape=(5, 5), dtype=float32, numpy=\n",
       "array([[1., 1., 1., 1., 1.],\n",
       "       [1., 1., 1., 1., 1.],\n",
       "       [0., 1., 1., 1., 1.],\n",
       "       [0., 1., 0., 1., 1.],\n",
       "       [1., 1., 1., 1., 1.]], dtype=float32)>"
      ]
     },
     "execution_count": 58,
     "metadata": {},
     "output_type": "execute_result"
    }
   ],
   "source": [
    "tf.negative(tf.divide(tf.sign(threshold-a)-1,2))"
   ]
  },
  {
   "cell_type": "code",
   "execution_count": 30,
   "metadata": {},
   "outputs": [
    {
     "data": {
      "image/png": "[encoded data removed]",
      "text/plain": [
       "<Figure size 1080x720 with 1 Axes>"
      ]
     },
     "metadata": {
      "needs_background": "light"
     },
     "output_type": "display_data"
    }
   ],
   "source": [
    "\n",
    "\n",
    "\n",
    "import matplotlib.cm as cm\n",
    "plt.figure(figsize=[15,10])\n",
    "colors_map=cm.viridis(np.linspace(0,1,z.shape[0]))\n",
    "for t in range(z.shape[1]):\n",
    "    cross=np.argwhere(z[:,t])\n",
    "    plt.scatter(cross*0+t,cross,color=colors_map[cross.flatten(),:],s=4)\n",
    "    "
   ]
  },
  {
   "cell_type": "code",
   "execution_count": null,
   "metadata": {},
   "outputs": [],
   "source": []
  },
  {
   "cell_type": "code",
   "execution_count": null,
   "metadata": {},
   "outputs": [],
   "source": []
  }
 ],
 "metadata": {
  "kernelspec": {
   "display_name": "Python(KeRNL)",
   "language": "python",
   "name": "kernl"
  },
  "language_info": {
   "codemirror_mode": {
    "name": "ipython",
    "version": 3
   },
   "file_extension": ".py",
   "mimetype": "text/x-python",
   "name": "python",
   "nbconvert_exporter": "python",
   "pygments_lexer": "ipython3",
   "version": "3.6.6"
  }
 },
 "nbformat": 4,
 "nbformat_minor": 2
}
