{
 "cells": [
  {
   "cell_type": "markdown",
   "metadata": {},
   "source": []
  },
  {
   "cell_type": "code",
   "execution_count": 2,
   "metadata": {},
   "outputs": [],
   "source": [
    "import random \n",
    "import tensorflow as tf\n",
    "import numpy as np\n",
    "import os\n",
    "import sys\n",
    "import subprocess\n",
    "from pathlib import Path\n"
   ]
  },
  {
   "cell_type": "code",
   "execution_count": 3,
   "metadata": {},
   "outputs": [
    {
     "name": "stdout",
     "output_type": "stream",
     "text": [
      "WARNING:tensorflow:From <ipython-input-3-d73afcc9b256>:3: read_data_sets (from tensorflow.contrib.learn.python.learn.datasets.mnist) is deprecated and will be removed in a future version.\n",
      "Instructions for updating:\n",
      "Please use alternatives such as official/mnist/dataset.py from tensorflow/models.\n",
      "WARNING:tensorflow:From /Users/eghbalhosseiniasl1/anaconda3/envs/KeRNL/lib/python3.6/site-packages/tensorflow/contrib/learn/python/learn/datasets/mnist.py:260: maybe_download (from tensorflow.contrib.learn.python.learn.datasets.base) is deprecated and will be removed in a future version.\n",
      "Instructions for updating:\n",
      "Please write your own downloading logic.\n",
      "WARNING:tensorflow:From /Users/eghbalhosseiniasl1/anaconda3/envs/KeRNL/lib/python3.6/site-packages/tensorflow/contrib/learn/python/learn/datasets/mnist.py:262: extract_images (from tensorflow.contrib.learn.python.learn.datasets.mnist) is deprecated and will be removed in a future version.\n",
      "Instructions for updating:\n",
      "Please use tf.data to implement this functionality.\n",
      "Extracting /tmp/data/train-images-idx3-ubyte.gz\n",
      "WARNING:tensorflow:From /Users/eghbalhosseiniasl1/anaconda3/envs/KeRNL/lib/python3.6/site-packages/tensorflow/contrib/learn/python/learn/datasets/mnist.py:267: extract_labels (from tensorflow.contrib.learn.python.learn.datasets.mnist) is deprecated and will be removed in a future version.\n",
      "Instructions for updating:\n",
      "Please use tf.data to implement this functionality.\n",
      "Extracting /tmp/data/train-labels-idx1-ubyte.gz\n",
      "WARNING:tensorflow:From /Users/eghbalhosseiniasl1/anaconda3/envs/KeRNL/lib/python3.6/site-packages/tensorflow/contrib/learn/python/learn/datasets/mnist.py:110: dense_to_one_hot (from tensorflow.contrib.learn.python.learn.datasets.mnist) is deprecated and will be removed in a future version.\n",
      "Instructions for updating:\n",
      "Please use tf.one_hot on tensors.\n",
      "Extracting /tmp/data/t10k-images-idx3-ubyte.gz\n",
      "Extracting /tmp/data/t10k-labels-idx1-ubyte.gz\n",
      "WARNING:tensorflow:From /Users/eghbalhosseiniasl1/anaconda3/envs/KeRNL/lib/python3.6/site-packages/tensorflow/contrib/learn/python/learn/datasets/mnist.py:290: DataSet.__init__ (from tensorflow.contrib.learn.python.learn.datasets.mnist) is deprecated and will be removed in a future version.\n",
      "Instructions for updating:\n",
      "Please use alternatives such as official/mnist/dataset.py from tensorflow/models.\n"
     ]
    }
   ],
   "source": [
    "# import MNIST data\n",
    "from tensorflow.examples.tutorials.mnist import input_data\n",
    "mnist = input_data.read_data_sets(\"/tmp/data/\", one_hot=True)\n"
   ]
  },
  {
   "cell_type": "markdown",
   "metadata": {},
   "source": [
    "training parameters "
   ]
  },
  {
   "cell_type": "code",
   "execution_count": 4,
   "metadata": {},
   "outputs": [],
   "source": [
    "# training parameters \n",
    "learning_rate=0.001\n",
    "training_steps=500\n",
    "batch_size=32\n",
    "display_step=20\n",
    "\n",
    "#network parameters \n",
    "num_input_units=80\n",
    "timesteps= 28*28\n",
    "num_classes=10\n",
    "num_hidden_units =200\n",
    "num_output_units =10\n"
   ]
  },
  {
   "cell_type": "code",
   "execution_count": 5,
   "metadata": {},
   "outputs": [],
   "source": [
    "def LIFLayer(n,m,dt,Spike_in,state):\n",
    "    neurons=n\n",
    "    inputs=m\n",
    "    tau_m = 5.0\n",
    "    v_theta = 1.0\n",
    "    v_reset = 0.0\n",
    "    tau_s = 5.0\n",
    "    tau_refract = 3.0\n",
    "    # tensor variables \n",
    "    V = tf.Variable(tf.constant(0.0,shape=[n,1],dtype=tf.float32),name='V')\n",
    "    Spike = tf.Variable(tf.constant(v_reset,shape=[n,1],dtype=tf.float32),name='Spike')\n",
    "    W_rec = tf.Variable(tf.random_normal(shape=[n,n],mean=0.0,stddev=0.1,dtype=tf.float32),name='W_rec')\n",
    "    W_in = tf.Variable(tf.random_normal(shape=[n,m],mean=0.0,stddev=0.1,dtype=tf.float32),name='W_in')\n",
    "    G=tf.Variable(tf.ones(shape=[n,1],dtype=tf.float32),name='G')\n",
    "    S=tf.Variable(tf.zeros(shape=[n,n],dtype=tf.float32),name='S')\n",
    "    G_in=tf.Variable(tf.ones(shape=[n,1],dtype=tf.float32),name='G_in')\n",
    "    S_in=tf.Variable(tf.zeros(shape=[n,m],dtype=tf.float32),name='S_in')\n",
    "    I_syn=tf.Variable(tf.ones(shape=[n,1],dtype=tf.float32),name='I_syn')\n",
    "    t_reset=tf.Variable(tf.ones(shape=[n,1],dtype=tf.float32),name='t_reset')\n",
    "    \n",
    "    @tf.custom_gradient\n",
    "    def calculate_crossing_op(x):\n",
    "        x_norm=tf.divide(tf.subtract(x,tf.constant(1.0,shape=[n,1])),tf.constant(1.0,shape=[n,1]))\n",
    "        temp=tf.greater_equal(x,tf.constant(1.0,shape=[n,1],dtype=tf.float32))\n",
    "        def grad(dy):            \n",
    "            return tf.maximum(tf.constant(0.0,dtype=tf.float32),tf.subtract(tf.constant(1.0,dtype=tf.float32),tf.abs(x_norm)))  \n",
    "        return tf.cast(temp,tf.float32), grad\n",
    "    Spike=calculate_crossing_op(x)\n",
    "    v_update=tf.subtract(x,tf.multiply(tf.cast(Spike,tf.float32),tf.constant(1.0,shape=[n,1],dtype=tf.float32)))\n",
    "    ## update conductance for recurrent spikes \n",
    "    dS_op=tf.divide(S,3.0)\n",
    "    dS_in_op=tf.divide(S_in,tau_s)\n",
    "    S_temp=tf.subtract(S,dS_op*dt)\n",
    "    S_in_temp=tf.subtract(S_in,dS_in_op*dt)\n",
    "    S_op=tf.clip_by_value(S_temp,tf.constant(0.0,shape=[n,n]),tf.constant(100.0,shape=[n,n]))\n",
    "    S_in_op=tf.clip_by_value(S_in_temp,tf.constant(0.0,shape=[n,m]),tf.constant(100.0,shape=[n,m]))\n",
    "    Spike_op_float=tf.cast(Spike,tf.float32)\n",
    "    Spike_in_op_float=tf.cast(Spike_in,tf.float32)\n",
    "    Spike_ax=tf.clip_by_value(tf.subtract(tf.transpose(tf.tile(Spike_op_float,[1,n])),\n",
    "                                            tf.eye(n,dtype=tf.float32)),0.0,100.0)\n",
    "\n",
    "    Spike_in_temp=tf.transpose(tf.tile(Spike_in_op_float,[1,n]))\n",
    "    Spike_in_ax=Spike_in_temp\n",
    "    S_update= tf.add(S,Spike_ax)\n",
    "    S_in_update=tf.add(S_in,Spike_in_ax)\n",
    "    G_op=tf.reduce_sum(tf.multiply(W_rec,S_update), 1, keepdims=True)\n",
    "    G_in_op=tf.reduce_sum(tf.multiply(W_in,S_in_update), 1, keepdims=True)\n",
    "    I_input=tf.add(tf.multiply(G_op,v_update),tf.multiply(G_in_op,v_update))\n",
    "\n",
    "    ## update voltages\n",
    "    # find neurons in refractory \n",
    "    t_subtract= tf.subtract(t_reset,tf.constant(1.0,shape=[n,1]))\n",
    "    \n",
    "    t_margin=tf.clip_by_value(t_subtract,0.0,100)\n",
    "    t_reset_update=tf.add(t_margin,tf.multiply(Spike,tf.constant(v_theta,shape=[n,1],dtype=tf.float32)))\n",
    "\n",
    "    eligilible_update=tf.cast(tf.equal(t_reset_update,tf.constant(0.0,shape=[n,1])),tf.float32)\n",
    "    # update voltage\n",
    "    dV_op=tf.add(tf.constant(v_reset,shape=[n,1],dtype=tf.float32),tf.multiply(eligilible_update,\n",
    "                                                                                tf.divide(tf.subtract(I_input,v_update),tau_m)))\n",
    "\n",
    "    V_out=tf.add(v_update,tf.multiply(dV_op,dt))\n",
    "    return V_out, Spike\n",
    "\n",
    "    "
   ]
  },
  {
   "cell_type": "code",
   "execution_count": null,
   "metadata": {},
   "outputs": [],
   "source": [
    "def OutputLayer(k,j,spike_in,dt,state):\n",
    "    neurons=k\n",
    "    inputs=j\n",
    "    tau_m = 5.0\n",
    "    # tensor variables \n",
    "    V_out = tf.contrib.eager.Variable(tf.constant(0.0,shape=[k,1],dtype=tf.float32),name='V_out')\n",
    "    W_out = tf.contrib.eager.Variable(tf.random_normal(shape=[k,j],mean=0.0,stddev=0.1,dtype=tf.float32),name='W_out')\n",
    "    G_out= tf.contrib.eager.Variable(tf.ones(shape=[k,1],dtype=tf.float32),name='G_out')\n",
    "    \n",
    "    ## update membrane dynamics \n",
    "    dv_out=tf.divide(state,tau_m)\n",
    "    V_temp=tf.subtract(state,dv_out*dt)\n",
    "    V_update=tf.clip_by_value(V_temp,tf.constant(0.0,shape=[k,1]),tf.constant(100.0,shape=[k,1]))\n",
    "    spike_in_float=tf.cast(spike_in,tf.float32)\n",
    "    spike_temp=tf.transpose(tf.tile(spike_in_float,[1,k]))\n",
    "    weight_update=tf.multiply(W_out,spike_temp)\n",
    "    G_update=tf.reduce_sum(weight_update, 1, keepdims=True)\n",
    "    # not sure about this step\n",
    "    v_membrane = tf.add(V_update,G_update)\n",
    "    return v_membrane "
   ]
  },
  {
   "cell_type": "markdown",
   "metadata": {},
   "source": [
    "define a wrapper of the network to compute the sequence of inputs to outputs "
   ]
  },
  {
   "cell_type": "code",
   "execution_count": null,
   "metadata": {},
   "outputs": [],
   "source": [
    "def SpkLayer(X):\n",
    "    sequencelength\n",
    "    "
   ]
  }
 ],
 "metadata": {
  "kernelspec": {
   "display_name": "Python(KeRNL)",
   "language": "python",
   "name": "kernl"
  },
  "language_info": {
   "codemirror_mode": {
    "name": "ipython",
    "version": 3
   },
   "file_extension": ".py",
   "mimetype": "text/x-python",
   "name": "python",
   "nbconvert_exporter": "python",
   "pygments_lexer": "ipython3",
   "version": "3.6.6"
  }
 },
 "nbformat": 4,
 "nbformat_minor": 2
}
