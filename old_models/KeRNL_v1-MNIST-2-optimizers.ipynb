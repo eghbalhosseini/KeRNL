{
 "cells": [
  {
   "cell_type": "markdown",
   "metadata": {},
   "source": [
    "code for creating a Kernel based relu-RNN learning for sequential MNIST\n",
    "adapted from : Roth, Christopher, Ingmar Kanitscheider, and Ila Fiete. 2018. “Kernel RNN Learning (KeRNL),” September. https://openreview.net/forum?id=ryGfnoC5KQ.\n",
    "\n",
    "this code uses a modified version of KeRNL. v1.0\n",
    "\n"
   ]
  },
  {
   "cell_type": "code",
   "execution_count": 1,
   "metadata": {},
   "outputs": [],
   "source": [
    "# python libraries\n",
    "import numpy as np \n",
    "import matplotlib.pyplot as plt \n",
    "import collections\n",
    "import hashlib\n",
    "import numbers\n",
    "import matplotlib.cm as cm\n",
    "from sys import getsizeof\n",
    "from datetime import datetime\n",
    "from pathlib import Path\n",
    "import os\n",
    "from pandas import DataFrame\n",
    "from IPython.display import HTML\n",
    "\n",
    "# tensorflow and its dependencies \n",
    "import tensorflow as tf\n",
    "from tensorflow.python.eager import context\n",
    "from tensorflow.python.framework import constant_op\n",
    "from tensorflow.python.framework import dtypes\n",
    "from tensorflow.python.framework import ops\n",
    "from tensorflow.python.framework import tensor_shape\n",
    "from tensorflow.python.framework import tensor_util\n",
    "from tensorflow.python.layers import base as base_layer\n",
    "from tensorflow.python.ops import array_ops\n",
    "from tensorflow.python.ops import clip_ops\n",
    "from tensorflow.python.ops import init_ops\n",
    "from tensorflow.python.ops import math_ops\n",
    "from tensorflow.python.ops import nn_ops\n",
    "from tensorflow.python.ops import partitioned_variables\n",
    "from tensorflow.python.ops import random_ops\n",
    "from tensorflow.python.ops import tensor_array_ops\n",
    "from tensorflow.python.ops import variable_scope as vs\n",
    "from tensorflow.python.ops import variables as tf_variables\n",
    "from tensorflow.python.platform import tf_logging as logging\n",
    "from tensorflow.python.util import nest\n",
    "from tensorflow.contrib.rnn.python.ops.core_rnn_cell import _Linear\n",
    "from tensorflow.contrib import slim\n",
    "\n",
    "## user defined modules \n",
    "# kernel rnn cell \n",
    "import keRNL_cell_v1 "
   ]
  },
  {
   "cell_type": "markdown",
   "metadata": {},
   "source": [
    "first we download mnist data for training and testing "
   ]
  },
  {
   "cell_type": "code",
   "execution_count": 2,
   "metadata": {},
   "outputs": [
    {
     "name": "stdout",
     "output_type": "stream",
     "text": [
      "Extracting MNIST_data/train-images-idx3-ubyte.gz\n",
      "Extracting MNIST_data/train-labels-idx1-ubyte.gz\n",
      "Extracting MNIST_data/t10k-images-idx3-ubyte.gz\n",
      "Extracting MNIST_data/t10k-labels-idx1-ubyte.gz\n"
     ]
    }
   ],
   "source": [
    "# uplading mnist data \n",
    "old_v = tf.logging.get_verbosity()\n",
    "tf.logging.set_verbosity(tf.logging.ERROR)\n",
    "from tensorflow.examples.tutorials.mnist import input_data\n",
    "mnist = input_data.read_data_sets(\"MNIST_data/\", one_hot=True)\n",
    "train_data = mnist.train.images  # Returns np.array\n",
    "train_labels = np.asarray(mnist.train.labels, dtype=np.int32)\n",
    "eval_data = mnist.test.images  # Returns np.array\n",
    "eval_labels = np.asarray(mnist.test.labels, dtype=np.int32)\n",
    "tf.logging.set_verbosity(old_v)\n",
    "\n",
    "# Training Parameters\n",
    "weight_learning_rate = 1e-8 # learning rate for weights in the network \n",
    "tensor_learning_rate = 1e-5 # learning rate for sensitivity tensor and temporal filter tensor \n",
    "training_steps = 5000\n",
    "batch_size = 50\n",
    "display_step = 10\n",
    "test_len=128\n",
    "grad_clip=10\n",
    "# Network Parameters\n",
    "num_input = 1 # MNIST data input (img shape: 28*28)\n",
    "timesteps = 28*28 # timesteps\n",
    "num_hidden = 100 # hidden layer num of features\n",
    "num_classes = 10 # MNIST total classes (0-9 digits)\n",
    "perturbation_std=1e-3"
   ]
  },
  {
   "cell_type": "markdown",
   "metadata": {},
   "source": [
    "we define training parameters and network parameters "
   ]
  },
  {
   "cell_type": "markdown",
   "metadata": {},
   "source": [
    "next we define a KeRNL unit and an output layer "
   ]
  },
  {
   "cell_type": "code",
   "execution_count": 3,
   "metadata": {},
   "outputs": [],
   "source": [
    "## define KeRNL unit\n",
    "def kernel_RNN_v1(x, weights, biases):\n",
    "    # Define a KeRNL cell, the initialization is done inside the cell with default initializers\n",
    "    keRNL_v1 = keRNL_cell_v1.KeRNLCell_v1(num_units=num_hidden,\n",
    "                                       num_inputs=num_input,\n",
    "                                       time_steps=timesteps,\n",
    "                                       noise_std=perturbation_std,\n",
    "                                       sensitivity_initializer=tf.initializers.identity)\n",
    "        # Get KeRNL cell output\n",
    "    kernel_outputs, kernel_states = tf.nn.dynamic_rnn(keRNL_v1, x, dtype=tf.float32)\n",
    "\n",
    "    # Linear activation, using rnn inner loop last output\n",
    "    return tf.matmul(kernel_outputs[:,-1,:], weights['out']) + biases['out'], kernel_states\n"
   ]
  },
  {
   "cell_type": "markdown",
   "metadata": {},
   "source": [
    "next step is defining a graph for training "
   ]
  },
  {
   "cell_type": "code",
   "execution_count": 4,
   "metadata": {},
   "outputs": [
    {
     "name": "stdout",
     "output_type": "stream",
     "text": [
      "WARNING:tensorflow:(?, 100, 101): eligibility_trace_update \n"
     ]
    }
   ],
   "source": [
    "tf.reset_default_graph()\n",
    "graph=tf.Graph()\n",
    "with graph.as_default():\n",
    "\n",
    "    # define weights and inputs to the network\n",
    "    with tf.variable_scope('output_layer', initializer=tf.contrib.layers.xavier_initializer()) as scope:\n",
    "        weights = {'out': tf.get_variable(shape=[num_hidden, num_classes],name='output_weight')}\n",
    "        biases = {'out': tf.get_variable(shape=[num_classes],name='output_addition')}\n",
    "    X = tf.placeholder(\"float\", [None, timesteps, num_input])\n",
    "    Y = tf.placeholder(\"float\", [None, num_classes])\n",
    "    \n",
    "    # define network output and trainiables \n",
    "    logits,states = kernel_RNN_v1(X, weights, biases)\n",
    "    variable_names=[v.name for v in tf.trainable_variables()]\n",
    "    trainables=tf.trainable_variables()\n",
    "    \n",
    "    # get the index of trainable variables \n",
    "    temporal_filter_index=[np.unicode_.find(k.name,'temporal_filter')>-1 for k in trainables].index(True)\n",
    "    sensitivity_tensor_index=[np.unicode_.find(k.name,'sensitivity_tensor')>-1 for k in trainables].index(True)    \n",
    "    kernel_index=[np.unicode_.find(k.name,'kernel')>-1 for k in trainables].index(True)\n",
    "    #bias_index=[np.unicode_.find(k.name,'bias')>-1 for k in trainables].index(True)\n",
    "    output_weight_index=[np.unicode_.find(k.name,'output_weight')>-1 for k in trainables].index(True)\n",
    "    output_addition_index=[np.unicode_.find(k.name,'output_addition')>-1 for k in trainables].index(True)\n",
    "    \n",
    "    # trainables for tensors \n",
    "    tensor_training_indices=np.asarray([sensitivity_tensor_index,\n",
    "                                        temporal_filter_index],dtype=np.int)\n",
    "    tensor_trainables= [trainables[k] for k in tensor_training_indices]\n",
    "    \n",
    "    # trainables for weights \n",
    "    weight_training_indices=np.asarray([kernel_index,\n",
    "                                        output_weight_index,\n",
    "                                        output_addition_index],dtype=np.int)\n",
    "    weight_trainables= [trainables[k] for k in weight_training_indices]\n",
    "\n",
    "## compute lossses \n",
    "    # compute loss for predictions. \n",
    "    loss_output_prediction = tf.reduce_mean(tf.nn.softmax_cross_entropy_with_logits_v2(\n",
    "    logits=logits, labels=Y))\n",
    "    prediction = tf.nn.softmax(logits)\n",
    "    \n",
    "    # compute loss for estimating sensitivity tensor and temporal_filter_coeff, \n",
    "    loss_state_prediction=tf.losses.mean_squared_error(tf.subtract(states.h_hat, states.h),\n",
    "                                                       tf.matmul(states.Gamma,trainables[sensitivity_tensor_index]))\n",
    "\n",
    "## define optimizers \n",
    "    # define optimizers learning the weights\n",
    "    weight_optimizer = tf.train.RMSPropOptimizer(learning_rate=weight_learning_rate)\n",
    "    \n",
    "    # define optimizer for learning the sensitivity tensor and temporal filter \n",
    "    tensor_optimizer = tf.train.RMSPropOptimizer(learning_rate=tensor_learning_rate)\n",
    "    \n",
    "## get gradients and apply them \n",
    "## optimize for temporal_filter and sensitivity_tensor\n",
    "    # calculate gradients\n",
    "    #sensitivity_tensor_update=tf.gradients(xs=trainables[sensitivity_tensor_index],ys=loss_state_prediction)\n",
    "    #temporal_filter_update=tf.gradients(xs=trainables[temporal_filter_index],ys=loss_state_prediction)\n",
    "    #tensor_grads_and_vars=list(zip([sensitivity_tensor_update[-1],temporal_filter_update[-1]],tensor_trainables))\n",
    "    #cropped_tensor_grads_and_vars=[(tf.clip_by_norm(grad, grad_clip),var) if  np.unicode_.find(var.name,'output')==-1 else \n",
    "    #                        (grad,var) for grad,var in tensor_grads_and_vars]\n",
    "    # manually calculate gradients \n",
    "    delta_sensitivity=tf.subtract(tf.matmul(states.Theta,\n",
    "                                            tf.transpose(trainables[sensitivity_tensor_index])),\n",
    "                                  tf.subtract(states.h_hat,states.h))\n",
    "    sensitivity_tensor_update= tf.reduce_mean(tf.einsum(\"un,uv->unv\",delta_sensitivity,states.Theta),axis=0)\n",
    "    # \n",
    "    temporal_filter_update= tf.reduce_mean(tf.multiply(tf.matmul(delta_sensitivity,\n",
    "                                                                 trainables[sensitivity_tensor_index]),\n",
    "                                                      states.Gamma),axis=0)\n",
    "    tensor_grads_and_vars=list(zip([sensitivity_tensor_update,temporal_filter_update],tensor_trainables))\n",
    "    cropped_tensor_grads_and_vars=[(tf.clip_by_norm(grad, grad_clip),var) if  np.unicode_.find(var.name,'output')==-1 else \n",
    "                            (grad,var) for grad,var in tensor_grads_and_vars]\n",
    "    # apply gradients \n",
    "    tensor_train_op = tensor_optimizer.apply_gradients(tensor_grads_and_vars)\n",
    "\n",
    "## optimize for recurrent weights and output weights \n",
    "    # 1- gradient for the recurrent weights \n",
    "    grad_cost_to_output=tf.gradients(loss_output_prediction,logits, name= 'grad_cost_to_y')\n",
    "    error_in_hidden_state=tf.matmul(grad_cost_to_output[-1],tf.transpose(trainables[output_weight_index]))\n",
    "    weight_update_aux=tf.matmul(error_in_hidden_state,trainables[sensitivity_tensor_index])\n",
    "    weight_update=tf.transpose(tf.reduce_mean(tf.multiply(states.eligibility_trace,tf.expand_dims(weight_update_aux,axis=-1)),axis=0))\n",
    "    \n",
    "    #2- gradient for output weight\n",
    "    grad_cost_to_output_layer=tf.gradients(loss_output_prediction,[trainables[output_weight_index],trainables[output_addition_index]], name= 'grad_cost_to_output_layer')\n",
    "    #grad_cost_to_output_bias=tf.gradients(loss_output_prediction,trainables[output_addition_index], name= 'grad_cost_to_output_bias')\n",
    "    # zip gradients and vars \n",
    "    weight_grads_and_vars=list(zip([weight_update,grad_cost_to_output_layer[0],grad_cost_to_output_layer[1]],weight_trainables))\n",
    "    # Apply gradient Clipping to recurrent weights \n",
    "    cropped_weight_grads_and_vars=[(tf.clip_by_norm(grad, grad_clip),var) if  np.unicode_.find(var.name,'output')==-1 else \n",
    "                            (grad,var) for grad,var in weight_grads_and_vars]\n",
    "    # apply gradients \n",
    "    weight_train_op = weight_optimizer.apply_gradients(cropped_weight_grads_and_vars)\n",
    "    \n",
    "    # group training \n",
    "    train_op=tf.group(tensor_train_op,weight_train_op)\n",
    "    ## Evaluate model (with test logits, for dropout to be disabled)\n",
    "    correct_pred = tf.equal(tf.argmax(prediction, 1), tf.argmax(Y, 1))\n",
    "    accuracy = tf.reduce_mean(tf.cast(correct_pred, tf.float32))\n",
    "    \n",
    "    # Initialize the variables (i.e. assign their default value)\n",
    "    init = tf.global_variables_initializer()\n",
    "\n",
    "    ## get variables to save to tensorboard \n",
    "    # network output \n",
    "    tf.summary.histogram('prediction',prediction+1e-8)\n",
    "    tf.summary.histogram('logits',logits+1e-8)\n",
    "    \n",
    "    # tensor training parameters \n",
    "    tf.summary.histogram('sensitivity_updates',sensitivity_tensor_update[-1]+1e-10)\n",
    "    tf.summary.histogram('temporal_filter_updates',temporal_filter_update[-1]+1e-10)\n",
    "    tf.summary.histogram('sensitivity_tensor',trainables[sensitivity_tensor_index]+1e-10)\n",
    "    tf.summary.histogram('temporal_filter',trainables[temporal_filter_index]+1e-10)\n",
    "    tf.summary.scalar('loss_state_prediction',loss_state_prediction)\n",
    "    \n",
    "    # weight training parameters \n",
    "    tf.summary.histogram('weight_updates',weight_update+1e-10)\n",
    "    tf.summary.histogram('output_weight_updates',grad_cost_to_output_layer[0]+1e-10)\n",
    "    tf.summary.histogram('output_bias_updates',grad_cost_to_output_layer[1]+1e-10)\n",
    "    tf.summary.histogram('weights', trainables[kernel_index]+1e-10)\n",
    "    tf.summary.histogram('output_weights', trainables[output_weight_index]+1e-10)\n",
    "    tf.summary.histogram('output_addition', trainables[output_addition_index]+1e-10)\n",
    "    tf.summary.histogram('error_in_hidden_state', error_in_hidden_state+1e-10)\n",
    "    tf.summary.histogram('weight_update_aux', weight_update_aux+1e-10)\n",
    "    tf.summary.scalar('loss_output_prediction',loss_output_prediction)\n",
    "    \n",
    "    # \n",
    "    tf.summary.image('kernel_matrix',tf.expand_dims(tf.expand_dims(trainables[kernel_index],axis=0),axis=-1))\n",
    "    tf.summary.image('sensitivity_matrix',tf.expand_dims(tf.expand_dims(trainables[sensitivity_tensor_index],axis=0),axis=-1))\n",
    "\n",
    "    # merge and save all \n",
    "    merged_summary_op=tf.summary.merge_all()\n",
    "    \n",
    "    # save training \n",
    "    saver = tf.train.Saver()\n",
    "    "
   ]
  },
  {
   "cell_type": "markdown",
   "metadata": {},
   "source": [
    "next we test the graph "
   ]
  },
  {
   "cell_type": "code",
   "execution_count": 5,
   "metadata": {},
   "outputs": [
    {
     "name": "stdout",
     "output_type": "stream",
     "text": [
      "['variable: ', 'output_layer/output_weight:0']\n",
      "['variable: ', 0]\n",
      "['shape: ', (100, 10)]\n",
      "['variable: ', 'output_layer/output_addition:0']\n",
      "['variable: ', 0]\n",
      "['shape: ', (10,)]\n",
      "['variable: ', 'rnn/ke_rnl_cell_v1/temporal_filter:0']\n",
      "['variable: ', -1]\n",
      "['shape: ', (100,)]\n",
      "['variable: ', 'rnn/ke_rnl_cell_v1/sensitivity_tensor:0']\n",
      "['variable: ', -1]\n",
      "['shape: ', (100, 100)]\n",
      "['variable: ', 'rnn/ke_rnl_cell_v1/kernel:0']\n",
      "['variable: ', -1]\n",
      "['shape: ', (101, 100)]\n"
     ]
    }
   ],
   "source": [
    "# verify initialization \n",
    "with tf.Session(graph=graph) as sess : \n",
    "    sess.run(init)\n",
    "    values,trainable_vars = sess.run([variable_names,trainables])\n",
    "    for k, v in zip(variable_names,values):\n",
    "        print([\"variable: \" , k])\n",
    "        #print([\"value: \" , v])\n",
    "        print([\"variable: \" , np.unicode_.find(k,'output')]) \n",
    "        print([\"shape: \" , v.shape])\n",
    "        #print(v) "
   ]
  },
  {
   "cell_type": "code",
   "execution_count": 6,
   "metadata": {},
   "outputs": [
    {
     "data": {
      "text/plain": [
       "<tf.Tensor 'transpose_2:0' shape=(101, 100) dtype=float32>"
      ]
     },
     "execution_count": 6,
     "metadata": {},
     "output_type": "execute_result"
    }
   ],
   "source": [
    "weight_update"
   ]
  },
  {
   "cell_type": "markdown",
   "metadata": {},
   "source": [
    "we define a saving folder for the data "
   ]
  },
  {
   "cell_type": "code",
   "execution_count": 7,
   "metadata": {},
   "outputs": [],
   "source": [
    "log_dir = \"logs/kernel_rnn_v1/two_optimizaer/MNIST_gc_%d_eta_m_%d_eta_%d_batch_%d_run_%s\" %(grad_clip,tensor_learning_rate,weight_learning_rate,batch_size, datetime.now().strftime(\"%Y%m%d_%H%M\"))\n",
    "Path(log_dir).mkdir(exist_ok=True, parents=True)\n",
    "filelist = [ f for f in os.listdir(log_dir) if f.endswith(\".local\") ]\n",
    "for f in filelist:\n",
    "    os.remove(os.path.join(log_dir, f))"
   ]
  },
  {
   "cell_type": "markdown",
   "metadata": {},
   "source": [
    "training loop for network weights and loss "
   ]
  },
  {
   "cell_type": "code",
   "execution_count": 8,
   "metadata": {},
   "outputs": [
    {
     "name": "stdout",
     "output_type": "stream",
     "text": [
      "Step: 2, Train Loss: 2.333, Train Acc: 0.060, state loss: 53663.000\n",
      "Step: 11, Train Loss: 2.329, Train Acc: 0.120, state loss: 45520.203\n",
      "Step: 21, Train Loss: 2.275, Train Acc: 0.180, state loss: 40339.281\n",
      "Step: 31, Train Loss: 2.265, Train Acc: 0.080, state loss: 36210.535\n",
      "Step: 41, Train Loss: 2.313, Train Acc: 0.160, state loss: 32607.373\n",
      "Step: 51, Train Loss: 2.349, Train Acc: 0.060, state loss: 29257.014\n",
      "Step: 61, Train Loss: 2.348, Train Acc: 0.040, state loss: 26288.031\n",
      "Step: 71, Train Loss: 2.349, Train Acc: 0.120, state loss: 23667.332\n",
      "Step: 81, Train Loss: 2.343, Train Acc: 0.160, state loss: 21255.910\n",
      "Step: 91, Train Loss: 2.337, Train Acc: 0.120, state loss: 19167.494\n",
      "Optimization Finished!\n",
      "Testing Accuracy: 2.3118057\n",
      "Model saved in path: logs/kernel_rnn_v1/two_optimizaer/MNIST_gc_10_eta_m_0_eta_0_batch_50_run_20190201_1257/model.ckpt-99\n"
     ]
    }
   ],
   "source": [
    "\n",
    "# write graph into tensorboard \n",
    "tb_writer = tf.summary.FileWriter(log_dir,graph)\n",
    "# run a training session \n",
    "with tf.Session(graph=graph) as sess:\n",
    "    sess.run(init)\n",
    "    for step in range(1,100):#range(1,training_steps+1):\n",
    "        batch_x, batch_y = mnist.train.next_batch(batch_size)\n",
    "        batch_x=batch_x.reshape((batch_size,timesteps,num_input))\n",
    "        \n",
    "        # run optimizer \n",
    "        train_opt, tensor_loss,weight_loss,acc_train=sess.run([train_op,loss_state_prediction,loss_output_prediction,accuracy],\n",
    "                                                              feed_dict={X:batch_x, Y:batch_y})\n",
    "        \n",
    "        # run summaries \n",
    "        merged_summary=sess.run(merged_summary_op,feed_dict={X:batch_x, Y:batch_y})\n",
    "        tb_writer.add_summary(merged_summary, global_step=step)\n",
    "\n",
    "        if step % display_step==0 or step==1 : \n",
    "            # get batch loss and accuracy \n",
    "            print('Step: {}, Train Loss: {:.3f}, Train Acc: {:.3f}, state loss: {:.3f}'.format(\n",
    "            step + 1, weight_loss, acc_train, tensor_loss))\n",
    "\n",
    "\n",
    "    print(\"Optimization Finished!\")\n",
    "    test_data = mnist.test.images[:test_len].reshape((-1, timesteps, num_input))\n",
    "    test_label = mnist.test.labels[:test_len]\n",
    "    print(\"Testing Accuracy:\", \n",
    "        sess.run(loss_output_prediction, feed_dict={X: test_data, Y: test_label}))\n",
    "    save_path = saver.save(sess, log_dir+\"/model.ckpt\", global_step=step,write_meta_graph=True)\n",
    "    print(\"Model saved in path: %s\" % save_path)"
   ]
  },
  {
   "cell_type": "markdown",
   "metadata": {},
   "source": [
    "testing whether Gamma and Theta are correct "
   ]
  },
  {
   "cell_type": "code",
   "execution_count": null,
   "metadata": {},
   "outputs": [],
   "source": []
  }
 ],
 "metadata": {
  "kernelspec": {
   "display_name": "Python(KeRNL)",
   "language": "python",
   "name": "kernl"
  },
  "language_info": {
   "codemirror_mode": {
    "name": "ipython",
    "version": 3
   },
   "file_extension": ".py",
   "mimetype": "text/x-python",
   "name": "python",
   "nbconvert_exporter": "python",
   "pygments_lexer": "ipython3",
   "version": "3.6.8"
  }
 },
 "nbformat": 4,
 "nbformat_minor": 2
}
