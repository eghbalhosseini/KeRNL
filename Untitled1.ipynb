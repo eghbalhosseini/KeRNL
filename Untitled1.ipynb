{
 "cells": [
  {
   "cell_type": "code",
   "execution_count": 1,
   "metadata": {},
   "outputs": [],
   "source": [
    "import tensorflow as tf \n",
    "tf.enable_eager_execution()"
   ]
  },
  {
   "cell_type": "code",
   "execution_count": 7,
   "metadata": {},
   "outputs": [],
   "source": [
    "def conv_relu(input, kernel_shape, bias_shape):\n",
    "    # Create variable named \"weights\".\n",
    "    weights = tf.get_variable(\"weights\", kernel_shape,\n",
    "        initializer=tf.random_normal_initializer())\n",
    "    # Create variable named \"biases\".\n",
    "    biases = tf.get_variable(\"biases\", bias_shape,\n",
    "        initializer=tf.constant_initializer(0.0))\n",
    "    conv = tf.nn.conv2d(input, weights,\n",
    "        strides=[1, 1, 1, 1], padding='SAME')\n",
    "    return tf.nn.relu(conv + biases)"
   ]
  },
  {
   "cell_type": "code",
   "execution_count": 8,
   "metadata": {},
   "outputs": [],
   "source": [
    "def my_image_filter(input_images):\n",
    "    with tf.variable_scope(\"conv1\"):\n",
    "        # Variables created here will be named \"conv1/weights\", \"conv1/biases\".\n",
    "        relu1 = conv_relu(input_images, [5, 5, 32, 32], [32])\n",
    "    with tf.variable_scope(\"conv2\"):\n",
    "        # Variables created here will be named \"conv2/weights\", \"conv2/biases\".\n",
    "        return conv_relu(relu1, [5, 5, 32, 32], [32])"
   ]
  },
  {
   "cell_type": "code",
   "execution_count": 12,
   "metadata": {},
   "outputs": [],
   "source": [
    "input1 = tf.constant(1.0,shape=[1,10,10,32])\n",
    "input2 = tf.constant(1.0,shape=[1,10,10,32])\n",
    "with tf.variable_scope(\"model\"):\n",
    "  output1 = my_image_filter(input1)\n",
    "with tf.variable_scope(\"model\", reuse=True):\n",
    "  output2 = my_image_filter(input2)\n",
    "\n"
   ]
  },
  {
   "cell_type": "code",
   "execution_count": 14,
   "metadata": {},
   "outputs": [
    {
     "data": {
      "text/plain": [
       "<tf.Tensor: id=350, shape=(1, 10, 10, 32), dtype=float32, numpy=\n",
       "array([[[[ 797.37286  ,  502.1546   ,    0.       , ...,  479.42334  ,\n",
       "             0.       ,   35.547745 ],\n",
       "         [ 829.4497   ,  455.5898   ,    0.       , ...,    0.       ,\n",
       "             0.       ,  109.92732  ],\n",
       "         [ 745.4218   ,  268.83838  ,    0.       , ...,    0.       ,\n",
       "             0.       ,  217.64822  ],\n",
       "         ...,\n",
       "         [ 280.49576  ,  179.04538  ,  135.75665  , ...,    0.       ,\n",
       "             0.       ,   72.86844  ],\n",
       "         [ 170.92737  ,    0.       ,    0.       , ...,    0.       ,\n",
       "             0.       ,  173.5527   ],\n",
       "         [  81.2704   ,    0.       ,   17.872375 , ...,    0.       ,\n",
       "             0.       ,    0.       ]],\n",
       "\n",
       "        [[ 965.43787  ,  190.16075  ,    0.       , ...,  232.55566  ,\n",
       "             0.       ,    0.       ],\n",
       "         [ 973.8734   ,   61.63861  ,    0.       , ...,    0.       ,\n",
       "             0.       ,    6.72847  ],\n",
       "         [ 611.8691   ,    0.       ,    0.       , ...,    0.       ,\n",
       "             0.       ,   15.320755 ],\n",
       "         ...,\n",
       "         [ 212.44142  ,    0.       ,   28.021835 , ...,    0.       ,\n",
       "             0.       ,    0.       ],\n",
       "         [  28.718468 ,    0.       ,    0.       , ...,    0.       ,\n",
       "             0.       ,    0.       ],\n",
       "         [   0.       ,    0.       ,    0.       , ...,    0.       ,\n",
       "             0.       ,    0.       ]],\n",
       "\n",
       "        [[1245.265    ,  122.33414  ,    0.       , ...,  288.31552  ,\n",
       "             0.       ,    0.       ],\n",
       "         [1366.3286   ,  155.71722  ,    0.       , ...,    0.       ,\n",
       "             0.       ,   21.32866  ],\n",
       "         [ 776.49725  ,    0.       ,    0.       , ...,    0.       ,\n",
       "             0.       ,    0.       ],\n",
       "         ...,\n",
       "         [ 392.46387  ,    0.       ,    0.       , ...,    0.       ,\n",
       "             0.       ,    0.       ],\n",
       "         [   0.       ,    0.       ,    0.       , ...,    0.       ,\n",
       "             0.       ,    0.       ],\n",
       "         [   0.       ,    0.       ,    0.       , ...,    0.       ,\n",
       "             0.       ,    0.       ]],\n",
       "\n",
       "        ...,\n",
       "\n",
       "        [[1118.1649   ,    0.       ,    0.       , ...,    0.       ,\n",
       "             0.       ,    0.       ],\n",
       "         [1320.1179   ,    2.524109 ,    0.       , ...,    0.       ,\n",
       "             0.       ,  177.49013  ],\n",
       "         [ 561.0752   ,    0.       ,    0.       , ...,    0.       ,\n",
       "             0.       ,    0.       ],\n",
       "         ...,\n",
       "         [ 378.2196   ,    0.       ,    0.       , ...,    0.       ,\n",
       "             0.       ,    0.       ],\n",
       "         [   0.       ,    0.       ,    0.       , ...,    0.       ,\n",
       "             0.       ,    0.       ],\n",
       "         [   0.       ,    0.       ,    0.       , ...,    0.       ,\n",
       "             0.       ,    0.       ]],\n",
       "\n",
       "        [[ 900.5058   ,    0.       ,    0.       , ...,    0.       ,\n",
       "             0.       ,    0.       ],\n",
       "         [1022.651    ,    0.       ,    0.       , ...,    0.       ,\n",
       "             0.       ,  149.3009   ],\n",
       "         [ 372.90268  ,    0.       ,    0.       , ...,    0.       ,\n",
       "             0.       ,    0.       ],\n",
       "         ...,\n",
       "         [ 322.74426  ,    0.       ,    0.       , ...,    0.       ,\n",
       "             0.       ,    0.       ],\n",
       "         [   0.       ,    0.       ,    0.       , ...,    0.       ,\n",
       "             0.       ,  229.36414  ],\n",
       "         [   0.       ,    0.       ,    0.       , ...,    0.       ,\n",
       "             0.       ,    0.       ]],\n",
       "\n",
       "        [[ 295.83624  ,    0.       ,    0.       , ...,    0.       ,\n",
       "             0.       ,    0.       ],\n",
       "         [ 434.18658  ,    0.       ,    0.       , ...,  167.73679  ,\n",
       "             0.       ,   12.1588745],\n",
       "         [   0.       ,    0.       ,    0.       , ...,  241.30237  ,\n",
       "             0.       ,    0.       ],\n",
       "         ...,\n",
       "         [ 140.07477  ,    0.       ,    0.       , ...,   75.184875 ,\n",
       "             0.       ,    0.       ],\n",
       "         [   0.       ,    0.       ,    0.       , ...,  442.9494   ,\n",
       "            93.12973  ,   35.052002 ],\n",
       "         [   0.       ,    0.       ,    0.       , ...,   60.98368  ,\n",
       "           231.89815  ,    0.       ]]]], dtype=float32)>"
      ]
     },
     "execution_count": 14,
     "metadata": {},
     "output_type": "execute_result"
    }
   ],
   "source": [
    "output2"
   ]
  },
  {
   "cell_type": "code",
   "execution_count": null,
   "metadata": {},
   "outputs": [],
   "source": []
  }
 ],
 "metadata": {
  "kernelspec": {
   "display_name": "Python(KeRNL)",
   "language": "python",
   "name": "kernl"
  },
  "language_info": {
   "codemirror_mode": {
    "name": "ipython",
    "version": 3
   },
   "file_extension": ".py",
   "mimetype": "text/x-python",
   "name": "python",
   "nbconvert_exporter": "python",
   "pygments_lexer": "ipython3",
   "version": "3.6.6"
  }
 },
 "nbformat": 4,
 "nbformat_minor": 2
}
