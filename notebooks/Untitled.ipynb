{
 "cells": [
  {
   "cell_type": "code",
   "execution_count": 34,
   "metadata": {},
   "outputs": [],
   "source": [
    "# shuffle all elements\n",
    "import tensorflow as tf\n",
    "import matplotlib.pyplot as plt\n",
    "\n",
    "# Training Parameters\n",
    "weight_learning_rate = 1e-3\n",
    "training_steps = 500\n",
    "batch_size = 20\n",
    "training_size=batch_size*training_steps\n",
    "epochs=100 \n",
    "test_size=10000\n",
    "display_step = 100\n",
    "grad_clip=100\n",
    "# Network Parameters\n",
    "num_input = 2 # adding problem data input (first input are the random digits , second input is the mask)\n",
    "time_steps = 200\n",
    "num_hidden = 50 # hidden layer num of features\n",
    "num_output = 1 # value of the addition estimation \n",
    "# "
   ]
  },
  {
   "cell_type": "code",
   "execution_count": 35,
   "metadata": {},
   "outputs": [],
   "source": [
    "def bptt_rnn(x,rnn_weights,rnn_bias):\n",
    "    # Define a KeRNL cell, the initialization is done inside the cell with default initializers\n",
    "    with tf.variable_scope(\"bptt\",initializer=_hinton_identity_initializer) as scope:\n",
    "        rnn_cell = tf.contrib.rnn.BasicRNNCell(num_hidden,name='irnn')\n",
    "        rnn_outputs, rnn_states = tf.nn.dynamic_rnn(rnn_cell, x, dtype=tf.float32)\n",
    "        rnn_output=tf.matmul(rnn_outputs[:,-1,:], rnn_weights) +rnn_biases\n",
    "     \n",
    "    return rnn_output, rnn_states "
   ]
  },
  {
   "cell_type": "code",
   "execution_count": 36,
   "metadata": {},
   "outputs": [],
   "source": [
    "\n",
    "\n",
    "def _hinton_identity_initializer(shape,dtype=None,partition_info=None,verify_shape=None, max_val=1):\n",
    "    if dtype is None:\n",
    "        dtype=tf.float32\n",
    "    #extract second dimension \n",
    "    W_rec=tf.eye(shape[-1],dtype=dtype)\n",
    "    new_shape=[shape[0]-shape[-1],shape[-1]]\n",
    "    W_in=tf.random_uniform(new_shape,0,maxval=max_val)\n",
    "    \n",
    "    return tf.concat([W_in,W_rec],axis=0) "
   ]
  },
  {
   "cell_type": "code",
   "execution_count": 37,
   "metadata": {},
   "outputs": [],
   "source": [
    "tf.reset_default_graph()\n",
    "graph=tf.Graph()\n",
    "with graph.as_default():\n",
    "    with tf.variable_scope('bptt_output',initializer=tf.initializers.random_normal()) as scope:\n",
    "        rnn_weights = tf.get_variable(shape=[num_hidden, num_output],name='output_weight')\n",
    "        rnn_biases = tf.get_variable(shape=[num_output],name='output_addition')\n",
    "        \n",
    "    X = tf.placeholder(\"float\", [None, time_steps, num_input])\n",
    "    rnn_output,rnn_states=bptt_rnn(X,rnn_weights,rnn_biases)\n",
    "    scope=tf.get_variable_scope()\n",
    "    with tf.variable_scope(scope,initializer=_hinton_identity_initializer) as temporal_filter_scope:\n",
    "        temporal_filter=tf.get_variable('test',shape=[11,10],dtype=tf.float32,trainable=True)\n",
    "    trainables=tf.trainable_variables()\n",
    "    variable_names=[v.name for v in tf.trainable_variables()]\n",
    "    init = tf.global_variables_initializer()"
   ]
  },
  {
   "cell_type": "code",
   "execution_count": 9,
   "metadata": {},
   "outputs": [
    {
     "data": {
      "text/plain": [
       "<tf.Variable 'test_1:0' shape=(11, 10) dtype=float32_ref>"
      ]
     },
     "execution_count": 9,
     "metadata": {},
     "output_type": "execute_result"
    }
   ],
   "source": [
    "\n"
   ]
  },
  {
   "cell_type": "code",
   "execution_count": 38,
   "metadata": {},
   "outputs": [
    {
     "name": "stdout",
     "output_type": "stream",
     "text": [
      "['variable: ', 'bptt_output/output_weight:0']\n",
      "['value: ', array([[-0.60670745],\n",
      "       [ 0.05200246],\n",
      "       [ 0.28047776],\n",
      "       [ 0.1624678 ],\n",
      "       [-0.5698578 ],\n",
      "       [-1.3741864 ],\n",
      "       [-0.32520714],\n",
      "       [ 0.2835129 ],\n",
      "       [-0.40122268],\n",
      "       [-0.7371685 ],\n",
      "       [-1.3138682 ],\n",
      "       [ 0.5950214 ],\n",
      "       [-0.92322177],\n",
      "       [ 0.48101705],\n",
      "       [ 0.17547233],\n",
      "       [ 1.2184296 ],\n",
      "       [ 0.98998374],\n",
      "       [ 1.7022848 ],\n",
      "       [-0.01848527],\n",
      "       [ 0.43291703],\n",
      "       [-0.9196312 ],\n",
      "       [ 1.3712788 ],\n",
      "       [-1.3796233 ],\n",
      "       [ 1.486902  ],\n",
      "       [ 0.33585048],\n",
      "       [ 0.08868734],\n",
      "       [-0.7325122 ],\n",
      "       [ 0.24075332],\n",
      "       [ 0.2908289 ],\n",
      "       [ 0.07791564],\n",
      "       [ 1.3177162 ],\n",
      "       [-0.27699974],\n",
      "       [-0.6600558 ],\n",
      "       [-0.4500024 ],\n",
      "       [-0.4166362 ],\n",
      "       [ 0.21105137],\n",
      "       [-0.30057797],\n",
      "       [ 0.9227943 ],\n",
      "       [ 0.02379703],\n",
      "       [-0.7313585 ],\n",
      "       [-0.96981126],\n",
      "       [ 0.8921585 ],\n",
      "       [ 0.11130094],\n",
      "       [-0.6984129 ],\n",
      "       [ 0.71722245],\n",
      "       [ 1.970221  ],\n",
      "       [ 0.8254295 ],\n",
      "       [-0.03031135],\n",
      "       [ 0.2699726 ],\n",
      "       [ 1.3159826 ]], dtype=float32)]\n",
      "['variable: ', 5]\n",
      "['shape: ', (50, 1)]\n",
      "['variable: ', 'bptt_output/output_addition:0']\n",
      "['value: ', array([-0.860955], dtype=float32)]\n",
      "['variable: ', 5]\n",
      "['shape: ', (1,)]\n",
      "['variable: ', 'bptt/rnn/irnn/kernel:0']\n",
      "['value: ', array([[0.50271344, 0.2469405 , 0.5704657 , ..., 0.10859692, 0.09209979,\n",
      "        0.15044737],\n",
      "       [0.12592733, 0.7103673 , 0.14278841, ..., 0.6187148 , 0.10576832,\n",
      "        0.54273283],\n",
      "       [1.        , 0.        , 0.        , ..., 0.        , 0.        ,\n",
      "        0.        ],\n",
      "       ...,\n",
      "       [0.        , 0.        , 0.        , ..., 1.        , 0.        ,\n",
      "        0.        ],\n",
      "       [0.        , 0.        , 0.        , ..., 0.        , 1.        ,\n",
      "        0.        ],\n",
      "       [0.        , 0.        , 0.        , ..., 0.        , 0.        ,\n",
      "        1.        ]], dtype=float32)]\n",
      "['variable: ', -1]\n",
      "['shape: ', (52, 50)]\n",
      "['variable: ', 'bptt/rnn/irnn/bias:0']\n",
      "['value: ', array([0., 0., 0., 0., 0., 0., 0., 0., 0., 0., 0., 0., 0., 0., 0., 0., 0.,\n",
      "       0., 0., 0., 0., 0., 0., 0., 0., 0., 0., 0., 0., 0., 0., 0., 0., 0.,\n",
      "       0., 0., 0., 0., 0., 0., 0., 0., 0., 0., 0., 0., 0., 0., 0., 0.],\n",
      "      dtype=float32)]\n",
      "['variable: ', -1]\n",
      "['shape: ', (50,)]\n",
      "['variable: ', 'test:0']\n",
      "['value: ', array([[0.2757355 , 0.23433173, 0.28831732, 0.00483298, 0.6032287 ,\n",
      "        0.762198  , 0.26601565, 0.08418441, 0.5050514 , 0.9335474 ],\n",
      "       [1.        , 0.        , 0.        , 0.        , 0.        ,\n",
      "        0.        , 0.        , 0.        , 0.        , 0.        ],\n",
      "       [0.        , 1.        , 0.        , 0.        , 0.        ,\n",
      "        0.        , 0.        , 0.        , 0.        , 0.        ],\n",
      "       [0.        , 0.        , 1.        , 0.        , 0.        ,\n",
      "        0.        , 0.        , 0.        , 0.        , 0.        ],\n",
      "       [0.        , 0.        , 0.        , 1.        , 0.        ,\n",
      "        0.        , 0.        , 0.        , 0.        , 0.        ],\n",
      "       [0.        , 0.        , 0.        , 0.        , 1.        ,\n",
      "        0.        , 0.        , 0.        , 0.        , 0.        ],\n",
      "       [0.        , 0.        , 0.        , 0.        , 0.        ,\n",
      "        1.        , 0.        , 0.        , 0.        , 0.        ],\n",
      "       [0.        , 0.        , 0.        , 0.        , 0.        ,\n",
      "        0.        , 1.        , 0.        , 0.        , 0.        ],\n",
      "       [0.        , 0.        , 0.        , 0.        , 0.        ,\n",
      "        0.        , 0.        , 1.        , 0.        , 0.        ],\n",
      "       [0.        , 0.        , 0.        , 0.        , 0.        ,\n",
      "        0.        , 0.        , 0.        , 1.        , 0.        ],\n",
      "       [0.        , 0.        , 0.        , 0.        , 0.        ,\n",
      "        0.        , 0.        , 0.        , 0.        , 1.        ]],\n",
      "      dtype=float32)]\n",
      "['variable: ', -1]\n",
      "['shape: ', (11, 10)]\n"
     ]
    }
   ],
   "source": [
    "\n",
    "with tf.Session(graph=graph,) as sess : \n",
    "    sess.run(init)\n",
    "    values,trainable_vars = sess.run([variable_names,trainables])\n",
    "    for k, v in zip(variable_names,values):\n",
    "        print([\"variable: \" , k])\n",
    "        print([\"value: \" , v])\n",
    "        print([\"variable: \" , np.unicode_.find(k,'output')]) \n",
    "        print([\"shape: \" , v.shape])\n",
    "        #print(v) training_steps"
   ]
  },
  {
   "cell_type": "code",
   "execution_count": 39,
   "metadata": {},
   "outputs": [
    {
     "data": {
      "text/plain": [
       "<matplotlib.image.AxesImage at 0x7f0ce4ed7400>"
      ]
     },
     "execution_count": 39,
     "metadata": {},
     "output_type": "execute_result"
    },
    {
     "data": {
      "image/png": "[encoded data removed]",
      "text/plain": [
       "<Figure size 432x288 with 1 Axes>"
      ]
     },
     "metadata": {
      "needs_background": "light"
     },
     "output_type": "display_data"
    }
   ],
   "source": [
    "plt.imshow(values[2])"
   ]
  },
  {
   "cell_type": "code",
   "execution_count": null,
   "metadata": {},
   "outputs": [],
   "source": []
  },
  {
   "cell_type": "code",
   "execution_count": null,
   "metadata": {},
   "outputs": [],
   "source": []
  },
  {
   "cell_type": "code",
   "execution_count": null,
   "metadata": {},
   "outputs": [],
   "source": []
  },
  {
   "cell_type": "code",
   "execution_count": 7,
   "metadata": {},
   "outputs": [],
   "source": []
  },
  {
   "cell_type": "code",
   "execution_count": 8,
   "metadata": {},
   "outputs": [],
   "source": []
  },
  {
   "cell_type": "code",
   "execution_count": 9,
   "metadata": {},
   "outputs": [],
   "source": []
  },
  {
   "cell_type": "code",
   "execution_count": null,
   "metadata": {},
   "outputs": [],
   "source": []
  },
  {
   "cell_type": "code",
   "execution_count": 32,
   "metadata": {},
   "outputs": [],
   "source": [
    "\n"
   ]
  },
  {
   "cell_type": "code",
   "execution_count": null,
   "metadata": {},
   "outputs": [],
   "source": []
  },
  {
   "cell_type": "code",
   "execution_count": 37,
   "metadata": {},
   "outputs": [
    {
     "name": "stdout",
     "output_type": "stream",
     "text": [
      "Training...\n",
      "Iter: 0, Loss: 0.3334\n",
      "Iter: 1, Loss: 0.2006\n",
      "Iter: 2, Loss: 0.1331\n",
      "Iter: 3, Loss: 0.1075\n",
      "Iter: 4, Loss: 0.1002\n",
      "Iter: 5, Loss: 0.0987\n",
      "Iter: 6, Loss: 0.0984\n",
      "Iter: 7, Loss: 0.0981\n",
      "Iter: 8, Loss: 0.0978\n",
      "Iter: 9, Loss: 0.0976\n",
      "Test Loss: 0.101689\n"
     ]
    }
   ],
   "source": []
  },
  {
   "cell_type": "code",
   "execution_count": 38,
   "metadata": {},
   "outputs": [
    {
     "name": "stdout",
     "output_type": "stream",
     "text": [
      "Training...\n",
      "Iter: 0, Loss: 0.1006\n",
      "Iter: 1, Loss: 0.0925\n",
      "Iter: 2, Loss: 0.0805\n",
      "Iter: 3, Loss: 0.0776\n",
      "Iter: 4, Loss: 0.0935\n",
      "Iter: 5, Loss: 0.0877\n",
      "Iter: 6, Loss: 0.0851\n",
      "Iter: 7, Loss: 0.0788\n",
      "Iter: 8, Loss: 0.0747\n",
      "Iter: 9, Loss: 0.0903\n",
      "Test Loss: 0.088217\n"
     ]
    }
   ],
   "source": []
  },
  {
   "cell_type": "code",
   "execution_count": null,
   "metadata": {},
   "outputs": [],
   "source": []
  }
 ],
 "metadata": {
  "kernelspec": {
   "display_name": "Python 3",
   "language": "python",
   "name": "python3"
  },
  "language_info": {
   "codemirror_mode": {
    "name": "ipython",
    "version": 3
   },
   "file_extension": ".py",
   "mimetype": "text/x-python",
   "name": "python",
   "nbconvert_exporter": "python",
   "pygments_lexer": "ipython3",
   "version": "3.6.7"
  }
 },
 "nbformat": 4,
 "nbformat_minor": 2
}
