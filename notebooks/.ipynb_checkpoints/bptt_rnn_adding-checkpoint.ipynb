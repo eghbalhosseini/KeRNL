{
 "cells": [
  {
   "cell_type": "code",
   "execution_count": 56,
   "metadata": {},
   "outputs": [],
   "source": [
    "# python libraries\n",
    "import numpy as np \n",
    "import matplotlib.pyplot as plt \n",
    "import collections\n",
    "import hashlib\n",
    "import numbers\n",
    "import matplotlib.cm as cm\n",
    "from sys import getsizeof\n",
    "from datetime import datetime\n",
    "from pathlib import Path\n",
    "import os\n",
    "\n",
    "from IPython.display import HTML\n",
    "import re\n",
    "\n",
    "# tensorflow and its dependencies \n",
    "import tensorflow as tf\n",
    "from tensorflow.python.eager import context\n",
    "from tensorflow.python.framework import constant_op\n",
    "from tensorflow.python.framework import dtypes\n",
    "from tensorflow.python.framework import ops\n",
    "\n",
    "from tensorflow.python.framework import tensor_shape\n",
    "from tensorflow.python.framework import tensor_util\n",
    "from tensorflow.python.layers import base as base_layer\n",
    "from tensorflow.python.ops import array_ops\n",
    "from tensorflow.python.ops import clip_ops\n",
    "from tensorflow.python.ops import init_ops\n",
    "from tensorflow.python.ops import math_ops\n",
    "from tensorflow.python.ops import nn_ops\n",
    "from tensorflow.python.ops import partitioned_variables\n",
    "from tensorflow.python.ops import random_ops\n",
    "from tensorflow.python.ops import tensor_array_ops\n",
    "from tensorflow.python.ops import variable_scope as vs\n",
    "from tensorflow.python.ops import variables as tf_variables\n",
    "from tensorflow.python.platform import tf_logging as logging\n",
    "from tensorflow.python.util import nest\n",
    "from tensorflow.contrib.rnn.python.ops.core_rnn_cell import _Linear\n",
    "from tensorflow.contrib import slim\n",
    "\n",
    "## user defined modules \n",
    "# kernel rnn cell \n",
    "import kernl_rnn_cell\n",
    "import adding_problem"
   ]
  },
  {
   "cell_type": "code",
   "execution_count": 58,
   "metadata": {},
   "outputs": [
    {
     "data": {
      "text/plain": [
       "'/home/eghbal/MyData/KeRNL/logs/bptt_rnn_addition/add_eta_weight_1e-03_batch_2e+01_hum_hidd_1e+02_gc_1e+02_steps_5e+02_run_20190226_2300'"
      ]
     },
     "execution_count": 58,
     "metadata": {},
     "output_type": "execute_result"
    }
   ],
   "source": [
    "\n",
    "# Training Parameters\n",
    "weight_learning_rate = 1e-3\n",
    "training_steps = 500\n",
    "batch_size = 20\n",
    "test_size=10000\n",
    "display_step = 100\n",
    "grad_clip=100\n",
    "# Network Parameters\n",
    "num_input = 2 # adding problem data input (first input are the random digits , second input is the mask)\n",
    "time_steps = 200\n",
    "num_hidden = 100 # hidden layer num of features\n",
    "num_output = 1 # value of the addition estimation \n",
    "# \n",
    "\n",
    "# Noise Parameters\n",
    "perturbation_std=1e-4\n",
    "log_dir = os.environ['HOME']+\"/MyData/KeRNL/logs/bptt_rnn_addition/add_eta_weight_%1.0e_batch_%1.0e_hum_hidd_%1.0e_gc_%1.0e_steps_%1.0e_run_%s\" %(weight_learning_rate,batch_size,num_hidden,grad_clip,training_steps, datetime.now().strftime(\"%Y%m%d_%H%M\"))\n",
    "log_dir"
   ]
  },
  {
   "cell_type": "code",
   "execution_count": 59,
   "metadata": {},
   "outputs": [],
   "source": [
    "## define KeRNL unit\n",
    "def bptt_rnn(x,rnn_weights,rnn_bias):\n",
    "    # Define a KeRNL cell, the initialization is done inside the cell with default initializers\n",
    "    with tf.variable_scope(\"bptt\",initializer=tf.initializers.identity()) as scope:\n",
    "        rnn_cell = tf.contrib.rnn.BasicRNNCell(num_hidden,name='irnn')\n",
    "        rnn_outputs, rnn_states = tf.nn.dynamic_rnn(rnn_cell, x, dtype=tf.float32)\n",
    "        rnn_output=tf.matmul(rnn_outputs[:,-1,:], rnn_weights) +rnn_biases\n",
    "     \n",
    "    return rnn_output, rnn_states  "
   ]
  },
  {
   "cell_type": "code",
   "execution_count": 60,
   "metadata": {},
   "outputs": [
    {
     "name": "stdout",
     "output_type": "stream",
     "text": [
      "All parameters: 31203\n",
      "Trainable parameters: 10401\n"
     ]
    }
   ],
   "source": [
    "tf.reset_default_graph()\n",
    "graph=tf.Graph()\n",
    "with graph.as_default():\n",
    "    with tf.variable_scope('bptt_output',initializer=tf.initializers.random_normal()) as scope:\n",
    "        rnn_weights = tf.get_variable(shape=[num_hidden, num_output],name='output_weight')\n",
    "        rnn_biases = tf.get_variable(shape=[num_output],name='output_addition')\n",
    "    # define weights and inputs to the network\n",
    "    X = tf.placeholder(\"float\", [None, time_steps, num_input])\n",
    "    Y = tf.placeholder(\"float\", [None, num_output])\n",
    "    # define a function for extraction of variable names\n",
    "    rnn_output,rnn_states=bptt_rnn(X,rnn_weights,rnn_biases)\n",
    "    trainables=tf.trainable_variables()\n",
    "    variable_names=[v.name for v in tf.trainable_variables()]\n",
    "    #\n",
    "    find_joing_index = lambda x, name_1,name_2 : [a and b for a,b in zip([np.unicode_.find(k.name, name_1)>-1 for k in x] ,[np.unicode_.find(k.name, name_2)>-1 for k in x])].index(True)\n",
    "    # find trainable parameters for kernl\n",
    "    with tf.name_scope(\"bptt_Trainables\") as scope:\n",
    "            # find trainables parameters for bptt\n",
    "        bptt_output_weight_index= find_joing_index(trainables,'bptt','output_weight')\n",
    "        bptt_output_addition_index= find_joing_index(trainables,'bptt','output_addition')\n",
    "        bptt_kernel_index= find_joing_index(trainables,'bptt','kernel')\n",
    "        bptt_bias_index= find_joing_index(trainables,'bptt','bias')\n",
    "            #\n",
    "        bptt_weight_training_indices=np.asarray([bptt_kernel_index,bptt_bias_index,bptt_output_weight_index,bptt_output_addition_index],dtype=np.int)\n",
    "        bptt_weight_trainables= [trainables[k] for k in bptt_weight_training_indices]\n",
    "            \n",
    "            ##################\n",
    "            ## bptt train ####\n",
    "            ##################\n",
    "    with tf.name_scope(\"bptt_train\") as scope:\n",
    "                # BPTT\n",
    "        bptt_loss_output_prediction=tf.losses.mean_squared_error(Y,rnn_output)\n",
    "                # define optimizer\n",
    "        bptt_weight_optimizer = tf.train.RMSPropOptimizer(learning_rate=weight_learning_rate)\n",
    "        bptt_grads=tf.gradients(bptt_loss_output_prediction,bptt_weight_trainables)\n",
    "        bptt_weight_grads_and_vars=list(zip(bptt_grads,bptt_weight_trainables))\n",
    "                # Apply gradient Clipping to recurrent weights\n",
    "        bptt_cropped_weight_grads_and_vars=[(tf.clip_by_norm(grad, grad_clip),var) if  np.unicode_.find(var.name,'output')==-1 else (grad,var) for grad,var in bptt_weight_grads_and_vars]\n",
    "                # apply gradients\n",
    "        bptt_weight_train_op = bptt_weight_optimizer.apply_gradients(bptt_cropped_weight_grads_and_vars)\n",
    "    with tf.name_scope(\"bptt_evaluate\") as scope: \n",
    "        bptt_loss_cross_validiation=tf.losses.mean_squared_error(Y,rnn_output)\n",
    "        \n",
    "    with tf.name_scope('cross_validation_summary') as scope: \n",
    "        tf.summary.scalar('cross_validation_summary',bptt_loss_cross_validiation+1e-10)\n",
    "        bptt_evaluate_summary_op=tf.summary.merge_all(scope=\"cross_validation_summary\") \n",
    "        \n",
    "                ##################\n",
    "                # SUMMARIES ######\n",
    "                ##################\n",
    "                \n",
    "    with tf.name_scope(\"bptt_summaries\") as scope:\n",
    "                    # bptt kernel\n",
    "        tf.summary.histogram('bptt_kernel_grad',bptt_grads[0]+1e-10)\n",
    "        tf.summary.histogram('bptt_kernel', bptt_weight_trainables[0]+1e-10)\n",
    "                    # bptt output weight\n",
    "        tf.summary.histogram('bptt_output_weight_grad',bptt_grads[2]+1e-10)\n",
    "        tf.summary.histogram('bptt_output_weights', bptt_weight_trainables[2]+1e-10)\n",
    "                    # bptt output bias\n",
    "        tf.summary.histogram('bptt_output_addition_grad',bptt_grads[3]+1e-10)\n",
    "        tf.summary.histogram('bptt_output_addition', bptt_weight_trainables[3]+1e-10)\n",
    "                    # bptt loss and accuracy\n",
    "        tf.summary.scalar('bptt_loss_output_prediction',bptt_loss_output_prediction+1e-10)\n",
    "        \n",
    "                    # bptt kernel and ouput matrix\n",
    "            #tf.summary.image('bptt_kernel_matrix',tf.expand_dims(tf.expand_dims(bptt_weight_trainables[0],axis=0),axis=-1))\n",
    "            #tf.summary.image('bptt_kernel_grad',tf.expand_dims(tf.expand_dims(bptt_grads[0],axis=0),axis=-1))\n",
    "            #tf.summary.image('bptt_output_matrix',tf.expand_dims(tf.expand_dims(bptt_weight_trainables[2],axis=0),axis=-1))\n",
    "            #tf.summary.image('bptt_output_matrix_grad',tf.expand_dims(tf.expand_dims(bptt_grads[2],axis=0),axis=-1))\n",
    "       \n",
    "        for grad, var in bptt_weight_grads_and_vars:\n",
    "            norm = tf.norm(tf.clip_by_norm(grad, 10.), ord=2)\n",
    "            tf.summary.histogram(var.name.replace(\":\", \"_\") + '/gradient_l2', \n",
    "                                 tf.where(tf.is_nan(norm), tf.zeros_like(norm), norm))\n",
    "        for grad, var in bptt_cropped_weight_grads_and_vars:\n",
    "            norm = tf.norm(grad, ord=2)\n",
    "            tf.summary.histogram(var.name.replace(\":\", \"_\") + '/gradient_clipped_l2', \n",
    "                                 tf.where(tf.is_nan(norm), tf.zeros_like(norm), norm))   \n",
    "\n",
    "        bptt_merged_summary_op=tf.summary.merge_all(scope=\"bptt_summaries\")            \n",
    "    init = tf.global_variables_initializer()\n",
    "    saver = tf.train.Saver()\n",
    "    print(\"All parameters:\", np.sum([np.product([xi.value for xi in x.get_shape()]) for x in tf.global_variables()]))\n",
    "    print(\"Trainable parameters:\", np.sum([np.product([xi.value for xi in x.get_shape()]) for x in tf.trainable_variables()]))\n",
    "    init = tf.global_variables_initializer()"
   ]
  },
  {
   "cell_type": "code",
   "execution_count": 61,
   "metadata": {},
   "outputs": [
    {
     "name": "stdout",
     "output_type": "stream",
     "text": [
      "['variable: ', 'bptt_output/output_weight:0']\n",
      "['variable: ', 5]\n",
      "['shape: ', (100, 1)]\n",
      "['variable: ', 'bptt_output/output_addition:0']\n",
      "['variable: ', 5]\n",
      "['shape: ', (1,)]\n",
      "['variable: ', 'bptt/rnn/irnn/kernel:0']\n",
      "['variable: ', -1]\n",
      "['shape: ', (102, 100)]\n",
      "['variable: ', 'bptt/rnn/irnn/bias:0']\n",
      "['variable: ', -1]\n",
      "['shape: ', (100,)]\n"
     ]
    }
   ],
   "source": [
    "# verify initialization\n",
    "config = tf.ConfigProto()\n",
    "config.gpu_options.allow_growth = True\n",
    "\n",
    "with tf.Session(graph=graph,) as sess : \n",
    "    sess.run(init)\n",
    "    values,trainable_vars = sess.run([variable_names,trainables])\n",
    "    for k, v in zip(variable_names,values):\n",
    "        print([\"variable: \" , k])\n",
    "        #print([\"value: \" , v])\n",
    "        print([\"variable: \" , np.unicode_.find(k,'output')]) \n",
    "        print([\"shape: \" , v.shape])\n",
    "        #print(v) training_steps"
   ]
  },
  {
   "cell_type": "code",
   "execution_count": 62,
   "metadata": {},
   "outputs": [],
   "source": [
    "Path(log_dir).mkdir(exist_ok=True, parents=True)\n",
    "filelist = [ f for f in os.listdir(log_dir) if f.endswith(\".local\") ]\n",
    "for f in filelist:\n",
    "    os.remove(os.path.join(log_dir, f))"
   ]
  },
  {
   "cell_type": "code",
   "execution_count": 63,
   "metadata": {},
   "outputs": [
    {
     "name": "stdout",
     "output_type": "stream",
     "text": [
      "Step: 2,bptt train Loss: 4.911, cross validation loss :3.013\n",
      "Step: 101,bptt train Loss: 0.321, cross validation loss :0.209\n",
      "Step: 201,bptt train Loss: 0.451, cross validation loss :0.280\n",
      "Step: 301,bptt train Loss: 1.865, cross validation loss :0.402\n",
      "Step: 401,bptt train Loss: 0.134, cross validation loss :0.199\n",
      "Step: 501,bptt train Loss: 0.258, cross validation loss :0.171\n",
      "Optimization Finished!\n",
      "Model saved in path: /home/eghbal/MyData/KeRNL/logs/bptt_rnn_addition/add_eta_weight_1e-03_batch_2e+01_hum_hidd_1e+02_gc_1e+02_steps_5e+02_run_20190226_2300/model.ckpt-500\n"
     ]
    }
   ],
   "source": [
    "# write graph into tensorboard \n",
    "tb_writer = tf.summary.FileWriter(log_dir,graph)\n",
    "# run a training session \n",
    "with tf.Session(graph=graph) as sess:\n",
    "    sess.run(init)\n",
    "    for step in range(1,training_steps+1):\n",
    "        batch_x, batch_y = adding_problem.get_batch(batch_size=batch_size,time_steps=time_steps)\n",
    "        # bptt train \n",
    "        bptt_train, bptt_loss,bptt_merged_summary=sess.run([bptt_weight_train_op,bptt_loss_output_prediction,bptt_merged_summary_op],feed_dict={X:batch_x, Y:batch_y})\n",
    "        \n",
    "        # run summaries \n",
    "        #bptt_merged_summary=sess.run(bptt_merged_summary_op,feed_dict={X:batch_x, Y:batch_y})\n",
    "       \n",
    "        tb_writer.add_summary(bptt_merged_summary, global_step=step)\n",
    "\n",
    "        # \n",
    "        if step % display_step==0 or step==1 : \n",
    "            test_batch_x, test_batch_y = adding_problem.get_batch(batch_size=test_size,time_steps=time_steps)\n",
    "            bptt_test_loss, bptt_evaluate_summary=sess.run([bptt_loss_cross_validiation,bptt_evaluate_summary_op],feed_dict={X:test_batch_x, Y:test_batch_y})\n",
    "            # get batch loss and accuracy \n",
    "            tb_writer.add_summary(bptt_evaluate_summary, global_step=step)\n",
    "            print('Step: {},bptt train Loss: {:.3f}, cross validation loss :{:.3f}'.format(step + 1, bptt_loss,bptt_test_loss))\n",
    "            \n",
    "\n",
    "    print(\"Optimization Finished!\")\n",
    "    #test_data = mnist.test.images[:test_len].reshape((-1, timesteps, num_input))\n",
    "    #test_label = mnist.test.labels[:test_len]\n",
    "    #print(\"Testing Accuracy:\", \n",
    "    #    sess.run(loss_output_prediction, feed_dict={X: test_data, Y: test_label}))\n",
    "    save_path = saver.save(sess, log_dir+\"/model.ckpt\", global_step=step,write_meta_graph=True)\n",
    "    print(\"Model saved in path: %s\" % save_path)\n"
   ]
  },
  {
   "cell_type": "code",
   "execution_count": null,
   "metadata": {},
   "outputs": [],
   "source": []
  },
  {
   "cell_type": "code",
   "execution_count": null,
   "metadata": {},
   "outputs": [],
   "source": []
  }
 ],
 "metadata": {
  "kernelspec": {
   "display_name": "Python 3",
   "language": "python",
   "name": "python3"
  },
  "language_info": {
   "codemirror_mode": {
    "name": "ipython",
    "version": 3
   },
   "file_extension": ".py",
   "mimetype": "text/x-python",
   "name": "python",
   "nbconvert_exporter": "python",
   "pygments_lexer": "ipython3",
   "version": "3.6.7"
  }
 },
 "nbformat": 4,
 "nbformat_minor": 2
}
