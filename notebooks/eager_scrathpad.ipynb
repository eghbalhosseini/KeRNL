{
 "cells": [
  {
   "cell_type": "code",
   "execution_count": 2,
   "metadata": {},
   "outputs": [],
   "source": [
    "from __future__ import print_function\n",
    "import tensorflow as tf\n",
    "import numpy as np \n",
    "import matplotlib.pyplot as plt\n",
    "%matplotlib inline \n",
    "tf.enable_eager_execution()\n",
    "import itertools"
   ]
  },
  {
   "cell_type": "code",
   "execution_count": null,
   "metadata": {},
   "outputs": [],
   "source": [
    "w=tf.constant([[1,0,1],[0,1,0],[1,1,0]],dtype=tf.float32)"
   ]
  },
  {
   "cell_type": "code",
   "execution_count": null,
   "metadata": {},
   "outputs": [],
   "source": [
    "h=tf.matmul(b,w)"
   ]
  },
  {
   "cell_type": "code",
   "execution_count": null,
   "metadata": {},
   "outputs": [],
   "source": [
    "h=tf.reshape(h,[-1,3,3])"
   ]
  },
  {
   "cell_type": "code",
   "execution_count": null,
   "metadata": {},
   "outputs": [],
   "source": [
    "\n",
    "tf.matrix_set_diag(a, tf.zeros(a.shape[0:-1]), name=None)"
   ]
  },
  {
   "cell_type": "code",
   "execution_count": null,
   "metadata": {},
   "outputs": [],
   "source": [
    "embed = tf.reshape(embed, [-1, m])\n",
    "h = tf.matmul(embed, U)\n",
    "h = tf.reshape(h, [-1, n, c])\n"
   ]
  },
  {
   "cell_type": "code",
   "execution_count": null,
   "metadata": {},
   "outputs": [],
   "source": []
  },
  {
   "cell_type": "code",
   "execution_count": null,
   "metadata": {},
   "outputs": [],
   "source": []
  },
  {
   "cell_type": "code",
   "execution_count": null,
   "metadata": {},
   "outputs": [],
   "source": [
    "def _tensor_linear_rec_in(x,y,output_size):\n",
    "    \"\"\"input - x : a 3D tensor with batch x n x n \n",
    "    y is a 2D with size batch x m\n",
    "    outputs a tensor  with size batch x output_size\n",
    "    \"\"\" \n",
    "    shape_x=x.get_shape()\n",
    "    shape_y=y.get_shape()\n",
    "    # \n",
    "    scope=vs.get_variable_scope()\n",
    "    with vs.variable_scope(scope) as outer_scope:\n",
    "#        weight_rec=tf.get_variable(_RECURRENT_WEIGHT_NAME,[shape_x[1],shape_x[2]],\n",
    "#                                   initializer=tf.constant(1.0,shape=[shape_x[1],shape_x[2]])) # [n x n]\n",
    "#        weight_in=tf.get_variable(_INPUT_WEIGHT_NAME,[shape_y[1],shape_y[2]],\n",
    "#                                  initializer=tf.constant(0.0,shape=[shape_y[1],shape_y[2]])) # [n x m]\n",
    "        weight_rec=tf.get_variable(_RECURRENT_WEIGHT_NAME,\n",
    "                                   initializer=tf.constant(0.0,shape=[shape_x[1],shape_x[2]])) # [n x n]\n",
    "        weight_in=tf.get_variable(_INPUT_WEIGHT_NAME,\n",
    "                                  initializer=tf.constant(.5,shape=[shape_y[1],shape_y[2]])) # [n x m]\n",
    "\n",
    "        #\n",
    "        # apply_weights \n",
    "        #recurrent\n",
    "        res_rec_aux=tf.multiply(x,weight_rec)\n",
    "        res_rec_final=tf.reduce_sum(res_rec_aux,tf.rank(res_rec_aux)-1)\n",
    "        #input\n",
    "        res_in_aux=tf.multiply(y,weight_in)\n",
    "        res_in_final=tf.reduce_sum(res_in_aux,tf.rank(res_in_aux)-1)\n",
    "        # sum both \n",
    "        res=tf.add(res_in_final,res_rec_final)\n",
    "\n",
    "        return res\n",
    "\n",
    "_INPUT_WEIGHT_NAME = \"W_in\"\n",
    "_RECURRENT_WEIGHT_NAME = \"W_rec\""
   ]
  },
  {
   "cell_type": "code",
   "execution_count": null,
   "metadata": {},
   "outputs": [],
   "source": [
    "a = tf.constant(np.arange(1.0, 33.0, dtype=np.int32),\n",
    "                shape=[2, 4, 4],dtype=tf.float32)\n",
    "b = tf.constant(np.arange(1.0, 25.0, dtype=np.int32),\n",
    "                shape=[2, 4, 3],dtype=tf.float32)\n"
   ]
  },
  {
   "cell_type": "code",
   "execution_count": null,
   "metadata": {},
   "outputs": [],
   "source": [
    "a"
   ]
  },
  {
   "cell_type": "code",
   "execution_count": null,
   "metadata": {},
   "outputs": [],
   "source": [
    "tf.reduce_sum(b,tf.rank(b)-1)"
   ]
  },
  {
   "cell_type": "code",
   "execution_count": null,
   "metadata": {},
   "outputs": [],
   "source": [
    "_tensor_linear_rec_in(a,b,4)"
   ]
  },
  {
   "cell_type": "code",
   "execution_count": null,
   "metadata": {},
   "outputs": [],
   "source": [
    "def foo():\n",
    "  with tf.variable_scope(\"foo\", reuse=tf.AUTO_REUSE):\n",
    "    v = tf.get_variable(\"v\", [1])\n",
    "  return v\n",
    "\n",
    "v1 = foo()  # Creates v.\n",
    "v2 = foo()  # Gets the same, existing v.\n",
    "assert v1 == v2"
   ]
  },
  {
   "cell_type": "code",
   "execution_count": null,
   "metadata": {},
   "outputs": [],
   "source": [
    "w=tf.constant([[1.0,1.0,1.0,1.0],[1.0,1.0,1.0,1.0],[.5,.5,.5,.5],[.5,.5,.5,.5]])"
   ]
  },
  {
   "cell_type": "code",
   "execution_count": null,
   "metadata": {},
   "outputs": [],
   "source": [
    "w1=tf.constant([[1.0,1.0,1.0],[1.0,1.0,1.0],[.5,.5,.5],[.5,.5,.5]])"
   ]
  },
  {
   "cell_type": "code",
   "execution_count": null,
   "metadata": {},
   "outputs": [],
   "source": [
    "c=tf.multiply(a,w)\n"
   ]
  },
  {
   "cell_type": "code",
   "execution_count": null,
   "metadata": {},
   "outputs": [],
   "source": []
  },
  {
   "cell_type": "code",
   "execution_count": null,
   "metadata": {},
   "outputs": [],
   "source": [
    "def _tensor_expand_dim(x,y,output_size):\n",
    "    \"\"\"input - x : a 2D tensor with batch x n \n",
    "    y is a 2D with size batch x m\n",
    "    outputs is 3D tensor with size batch x n x n and batch x n x m \n",
    "    \"\"\" \n",
    "    shape_x=x.get_shape()\n",
    "    shape_y=y.get_shape()\n",
    "    # define a matrix for removing the diagonal in recurrent spikes \n",
    "    x_diag_fixer=tf.get_variable('x_diag_fixer',\n",
    "                                 initializer=tf.subtract(tf.constant(1.0,shape=[shape_x[1],shape_x[1]]),\n",
    "                                                    tf.eye(output_size))) # [n x n]\n",
    "    # expand x  \n",
    "    x_temp=tf.reshape(tf.tile(x,[1,output_size]),[-1,output_size,shape_x[1]])\n",
    "    # remove diagonal \n",
    "    x_expand=tf.multiply(x_temp,x_diag_fixer)\n",
    "    # expand y  \n",
    "    y_expand=tf.reshape(tf.tile(y,[1,output_size]),[-1,output_size,shape_y[1]])\n",
    "\n",
    "\n",
    "    return x_expand, y_expand\n"
   ]
  },
  {
   "cell_type": "code",
   "execution_count": null,
   "metadata": {},
   "outputs": [],
   "source": [
    "a=tf.constant([[1,0,0],[0,1,1],[0,0,1],[1,1,0]],dtype=tf.float32)"
   ]
  },
  {
   "cell_type": "code",
   "execution_count": null,
   "metadata": {},
   "outputs": [],
   "source": [
    "a"
   ]
  },
  {
   "cell_type": "code",
   "execution_count": null,
   "metadata": {},
   "outputs": [],
   "source": [
    "b=tf.constant([[1,0],[0,1],[0,0],[1,1]],dtype=tf.float32)\n",
    "b"
   ]
  },
  {
   "cell_type": "code",
   "execution_count": null,
   "metadata": {},
   "outputs": [],
   "source": [
    "a"
   ]
  },
  {
   "cell_type": "code",
   "execution_count": null,
   "metadata": {},
   "outputs": [],
   "source": [
    "a_expand,b_expand=_tensor_expand_dim(a,b,3)"
   ]
  },
  {
   "cell_type": "code",
   "execution_count": null,
   "metadata": {},
   "outputs": [],
   "source": [
    "a_expand"
   ]
  },
  {
   "cell_type": "code",
   "execution_count": null,
   "metadata": {},
   "outputs": [],
   "source": [
    "x_diag_fixer=tf.get_variable('x_diag_fixer',initializer=tf.subtract(tf.constant(1.0,shape=[3,3]),\n",
    "                                                    tf.eye(3))) # [n x n]\n"
   ]
  },
  {
   "cell_type": "code",
   "execution_count": null,
   "metadata": {},
   "outputs": [],
   "source": [
    "test=x_diag_fixer.get_shape()"
   ]
  },
  {
   "cell_type": "code",
   "execution_count": null,
   "metadata": {},
   "outputs": [],
   "source": [
    "np.array([2,2])"
   ]
  },
  {
   "cell_type": "code",
   "execution_count": null,
   "metadata": {},
   "outputs": [],
   "source": [
    "tf.greater_equal(a,1.0)"
   ]
  },
  {
   "cell_type": "code",
   "execution_count": null,
   "metadata": {},
   "outputs": [],
   "source": [
    "input_spikes=np.random.randint(2,size=[2,10,2])"
   ]
  },
  {
   "cell_type": "code",
   "execution_count": null,
   "metadata": {},
   "outputs": [],
   "source": [
    "input_spikes"
   ]
  },
  {
   "cell_type": "code",
   "execution_count": null,
   "metadata": {},
   "outputs": [],
   "source": [
    "input_spikes=np.random.randint(2,size=[2,10,1])"
   ]
  },
  {
   "cell_type": "code",
   "execution_count": null,
   "metadata": {},
   "outputs": [],
   "source": [
    "input_spikes.shape"
   ]
  },
  {
   "cell_type": "code",
   "execution_count": null,
   "metadata": {},
   "outputs": [],
   "source": [
    "tf_input_values = tf.constant(input_spikes, dtype=tf.float32)"
   ]
  },
  {
   "cell_type": "code",
   "execution_count": null,
   "metadata": {},
   "outputs": [],
   "source": []
  },
  {
   "cell_type": "code",
   "execution_count": null,
   "metadata": {},
   "outputs": [],
   "source": []
  },
  {
   "cell_type": "code",
   "execution_count": null,
   "metadata": {},
   "outputs": [],
   "source": []
  },
  {
   "cell_type": "code",
   "execution_count": null,
   "metadata": {},
   "outputs": [],
   "source": []
  },
  {
   "cell_type": "code",
   "execution_count": null,
   "metadata": {},
   "outputs": [],
   "source": [
    "\n"
   ]
  },
  {
   "cell_type": "code",
   "execution_count": null,
   "metadata": {},
   "outputs": [],
   "source": [
    "inputs=tf.random_uniform([batch_size,num_of_inputs])\n",
    "batch_size=10\n",
    "num_of_inputs=1\n",
    "inputs=tf.random_uniform([batch_size,num_of_inputs])\n",
    "shape_x=np.array([batch_size,num_of_inputs])\n",
    "threshold_size=5\n",
    "weight=tf.concat([tf.constant(1.0,shape=[shape_x[0],threshold_size]),\n",
    "                                                              tf.constant(-1.0,shape=[shape_x[0],threshold_size])],\n",
    "                                                                axis=1\n",
    "                                                               )\n",
    "threshold=tf.constant([.2,.4,.6,.8,1],shape=[1,5])"
   ]
  },
  {
   "cell_type": "code",
   "execution_count": null,
   "metadata": {},
   "outputs": [],
   "source": [
    "threshold=tf.constant([.2,.4,.6,.8,1],shape=[1,5])"
   ]
  },
  {
   "cell_type": "code",
   "execution_count": null,
   "metadata": {},
   "outputs": [],
   "source": [
    "threshold_expand=tf.matmul(tf.constant(1.0,shape=[shape_x[0],1]),threshold)\n",
    "threshold_expand"
   ]
  },
  {
   "cell_type": "markdown",
   "metadata": {},
   "source": [
    "do positive crossing first "
   ]
  },
  {
   "cell_type": "code",
   "execution_count": null,
   "metadata": {},
   "outputs": [],
   "source": [
    "inputs_expand=tf.matmul(inputs,tf.constant(1.0,shape=[shape_x[1],threshold_size]))\n"
   ]
  },
  {
   "cell_type": "code",
   "execution_count": null,
   "metadata": {},
   "outputs": [],
   "source": [
    "inputs"
   ]
  },
  {
   "cell_type": "code",
   "execution_count": null,
   "metadata": {},
   "outputs": [],
   "source": [
    "positive_outputs=tf.cast(tf.greater(inputs_expand-threshold_expand,0),tf.float32)"
   ]
  },
  {
   "cell_type": "code",
   "execution_count": null,
   "metadata": {},
   "outputs": [],
   "source": [
    "positive_outputs"
   ]
  },
  {
   "cell_type": "code",
   "execution_count": null,
   "metadata": {},
   "outputs": [],
   "source": [
    "negative_outputs=tf.cast(tf.greater(threshold_expand-inputs_expand,0),tf.float32)"
   ]
  },
  {
   "cell_type": "code",
   "execution_count": null,
   "metadata": {},
   "outputs": [],
   "source": [
    "negative_outputs "
   ]
  },
  {
   "cell_type": "code",
   "execution_count": null,
   "metadata": {},
   "outputs": [],
   "source": [
    "tf.concat([positive_outputs,negative_outputs],axis=1)"
   ]
  },
  {
   "cell_type": "code",
   "execution_count": null,
   "metadata": {},
   "outputs": [],
   "source": [
    "np.divide(1,40)"
   ]
  },
  {
   "cell_type": "code",
   "execution_count": null,
   "metadata": {},
   "outputs": [],
   "source": [
    "a=np.linspace(np.divide(1,40),1,40)"
   ]
  },
  {
   "cell_type": "code",
   "execution_count": null,
   "metadata": {},
   "outputs": [],
   "source": [
    "tf.constant(tf.linspace(1.0,2,2),shape=[1,40])"
   ]
  },
  {
   "cell_type": "code",
   "execution_count": null,
   "metadata": {},
   "outputs": [],
   "source": [
    "a=tf.random_uniform(shape=[10,1],dtype=tf.float32)\n",
    "a"
   ]
  },
  {
   "cell_type": "code",
   "execution_count": null,
   "metadata": {},
   "outputs": [],
   "source": [
    "def _calcualte_crossings(x,threshold):\n",
    "    \"\"\"input :x : a 2D tensor with batch x n \n",
    "    outputs a tensor with the same size as x \n",
    "    and values of 0 or 1 depending on comparison between \n",
    "    x and threshold\"\"\" \n",
    "    @tf.custom_gradient\n",
    "    def crossings(x):\n",
    "        dtype=x.dtype\n",
    "        shape=x.get_shape()\n",
    "        thresholds=tf.constant(threshold,shape=[shape[0].value,shape[1].value],dtype=dtype)\n",
    "        # if it has one row \n",
    "        res=tf.greater_equal(x,thresholds)\n",
    "        def grad(dy):\n",
    "            # calculate 1-|x|\n",
    "            temp=1-tf.abs(x)\n",
    "            dyres=tf.maximum(temp,0.0)\n",
    "            return dyres\n",
    "        return tf.cast(res,dtype=dtype), grad\n",
    "    z=crossings(x)\n",
    "    return z \n"
   ]
  },
  {
   "cell_type": "code",
   "execution_count": null,
   "metadata": {},
   "outputs": [],
   "source": [
    "tf.set_random_seed(10)\n",
    "a=tf.random_uniform(shape=[5,5],dtype=tf.float32)\n",
    "threshold=tf.constant([.5,0,.1,.2,0],shape=[5,1])\n",
    "a"
   ]
  },
  {
   "cell_type": "code",
   "execution_count": null,
   "metadata": {},
   "outputs": [],
   "source": [
    "tf.negative(tf.divide(tf.sign(threshold-a)-1,2))"
   ]
  },
  {
   "cell_type": "code",
   "execution_count": null,
   "metadata": {},
   "outputs": [],
   "source": [
    "\n",
    "\n",
    "\n",
    "import matplotlib.cm as cm\n",
    "plt.figure(figsize=[15,10])\n",
    "colors_map=cm.viridis(np.linspace(0,1,z.shape[0]))\n",
    "for t in range(z.shape[1]):\n",
    "    cross=np.argwhere(z[:,t])\n",
    "    plt.scatter(cross*0+t,cross,color=colors_map[cross.flatten(),:],s=4)\n",
    "    "
   ]
  },
  {
   "cell_type": "code",
   "execution_count": null,
   "metadata": {},
   "outputs": [],
   "source": [
    "a = tf.constant([-1,1],dtype=tf.float32)\n",
    "b = tf.nn.relu(a)\n",
    "g = tf.gradients(b, a)"
   ]
  },
  {
   "cell_type": "code",
   "execution_count": null,
   "metadata": {},
   "outputs": [],
   "source": [
    "with tf.Session() as sess:\n",
    "    tf.global_variables_initializer()\n",
    "    c=sess.run(g)\n",
    "    \n"
   ]
  },
  {
   "cell_type": "code",
   "execution_count": null,
   "metadata": {},
   "outputs": [],
   "source": [
    "g=tf.constant(np.ones(4,3))"
   ]
  },
  {
   "cell_type": "code",
   "execution_count": null,
   "metadata": {},
   "outputs": [],
   "source": [
    "a=np.arange(12).reshape(4,3)\n",
    "b=np.arange(8).reshape(4,-1)\n",
    "c=np.arange(24).reshape(4,3,2)\n"
   ]
  },
  {
   "cell_type": "code",
   "execution_count": null,
   "metadata": {},
   "outputs": [],
   "source": [
    "a=tf.constant(np.arange(10.0),shape=[2,5])\n"
   ]
  },
  {
   "cell_type": "code",
   "execution_count": null,
   "metadata": {},
   "outputs": [],
   "source": [
    "b=tf.constant(np.arange(6.0), shape=[2,3])\n"
   ]
  },
  {
   "cell_type": "code",
   "execution_count": null,
   "metadata": {},
   "outputs": [],
   "source": [
    "result = tf.einsum(\"un,uv->unv\", a, b)\n",
    "result"
   ]
  },
  {
   "cell_type": "code",
   "execution_count": null,
   "metadata": {},
   "outputs": [],
   "source": [
    "batch=2\n",
    "n=3\n",
    "m=4\n",
    "a=tf.constant(np.arange(6.0),shape=[batch,n])\n"
   ]
  },
  {
   "cell_type": "code",
   "execution_count": null,
   "metadata": {},
   "outputs": [],
   "source": [
    "b=tf.constant(np.arange(24.0),shape=[batch,n,m])\n",
    "b"
   ]
  },
  {
   "cell_type": "code",
   "execution_count": null,
   "metadata": {},
   "outputs": [],
   "source": [
    "tf.multiply(b,tf.expand_dims(a,axis=-1))"
   ]
  },
  {
   "cell_type": "code",
   "execution_count": null,
   "metadata": {},
   "outputs": [],
   "source": [
    "c=tf.expand_dims(tf.expand_dims(b,axis=0),axis=-1)"
   ]
  },
  {
   "cell_type": "code",
   "execution_count": null,
   "metadata": {},
   "outputs": [],
   "source": [
    "c"
   ]
  },
  {
   "cell_type": "markdown",
   "metadata": {},
   "source": [
    "use itertools and dictionary to create a loop over differet parameters \n"
   ]
  },
  {
   "cell_type": "code",
   "execution_count": null,
   "metadata": {},
   "outputs": [],
   "source": [
    "dict_train_step={\"A\":10,\"B\":100,\"C\":1000}\n",
    "dict_batch_size={\"A\":50,\"B\":150,\"C\":250}"
   ]
  },
  {
   "cell_type": "code",
   "execution_count": null,
   "metadata": {},
   "outputs": [],
   "source": [
    "a=list(itertools.permutations('ABC', 2))"
   ]
  },
  {
   "cell_type": "code",
   "execution_count": null,
   "metadata": {},
   "outputs": [],
   "source": [
    "dict_train_step[a[0][1]]\n"
   ]
  },
  {
   "cell_type": "code",
   "execution_count": null,
   "metadata": {},
   "outputs": [],
   "source": [
    "a=tf.constant()\n"
   ]
  },
  {
   "cell_type": "code",
   "execution_count": null,
   "metadata": {},
   "outputs": [],
   "source": [
    "b=tf.constant(np.arange(24.0),shape=[batch,n,m])"
   ]
  },
  {
   "cell_type": "code",
   "execution_count": null,
   "metadata": {},
   "outputs": [],
   "source": [
    "batch=2\n",
    "n=3\n",
    "m=4\n",
    "a=tf.constant(np.arange(6.0),shape=[batch,n])\n"
   ]
  },
  {
   "cell_type": "code",
   "execution_count": null,
   "metadata": {},
   "outputs": [],
   "source": [
    "a"
   ]
  },
  {
   "cell_type": "code",
   "execution_count": null,
   "metadata": {},
   "outputs": [],
   "source": [
    "tf.transpose(a)"
   ]
  },
  {
   "cell_type": "code",
   "execution_count": null,
   "metadata": {},
   "outputs": [],
   "source": [
    "a=tf.constant(np.arange(18.0),shape=[3,3,2],dtype=tf.float32)\n",
    "a"
   ]
  },
  {
   "cell_type": "code",
   "execution_count": null,
   "metadata": {},
   "outputs": [],
   "source": [
    "b=tf.roll(a,shift=-1, axis=1)\n",
    "b"
   ]
  },
  {
   "cell_type": "code",
   "execution_count": null,
   "metadata": {},
   "outputs": [],
   "source": [
    "b[:,-0,:]"
   ]
  },
  {
   "cell_type": "code",
   "execution_count": null,
   "metadata": {},
   "outputs": [],
   "source": [
    "c=tf.expand_dims(tf.concat([tf.ones([2,2],tf.float32),tf.zeros([1,2],dtype=tf.float32)],axis=0),axis=0)\n",
    "c"
   ]
  },
  {
   "cell_type": "code",
   "execution_count": null,
   "metadata": {},
   "outputs": [],
   "source": [
    "tf.multiply(a,c)\n"
   ]
  },
  {
   "cell_type": "code",
   "execution_count": 8,
   "metadata": {},
   "outputs": [
    {
     "data": {
      "text/plain": [
       "<tf.Tensor: id=103, shape=(4, 3), dtype=float32, numpy=\n",
       "array([[0., 0., 0.],\n",
       "       [1., 0., 1.],\n",
       "       [0., 0., 0.],\n",
       "       [0., 1., 0.]], dtype=float32)>"
      ]
     },
     "execution_count": 8,
     "metadata": {},
     "output_type": "execute_result"
    }
   ],
   "source": [
    "b=tf.constant(np.array([1,3,1]),dtype=tf.int32)\n",
    "batch_size=2\n",
    "tf.transpose(tf.one_hot(b,depth=max(b)+1))"
   ]
  },
  {
   "cell_type": "code",
   "execution_count": null,
   "metadata": {},
   "outputs": [],
   "source": [
    "c=tf.tile(tf.expand_dims(tf.transpose(tf.one_hot(b,depth=max(b)+1)),axis=0),[batch_size,1,1])\n",
    "c"
   ]
  },
  {
   "cell_type": "code",
   "execution_count": null,
   "metadata": {},
   "outputs": [],
   "source": [
    "a=tf.constant([[1,1,1],[0,0,1]],tf.float32)\n"
   ]
  },
  {
   "cell_type": "code",
   "execution_count": null,
   "metadata": {},
   "outputs": [],
   "source": [
    "d=tf.multiply(tf.expand_dims(a,axis=-2),c)"
   ]
  },
  {
   "cell_type": "code",
   "execution_count": null,
   "metadata": {},
   "outputs": [],
   "source": [
    "d\n"
   ]
  },
  {
   "cell_type": "code",
   "execution_count": null,
   "metadata": {},
   "outputs": [],
   "source": [
    "S=tf.roll(d,shift=-1,axis=1)\n",
    "S[:,0,:]\n",
    "tf.constant(0,shape=[1,1])"
   ]
  },
  {
   "cell_type": "code",
   "execution_count": null,
   "metadata": {},
   "outputs": [],
   "source": [
    "tf.diag(tf.concat([tf.ones(3,tf.float32),tf.constant([0],dtype=tf.float32)],axis=0))"
   ]
  },
  {
   "cell_type": "code",
   "execution_count": 4,
   "metadata": {},
   "outputs": [
    {
     "data": {
      "text/plain": [
       "<tf.Tensor: id=4, shape=(2,), dtype=int32, numpy=array([2, 2], dtype=int32)>"
      ]
     },
     "execution_count": 4,
     "metadata": {},
     "output_type": "execute_result"
    }
   ],
   "source": [
    "num_hidden=2\n",
    "num_batch=3\n",
    "delay_vect=tf.random_uniform(minval=1,maxval=3,shape=[num_hidden],dtype=tf.int32)\n",
    "delay_vect\n"
   ]
  },
  {
   "cell_type": "code",
   "execution_count": null,
   "metadata": {},
   "outputs": [],
   "source": [
    "spike=tf.cast(tf.random_uniform(minval=0,maxval=2,shape=[num_batch,num_hidden],dtype=tf.int32),tf.float32)\n",
    "spike"
   ]
  },
  {
   "cell_type": "code",
   "execution_count": null,
   "metadata": {},
   "outputs": [],
   "source": [
    "delay_mat=tf.transpose(tf.one_hot(delay_vect,depth=max(delay_vect)+1))\n",
    "delay_mat"
   ]
  },
  {
   "cell_type": "code",
   "execution_count": null,
   "metadata": {},
   "outputs": [],
   "source": [
    "delay_tensor=tf.tile(tf.expand_dims(delay_mat,axis=0),[num_batch,1,1])"
   ]
  },
  {
   "cell_type": "code",
   "execution_count": null,
   "metadata": {},
   "outputs": [],
   "source": [
    "output_spike=tf.einsum('uvn,vn->uvn',delay_tensor,spike)\n",
    "output_spike"
   ]
  },
  {
   "cell_type": "code",
   "execution_count": null,
   "metadata": {},
   "outputs": [],
   "source": [
    "\n",
    "tf.multiply(tf.expand_dims(spike,axis=-2),delay_tensor)"
   ]
  },
  {
   "cell_type": "code",
   "execution_count": null,
   "metadata": {},
   "outputs": [],
   "source": [
    "elems = tf.constant([1, 2, 3, 4, 5, 6],dtype=tf.int32)\n"
   ]
  },
  {
   "cell_type": "code",
   "execution_count": 23,
   "metadata": {},
   "outputs": [
    {
     "data": {
      "text/plain": [
       "<tf.Tensor: id=326, shape=(2, 2), dtype=int32, numpy=\n",
       "array([[0, 1],\n",
       "       [1, 0]], dtype=int32)>"
      ]
     },
     "execution_count": 23,
     "metadata": {},
     "output_type": "execute_result"
    }
   ],
   "source": [
    "spike=tf.random_uniform(minval=0,maxval=2,shape=[batch_size,num_hidden],dtype=tf.int32)\n",
    "spike"
   ]
  },
  {
   "cell_type": "code",
   "execution_count": 17,
   "metadata": {},
   "outputs": [
    {
     "data": {
      "text/plain": [
       "<tf.Tensor: id=235, shape=(2, 2, 3), dtype=float32, numpy=\n",
       "array([[[0., 0., 0.],\n",
       "        [0., 1., 0.]],\n",
       "\n",
       "       [[0., 0., 0.],\n",
       "        [0., 0., 0.]]], dtype=float32)>"
      ]
     },
     "execution_count": 17,
     "metadata": {},
     "output_type": "execute_result"
    }
   ],
   "source": [
    "tf.multiply(tf.expand_dims(tf.cast(spike,tf.float32),axis=-1),tf.one_hot(spike,depth=3))"
   ]
  },
  {
   "cell_type": "code",
   "execution_count": 18,
   "metadata": {},
   "outputs": [],
   "source": [
    "synaptic_delay=tf.constant([3,2])"
   ]
  },
  {
   "cell_type": "code",
   "execution_count": 24,
   "metadata": {},
   "outputs": [
    {
     "data": {
      "text/plain": [
       "<tf.Tensor: id=340, shape=(2, 2), dtype=int32, numpy=\n",
       "array([[0, 2],\n",
       "       [3, 0]], dtype=int32)>"
      ]
     },
     "execution_count": 24,
     "metadata": {},
     "output_type": "execute_result"
    }
   ],
   "source": [
    "tf.multiply(synaptic_delay,spike)"
   ]
  },
  {
   "cell_type": "code",
   "execution_count": 29,
   "metadata": {},
   "outputs": [
    {
     "data": {
      "text/plain": [
       "<tf.Tensor: id=442, shape=(2, 4, 2), dtype=float32, numpy=\n",
       "array([[[0., 0.],\n",
       "        [0., 0.],\n",
       "        [0., 1.],\n",
       "        [0., 0.]],\n",
       "\n",
       "       [[0., 0.],\n",
       "        [0., 0.],\n",
       "        [0., 0.],\n",
       "        [1., 0.]]], dtype=float32)>"
      ]
     },
     "execution_count": 29,
     "metadata": {},
     "output_type": "execute_result"
    }
   ],
   "source": [
    "tf.multiply(tf.expand_dims(tf.cast(spike,tf.float32),axis=-2),tf.one_hot(tf.multiply(synaptic_delay,spike),depth=4,axis=1))"
   ]
  },
  {
   "cell_type": "code",
   "execution_count": 31,
   "metadata": {},
   "outputs": [],
   "source": [
    "synaptic_shape=np.array([1,2,3])\n",
    "correction_mat=tf.expand_dims(tf.concat([tf.ones([synaptic_shape[1]-1,synaptic_shape[2]],tf.float32),tf.zeros([1,synaptic_shape[2]],dtype=tf.float32)],axis=0),axis=0)"
   ]
  },
  {
   "cell_type": "code",
   "execution_count": 32,
   "metadata": {},
   "outputs": [
    {
     "data": {
      "text/plain": [
       "<tf.Tensor: id=525, shape=(1, 2, 3), dtype=float32, numpy=\n",
       "array([[[1., 1., 1.],\n",
       "        [0., 0., 0.]]], dtype=float32)>"
      ]
     },
     "execution_count": 32,
     "metadata": {},
     "output_type": "execute_result"
    }
   ],
   "source": [
    "correction_mat"
   ]
  },
  {
   "cell_type": "code",
   "execution_count": 2,
   "metadata": {},
   "outputs": [],
   "source": [
    "mnist = tf.keras.datasets.mnist\n",
    "\n",
    "(x_train, y_train), (x_test, y_test) = mnist.load_data()\n",
    "x_train, x_test = x_train / 255.0, x_test / 255.0"
   ]
  },
  {
   "cell_type": "code",
   "execution_count": 54,
   "metadata": {},
   "outputs": [],
   "source": [
    "batch=2\n",
    "delay=4\n",
    "n=3\n",
    "m=2"
   ]
  },
  {
   "cell_type": "code",
   "execution_count": 53,
   "metadata": {},
   "outputs": [],
   "source": [
    "S=np.zeros((batch,delay,n,m))"
   ]
  },
  {
   "cell_type": "code",
   "execution_count": 41,
   "metadata": {},
   "outputs": [],
   "source": [
    "def _get_2D_input_spike(S,spike,delay_tensor,depth):\n",
    "    \"\"\"input - \n",
    "    S : a 4D tensor with batch x delay x n x m ,\n",
    "    spike: a 2D tensor batch x n, \n",
    "    delay_tensor : a 2D tensor n x m\n",
    "    depth : scalar representing maximum delay \n",
    "    \n",
    "    outputs a tensor with size batch x output_size, where outputsize is twice the size of thresholds_size\n",
    "    \"\"\"\n",
    "    # roll S and get new input,\n",
    "    S_update=tf.roll(S,shift=-1,axis=1)\n",
    "    new_input=S_update[:,0,:]\n",
    "    synaptic_shape=tf.shape(S)\n",
    "    # add new spikes to S\n",
    "    correction_mat=tf.expand_dims(tf.concat([tf.ones([synaptic_shape[1]-1,synaptic_shape[2],synaptic_shape[3]],tf.float32),tf.zeros([1,synaptic_shape[2],synaptic_shape[3]],dtype=tf.float32)],axis=0),axis=0)\n",
    "\n",
    "    S_cut=tf.multiply(S,correction_mat)\n",
    "    # add spikes to S_cut\n",
    "    spike_temp=tf.expand_dims(tf.expand_dims(tf.cast(spike,tf.float32),axis=-2),axis=-2)\n",
    "    delay_tensor_temp=tf.one_hot(tf.cast(tf.multiply(delay_tensor,spike),tf.int32),depth=depth,axis=1)\n",
    "    spike_tensor=tf.multiply(spike_temp,delay_tensor_temp)\n",
    "    # update S and return output\n",
    "    S_out=tf.add(S_cut,spike_tensor)\n",
    "    return S_out, new_input\n",
    "\n"
   ]
  },
  {
   "cell_type": "code",
   "execution_count": 42,
   "metadata": {},
   "outputs": [],
   "source": [
    "synaptic_shape=S.shape"
   ]
  },
  {
   "cell_type": "code",
   "execution_count": 67,
   "metadata": {},
   "outputs": [
    {
     "data": {
      "text/plain": [
       "<tf.Tensor: id=1464, shape=(2,), dtype=int32, numpy=array([2, 2], dtype=int32)>"
      ]
     },
     "execution_count": 67,
     "metadata": {},
     "output_type": "execute_result"
    }
   ],
   "source": [
    "x=tf.constant((np.array([[1,1],[1,0]])))\n"
   ]
  },
  {
   "cell_type": "code",
   "execution_count": 65,
   "metadata": {},
   "outputs": [],
   "source": []
  },
  {
   "cell_type": "code",
   "execution_count": 68,
   "metadata": {},
   "outputs": [
    {
     "data": {
      "text/plain": [
       "array([[1, 0],\n",
       "       [3, 2],\n",
       "       [1, 4]])"
      ]
     },
     "execution_count": 68,
     "metadata": {},
     "output_type": "execute_result"
    }
   ],
   "source": [
    "delay=np.array([[1,0],[3,2],[1,4]])\n",
    "delay"
   ]
  },
  {
   "cell_type": "code",
   "execution_count": 71,
   "metadata": {},
   "outputs": [
    {
     "data": {
      "text/plain": [
       "<tf.Tensor: id=1594, shape=(2, 3, 2), dtype=int64, numpy=\n",
       "array([[[1, 0],\n",
       "        [3, 2],\n",
       "        [1, 4]],\n",
       "\n",
       "       [[1, 0],\n",
       "        [3, 0],\n",
       "        [1, 0]]])>"
      ]
     },
     "execution_count": 71,
     "metadata": {},
     "output_type": "execute_result"
    }
   ],
   "source": [
    "delay_mat=tf.einsum('uv,nv->nuv',tf.constant(delay),x)\n",
    "delay_mat"
   ]
  },
  {
   "cell_type": "code",
   "execution_count": 72,
   "metadata": {},
   "outputs": [
    {
     "data": {
      "text/plain": [
       "<tf.Tensor: id=1622, shape=(2, 4, 3, 2), dtype=float32, numpy=\n",
       "array([[[[0., 1.],\n",
       "         [0., 0.],\n",
       "         [0., 0.]],\n",
       "\n",
       "        [[1., 0.],\n",
       "         [0., 0.],\n",
       "         [1., 0.]],\n",
       "\n",
       "        [[0., 0.],\n",
       "         [0., 1.],\n",
       "         [0., 0.]],\n",
       "\n",
       "        [[0., 0.],\n",
       "         [1., 0.],\n",
       "         [0., 0.]]],\n",
       "\n",
       "\n",
       "       [[[0., 1.],\n",
       "         [0., 1.],\n",
       "         [0., 1.]],\n",
       "\n",
       "        [[1., 0.],\n",
       "         [0., 0.],\n",
       "         [1., 0.]],\n",
       "\n",
       "        [[0., 0.],\n",
       "         [0., 0.],\n",
       "         [0., 0.]],\n",
       "\n",
       "        [[0., 0.],\n",
       "         [1., 0.],\n",
       "         [0., 0.]]]], dtype=float32)>"
      ]
     },
     "execution_count": 72,
     "metadata": {},
     "output_type": "execute_result"
    }
   ],
   "source": [
    "tf.one_hot(delay_mat,depth=4,axis=1)"
   ]
  },
  {
   "cell_type": "code",
   "execution_count": 47,
   "metadata": {},
   "outputs": [
    {
     "data": {
      "text/plain": [
       "<tf.Tensor: id=948, shape=(1, 1, 1, 2), dtype=float32, numpy=array([[[[1., 0.]]]], dtype=float32)>"
      ]
     },
     "execution_count": 47,
     "metadata": {},
     "output_type": "execute_result"
    }
   ],
   "source": [
    "x_temp=tf.expand_dims(tf.expand_dims(tf.cast(x,tf.float32),axis=-2),axis=-2)\n",
    "x_temp"
   ]
  },
  {
   "cell_type": "code",
   "execution_count": 48,
   "metadata": {},
   "outputs": [
    {
     "data": {
      "text/plain": [
       "<tf.Tensor: id=974, shape=(1, 4, 3, 2), dtype=float32, numpy=\n",
       "array([[[[0., 0.],\n",
       "         [0., 0.],\n",
       "         [0., 0.]],\n",
       "\n",
       "        [[1., 0.],\n",
       "         [0., 0.],\n",
       "         [1., 0.]],\n",
       "\n",
       "        [[0., 0.],\n",
       "         [0., 0.],\n",
       "         [0., 0.]],\n",
       "\n",
       "        [[0., 0.],\n",
       "         [1., 0.],\n",
       "         [0., 0.]]]], dtype=float32)>"
      ]
     },
     "execution_count": 48,
     "metadata": {},
     "output_type": "execute_result"
    }
   ],
   "source": [
    "S_new=tf.multiply(x_temp,tf.one_hot(delay_mat,depth=4,axis=1))\n",
    "S_new"
   ]
  },
  {
   "cell_type": "code",
   "execution_count": 49,
   "metadata": {},
   "outputs": [
    {
     "data": {
      "text/plain": [
       "<tf.Tensor: id=998, shape=(1, 4, 3, 2), dtype=float32, numpy=\n",
       "array([[[[1., 0.],\n",
       "         [0., 0.],\n",
       "         [1., 0.]],\n",
       "\n",
       "        [[0., 0.],\n",
       "         [0., 0.],\n",
       "         [0., 0.]],\n",
       "\n",
       "        [[0., 0.],\n",
       "         [1., 0.],\n",
       "         [0., 0.]],\n",
       "\n",
       "        [[0., 0.],\n",
       "         [0., 0.],\n",
       "         [0., 0.]]]], dtype=float32)>"
      ]
     },
     "execution_count": 49,
     "metadata": {},
     "output_type": "execute_result"
    }
   ],
   "source": [
    "S_update=tf.roll(S_new,shift=-1,axis=1)\n",
    "S_update"
   ]
  },
  {
   "cell_type": "code",
   "execution_count": 50,
   "metadata": {},
   "outputs": [
    {
     "data": {
      "text/plain": [
       "<tf.Tensor: id=1023, shape=(1, 3, 2), dtype=float32, numpy=\n",
       "array([[[1., 0.],\n",
       "        [0., 0.],\n",
       "        [1., 0.]]], dtype=float32)>"
      ]
     },
     "execution_count": 50,
     "metadata": {},
     "output_type": "execute_result"
    }
   ],
   "source": [
    "new_input=S_update[:,0,:]\n",
    "new_input"
   ]
  },
  {
   "cell_type": "code",
   "execution_count": 51,
   "metadata": {},
   "outputs": [
    {
     "data": {
      "text/plain": [
       "<tf.Tensor: id=1045, shape=(4,), dtype=int32, numpy=array([1, 4, 3, 2], dtype=int32)>"
      ]
     },
     "execution_count": 51,
     "metadata": {},
     "output_type": "execute_result"
    }
   ],
   "source": [
    "synaptic_shape=tf.shape(S_new)\n",
    "synaptic_shape"
   ]
  },
  {
   "cell_type": "code",
   "execution_count": 89,
   "metadata": {},
   "outputs": [
    {
     "data": {
      "text/plain": [
       "<tf.Tensor: id=732, shape=(1, 4, 3, 2), dtype=float32, numpy=\n",
       "array([[[[1., 1.],\n",
       "         [1., 1.],\n",
       "         [1., 1.]],\n",
       "\n",
       "        [[1., 1.],\n",
       "         [1., 1.],\n",
       "         [1., 1.]],\n",
       "\n",
       "        [[1., 1.],\n",
       "         [1., 1.],\n",
       "         [1., 1.]],\n",
       "\n",
       "        [[0., 0.],\n",
       "         [0., 0.],\n",
       "         [0., 0.]]]], dtype=float32)>"
      ]
     },
     "execution_count": 89,
     "metadata": {},
     "output_type": "execute_result"
    }
   ],
   "source": [
    "correction_mat=tf.expand_dims(tf.concat([tf.ones([synaptic_shape[1]-1,synaptic_shape[2],synaptic_shape[3]],tf.float32),tf.zeros([1,synaptic_shape[2],synaptic_shape[3]],dtype=tf.float32)],axis=0),axis=0)\n"
   ]
  },
  {
   "cell_type": "code",
   "execution_count": 91,
   "metadata": {},
   "outputs": [
    {
     "data": {
      "text/plain": [
       "<tf.Tensor: id=787, shape=(1, 4, 3, 2), dtype=float32, numpy=\n",
       "array([[[[1., 0.],\n",
       "         [0., 0.],\n",
       "         [1., 0.]],\n",
       "\n",
       "        [[0., 0.],\n",
       "         [0., 0.],\n",
       "         [0., 0.]],\n",
       "\n",
       "        [[0., 0.],\n",
       "         [1., 0.],\n",
       "         [0., 0.]],\n",
       "\n",
       "        [[0., 0.],\n",
       "         [0., 0.],\n",
       "         [0., 0.]]]], dtype=float32)>"
      ]
     },
     "execution_count": 91,
     "metadata": {},
     "output_type": "execute_result"
    }
   ],
   "source": [
    "S_cut=tf.multiply(S_update,correction_mat)\n",
    "S_cut"
   ]
  },
  {
   "cell_type": "code",
   "execution_count": 32,
   "metadata": {},
   "outputs": [],
   "source": [
    "from tensorflow.python.util import nest\n",
    "from tensorflow.python.ops import variable_scope as vs\n",
    "_TENSOR_VARIABLE_NAME='kernel_2D'\n",
    "def _tensor_linear(args,\n",
    "            output_size,\n",
    "            bias=False,\n",
    "            bias_initializer=None,\n",
    "            kernel_initializer=None):\n",
    "  \"\"\"Linear map: sum_i(args[i] * W[i]), where W[i] is a variable.\n",
    "  Args:\n",
    "    args: a 2D Tensor or a list of 2D, batch, n, Tensors.\n",
    "    output_size: int, second dimension of W[i].\n",
    "    bias: boolean, whether to add a bias term or not.\n",
    "    bias_initializer: starting value to initialize the bias\n",
    "      (default is all zeros).\n",
    "    kernel_initializer: starting value to initialize the weight.\n",
    "  Returns:\n",
    "    A 2D Tensor with shape `[batch, output_size]` equal to\n",
    "    sum_i(args[i] * W[i]), where W[i]s are newly created matrices.\n",
    "  Raises:\n",
    "    ValueError: if some of the arguments has unspecified or wrong shape.\n",
    "  \"\"\"\n",
    "  if args is None or (nest.is_sequence(args) and not args):\n",
    "    raise ValueError(\"`args` must be specified\")\n",
    "  if not nest.is_sequence(args):\n",
    "    args = [args]\n",
    "\n",
    "  # Calculate the total size of arguments on dimension 1.\n",
    "  total_arg_size = 0\n",
    "  shapes = [a.get_shape() for a in args]\n",
    "  for shape in shapes:\n",
    "    if shape.ndims != 3:\n",
    "      raise ValueError(\"tensor linear is expecting 3D arguments: %s\" % shapes)\n",
    "    if shape.dims[-1].value is None:\n",
    "      raise ValueError(\"linear expects shape[2] to be provided for shape %s, \"\n",
    "                       \"but saw %s\" % (shape, shape[-1]))\n",
    "    else:\n",
    "      total_arg_size += shape.dims[-1].value\n",
    "\n",
    "  dtype = [a.dtype for a in args][0]\n",
    "\n",
    "  # Now the computation.\n",
    "  scope = vs.get_variable_scope()\n",
    "  with vs.variable_scope(scope) as outer_scope:\n",
    "    weights = vs.get_variable(\n",
    "        _TENSOR_VARIABLE_NAME, [output_size, total_arg_size],\n",
    "        dtype=dtype,\n",
    "        initializer=kernel_initializer)\n",
    "    if len(args) == 1:\n",
    "      res = tf.reduce_sum(tf.multiply(weights,args[0]),axis=-1)\n",
    "    else:\n",
    "      res = tf.reduce_sum(tf.multiply(weights,array_ops.concat(args, -1)),axis=-1)\n",
    "    if not bias:\n",
    "      return res\n",
    "    with vs.variable_scope(outer_scope) as inner_scope:\n",
    "      inner_scope.set_partitioner(None)\n",
    "      if bias_initializer is None:\n",
    "        bias_initializer = init_ops.constant_initializer(0.0, dtype=dtype)\n",
    "      biases = vs.get_variable(\n",
    "          _BIAS_VARIABLE_NAME, [output_size],\n",
    "          dtype=dtype,\n",
    "          initializer=bias_initializer)\n",
    "    return nn_ops.bias_add(res, biases)"
   ]
  },
  {
   "cell_type": "code",
   "execution_count": 38,
   "metadata": {},
   "outputs": [
    {
     "data": {
      "text/plain": [
       "<tf.Tensor: id=744, shape=(1, 3), dtype=float32, numpy=array([[0.41732073, 0.        , 0.73945963]], dtype=float32)>"
      ]
     },
     "execution_count": 38,
     "metadata": {},
     "output_type": "execute_result"
    }
   ],
   "source": [
    "_tensor_linear(new_input,3)"
   ]
  },
  {
   "cell_type": "code",
   "execution_count": 34,
   "metadata": {},
   "outputs": [
    {
     "data": {
      "text/plain": [
       "<tf.Tensor: id=81, shape=(1, 3, 2), dtype=float32, numpy=\n",
       "array([[[1., 0.],\n",
       "        [0., 0.],\n",
       "        [1., 0.]]], dtype=float32)>"
      ]
     },
     "execution_count": 34,
     "metadata": {},
     "output_type": "execute_result"
    }
   ],
   "source": [
    "new_input"
   ]
  },
  {
   "cell_type": "code",
   "execution_count": 35,
   "metadata": {},
   "outputs": [
    {
     "ename": "NameError",
     "evalue": "name 'kernel_2D' is not defined",
     "output_type": "error",
     "traceback": [
      "\u001b[0;31m---------------------------------------------------------------------------\u001b[0m",
      "\u001b[0;31mNameError\u001b[0m                                 Traceback (most recent call last)",
      "\u001b[0;32m<ipython-input-35-45e08cee1eaa>\u001b[0m in \u001b[0;36m<module>\u001b[0;34m\u001b[0m\n\u001b[0;32m----> 1\u001b[0;31m \u001b[0mkernel_2D\u001b[0m\u001b[0;34m\u001b[0m\u001b[0;34m\u001b[0m\u001b[0m\n\u001b[0m",
      "\u001b[0;31mNameError\u001b[0m: name 'kernel_2D' is not defined"
     ]
    }
   ],
   "source": [
    "kernel_2D"
   ]
  },
  {
   "cell_type": "code",
   "execution_count": 36,
   "metadata": {},
   "outputs": [],
   "source": [
    " weights = vs.get_variable(\n",
    "        _TENSOR_VARIABLE_NAME, [3, 2],\n",
    "        dtype=tf.float32)"
   ]
  },
  {
   "cell_type": "code",
   "execution_count": 37,
   "metadata": {},
   "outputs": [
    {
     "data": {
      "text/plain": [
       "<tf.Variable 'kernel_2D:0' shape=(3, 2) dtype=float32, numpy=\n",
       "array([[ 0.39672112,  0.76382565],\n",
       "       [-0.79841745,  0.8517103 ],\n",
       "       [-0.8448924 ,  1.011239  ]], dtype=float32)>"
      ]
     },
     "execution_count": 37,
     "metadata": {},
     "output_type": "execute_result"
    }
   ],
   "source": [
    "weights\n"
   ]
  },
  {
   "cell_type": "code",
   "execution_count": 30,
   "metadata": {},
   "outputs": [
    {
     "data": {
      "text/plain": [
       "<tf.Tensor: id=528, shape=(1, 3, 2), dtype=float32, numpy=\n",
       "array([[[-0.8342153 , -0.        ],\n",
       "        [ 0.        , -0.        ],\n",
       "        [-0.12256187, -0.        ]]], dtype=float32)>"
      ]
     },
     "execution_count": 30,
     "metadata": {},
     "output_type": "execute_result"
    }
   ],
   "source": [
    "tf.multiply(weights,new_input)"
   ]
  },
  {
   "cell_type": "code",
   "execution_count": 4,
   "metadata": {},
   "outputs": [],
   "source": [
    "def _delay_one_hot_initializer(shape,dtype=None,partition_info=None,verify_shape=None, max_val=2):\n",
    "    if dtype is None:\n",
    "        dtype=tf.float32\n",
    "    return tf.one_hot(tf.random_uniform(shape,0,max_val+1,dtype=tf.int32),depth=max_val+1)\n",
    "    #return tf.one_hot(tf.zeros(shape,dtype=tf.int32),depth=max_val)\n",
    "    #return tf.cast(2*tf.ones(shape,dtype=tf.int32),dtype)"
   ]
  },
  {
   "cell_type": "code",
   "execution_count": 94,
   "metadata": {},
   "outputs": [],
   "source": [
    "g=tf.get_variable('g',shape=[4,3],initializer=_delay_one_hot_initializer)"
   ]
  },
  {
   "cell_type": "code",
   "execution_count": 85,
   "metadata": {},
   "outputs": [
    {
     "data": {
      "text/plain": [
       "<tf.Tensor: id=1142, shape=(4, 3), dtype=float32, numpy=\n",
       "array([[1., 1., 1.],\n",
       "       [1., 1., 1.],\n",
       "       [1., 1., 1.],\n",
       "       [1., 1., 1.]], dtype=float32)>"
      ]
     },
     "execution_count": 85,
     "metadata": {},
     "output_type": "execute_result"
    }
   ],
   "source": [
    "tf.reduce_sum(g,axis=2)\n"
   ]
  },
  {
   "cell_type": "code",
   "execution_count": 39,
   "metadata": {},
   "outputs": [
    {
     "data": {
      "text/plain": [
       "<tf.Tensor: id=263, shape=(3, 3), dtype=int32, numpy=\n",
       "array([[2, 0, 1],\n",
       "       [2, 1, 2],\n",
       "       [2, 0, 0]], dtype=int32)>"
      ]
     },
     "execution_count": 39,
     "metadata": {},
     "output_type": "execute_result"
    }
   ],
   "source": [
    "tf.random_uniform(shape,0,max_val+1,dtype=tf.int32)"
   ]
  },
  {
   "cell_type": "code",
   "execution_count": 42,
   "metadata": {},
   "outputs": [
    {
     "data": {
      "text/plain": [
       "<tf.Tensor: id=298, shape=(3, 3, 3), dtype=float32, numpy=\n",
       "array([[[0., 0., 1.],\n",
       "        [1., 0., 0.],\n",
       "        [0., 1., 0.]],\n",
       "\n",
       "       [[0., 0., 1.],\n",
       "        [0., 1., 0.],\n",
       "        [0., 0., 1.]],\n",
       "\n",
       "       [[0., 0., 1.],\n",
       "        [1., 0., 0.],\n",
       "        [1., 0., 0.]]], dtype=float32)>"
      ]
     },
     "execution_count": 42,
     "metadata": {},
     "output_type": "execute_result"
    }
   ],
   "source": [
    "b=tf.one_hot(a,depth=3)\n",
    "b"
   ]
  },
  {
   "cell_type": "code",
   "execution_count": 81,
   "metadata": {},
   "outputs": [
    {
     "data": {
      "text/plain": [
       "<tf.Tensor: id=1046, shape=(4, 3), dtype=float32, numpy=\n",
       "array([[-1.2396913 , -0.3139113 , -0.24704355],\n",
       "       [ 0.78403956, -0.7245917 ,  1.3794924 ],\n",
       "       [ 0.02887853, -0.42368838,  0.10573038],\n",
       "       [-0.7269855 , -1.6107087 ,  0.3004246 ]], dtype=float32)>"
      ]
     },
     "execution_count": 81,
     "metadata": {},
     "output_type": "execute_result"
    }
   ],
   "source": [
    "w=tf.random_normal(shape=[4,3])\n",
    "w"
   ]
  },
  {
   "cell_type": "code",
   "execution_count": 86,
   "metadata": {},
   "outputs": [],
   "source": [
    "wd=tf.einsum('un,unv->unv',w,g)"
   ]
  },
  {
   "cell_type": "code",
   "execution_count": 87,
   "metadata": {},
   "outputs": [
    {
     "data": {
      "text/plain": [
       "<tf.Tensor: id=1170, shape=(4, 3, 3), dtype=float32, numpy=\n",
       "array([[[-0.        , -0.        , -1.2396913 ],\n",
       "        [-0.3139113 , -0.        , -0.        ],\n",
       "        [-0.        , -0.24704355, -0.        ]],\n",
       "\n",
       "       [[ 0.        ,  0.78403956,  0.        ],\n",
       "        [-0.        , -0.7245917 , -0.        ],\n",
       "        [ 0.        ,  0.        ,  1.3794924 ]],\n",
       "\n",
       "       [[ 0.        ,  0.02887853,  0.        ],\n",
       "        [-0.42368838, -0.        , -0.        ],\n",
       "        [ 0.        ,  0.        ,  0.10573038]],\n",
       "\n",
       "       [[-0.        , -0.        , -0.7269855 ],\n",
       "        [-0.        , -0.        , -1.6107087 ],\n",
       "        [ 0.        ,  0.3004246 ,  0.        ]]], dtype=float32)>"
      ]
     },
     "execution_count": 87,
     "metadata": {},
     "output_type": "execute_result"
    }
   ],
   "source": [
    "wd"
   ]
  },
  {
   "cell_type": "code",
   "execution_count": 91,
   "metadata": {},
   "outputs": [
    {
     "data": {
      "text/plain": [
       "<tf.Tensor: id=1280, shape=(1, 3, 3), dtype=float32, numpy=\n",
       "array([[[0., 1., 0.],\n",
       "        [1., 1., 1.],\n",
       "        [0., 0., 0.]]], dtype=float32)>"
      ]
     },
     "execution_count": 91,
     "metadata": {},
     "output_type": "execute_result"
    }
   ],
   "source": [
    "spikes=tf.cast(tf.random_uniform(shape=[1,3,3],minval=0,maxval=2,dtype=tf.int32),tf.float32)\n",
    "spikes"
   ]
  },
  {
   "cell_type": "code",
   "execution_count": 93,
   "metadata": {},
   "outputs": [
    {
     "data": {
      "text/plain": [
       "<tf.Tensor: id=1046, shape=(4, 3), dtype=float32, numpy=\n",
       "array([[-1.2396913 , -0.3139113 , -0.24704355],\n",
       "       [ 0.78403956, -0.7245917 ,  1.3794924 ],\n",
       "       [ 0.02887853, -0.42368838,  0.10573038],\n",
       "       [-0.7269855 , -1.6107087 ,  0.3004246 ]], dtype=float32)>"
      ]
     },
     "execution_count": 93,
     "metadata": {},
     "output_type": "execute_result"
    }
   ],
   "source": [
    "w"
   ]
  },
  {
   "cell_type": "code",
   "execution_count": 92,
   "metadata": {},
   "outputs": [
    {
     "data": {
      "text/plain": [
       "<tf.Tensor: id=1309, shape=(1, 4), dtype=float32, numpy=\n",
       "array([[-0.3139113 ,  0.05944788, -0.39480984, -1.6107087 ]],\n",
       "      dtype=float32)>"
      ]
     },
     "execution_count": 92,
     "metadata": {},
     "output_type": "execute_result"
    }
   ],
   "source": [
    "tf.einsum('unv,pnv->up',spikes,wd)"
   ]
  },
  {
   "cell_type": "code",
   "execution_count": 67,
   "metadata": {},
   "outputs": [
    {
     "data": {
      "text/plain": [
       "<tf.Tensor: id=431, shape=(4, 4), dtype=float32, numpy=\n",
       "array([[-0.59065473,  1.1486787 , -1.0515604 ,  1.7172953 ],\n",
       "       [-0.59518284,  0.98360944, -0.51066786, -2.7135394 ],\n",
       "       [-0.01143678,  0.91597027, -0.21074538,  1.2811371 ],\n",
       "       [-0.82938164,  0.36550024, -0.38082522,  1.6179453 ]],\n",
       "      dtype=float32)>"
      ]
     },
     "execution_count": 67,
     "metadata": {},
     "output_type": "execute_result"
    }
   ],
   "source": []
  },
  {
   "cell_type": "code",
   "execution_count": 69,
   "metadata": {},
   "outputs": [
    {
     "data": {
      "text/plain": [
       "<tf.Tensor: id=769, shape=(4,), dtype=float32, numpy=array([ 1.2237588 , -2.8357806 ,  1.9749253 ,  0.77323866], dtype=float32)>"
      ]
     },
     "execution_count": 69,
     "metadata": {},
     "output_type": "execute_result"
    }
   ],
   "source": [
    "tf.reduce_sum(w,axis=1)"
   ]
  },
  {
   "cell_type": "code",
   "execution_count": 2,
   "metadata": {},
   "outputs": [],
   "source": [
    "batch=2\n",
    "num_hidden=3\n",
    "num_inputs=2\n",
    "delays=3 # max val=2 \n"
   ]
  },
  {
   "cell_type": "code",
   "execution_count": 5,
   "metadata": {},
   "outputs": [
    {
     "data": {
      "text/plain": [
       "<tf.Variable 'g:0' shape=(3, 2, 3) dtype=float32, numpy=\n",
       "array([[[0., 0., 1.],\n",
       "        [0., 1., 0.]],\n",
       "\n",
       "       [[0., 0., 1.],\n",
       "        [1., 0., 0.]],\n",
       "\n",
       "       [[0., 0., 1.],\n",
       "        [1., 0., 0.]]], dtype=float32)>"
      ]
     },
     "execution_count": 5,
     "metadata": {},
     "output_type": "execute_result"
    }
   ],
   "source": [
    "delay_tensor=tf.get_variable('g',shape=[3,2],initializer=_delay_one_hot_initializer)\n",
    "delay_tensor"
   ]
  },
  {
   "cell_type": "code",
   "execution_count": 6,
   "metadata": {},
   "outputs": [
    {
     "data": {
      "text/plain": [
       "<tf.Tensor: id=23, shape=(3, 2), dtype=float32, numpy=\n",
       "array([[-0.45084414,  0.64287966],\n",
       "       [ 0.45809525,  0.7257027 ],\n",
       "       [-0.8971915 , -1.0059435 ]], dtype=float32)>"
      ]
     },
     "execution_count": 6,
     "metadata": {},
     "output_type": "execute_result"
    }
   ],
   "source": [
    "w=tf.random_normal(shape=[num_hidden,num_inputs])\n",
    "w"
   ]
  },
  {
   "cell_type": "code",
   "execution_count": 13,
   "metadata": {},
   "outputs": [
    {
     "data": {
      "text/plain": [
       "<tf.Tensor: id=108, shape=(3, 2, 3), dtype=float32, numpy=\n",
       "array([[[-0.        , -0.        , -0.45084414],\n",
       "        [ 0.        ,  0.64287966,  0.        ]],\n",
       "\n",
       "       [[ 0.        ,  0.        ,  0.45809525],\n",
       "        [ 0.7257027 ,  0.        ,  0.        ]],\n",
       "\n",
       "       [[-0.        , -0.        , -0.8971915 ],\n",
       "        [-1.0059435 , -0.        , -0.        ]]], dtype=float32)>"
      ]
     },
     "execution_count": 13,
     "metadata": {},
     "output_type": "execute_result"
    }
   ],
   "source": [
    "wd=tf.einsum('un,unv->unv',w,delay_tensor)\n",
    "wd"
   ]
  },
  {
   "cell_type": "code",
   "execution_count": 11,
   "metadata": {},
   "outputs": [
    {
     "data": {
      "text/plain": [
       "<tf.Tensor: id=85, shape=(2, 2, 3), dtype=float32, numpy=\n",
       "array([[[1., 0., 0.],\n",
       "        [1., 0., 1.]],\n",
       "\n",
       "       [[1., 1., 0.],\n",
       "        [0., 0., 0.]]], dtype=float32)>"
      ]
     },
     "execution_count": 11,
     "metadata": {},
     "output_type": "execute_result"
    }
   ],
   "source": [
    "spikes=tf.cast(tf.random_uniform(shape=[batch,num_inputs,delays],minval=0,maxval=2,dtype=tf.int32),tf.float32)\n",
    "spikes"
   ]
  },
  {
   "cell_type": "code",
   "execution_count": 12,
   "metadata": {},
   "outputs": [
    {
     "data": {
      "text/plain": [
       "<tf.Tensor: id=97, shape=(2, 3), dtype=float32, numpy=\n",
       "array([[ 0.       ,  0.7257027, -1.0059435],\n",
       "       [ 0.       ,  0.       ,  0.       ]], dtype=float32)>"
      ]
     },
     "execution_count": 12,
     "metadata": {},
     "output_type": "execute_result"
    }
   ],
   "source": [
    "tf.einsum('unv,pnv->up',spikes,wd)"
   ]
  },
  {
   "cell_type": "code",
   "execution_count": 120,
   "metadata": {},
   "outputs": [
    {
     "data": {
      "text/plain": [
       "<tf.Tensor: id=2048, shape=(2, 2, 3), dtype=float32, numpy=\n",
       "array([[[0., 0., 1.],\n",
       "        [1., 0., 0.]],\n",
       "\n",
       "       [[1., 0., 0.],\n",
       "        [0., 1., 1.]]], dtype=float32)>"
      ]
     },
     "execution_count": 120,
     "metadata": {},
     "output_type": "execute_result"
    }
   ],
   "source": [
    "tf.roll(spikes,shift=-1, axis=-1)"
   ]
  },
  {
   "cell_type": "code",
   "execution_count": 122,
   "metadata": {},
   "outputs": [],
   "source": [
    "synaptic_shape=tf.shape(spikes)"
   ]
  },
  {
   "cell_type": "code",
   "execution_count": 126,
   "metadata": {},
   "outputs": [],
   "source": [
    "correction_mat=tf.expand_dims(tf.concat([tf.ones([synaptic_shape[1],synaptic_shape[2]-1],tf.float32),tf.zeros([synaptic_shape[1],1],dtype=tf.float32)],axis=1),axis=0)"
   ]
  },
  {
   "cell_type": "code",
   "execution_count": 127,
   "metadata": {},
   "outputs": [
    {
     "data": {
      "text/plain": [
       "<tf.Tensor: id=2315, shape=(1, 2, 3), dtype=float32, numpy=\n",
       "array([[[1., 1., 0.],\n",
       "        [1., 1., 0.]]], dtype=float32)>"
      ]
     },
     "execution_count": 127,
     "metadata": {},
     "output_type": "execute_result"
    }
   ],
   "source": [
    "correction_mat"
   ]
  },
  {
   "cell_type": "code",
   "execution_count": 129,
   "metadata": {},
   "outputs": [
    {
     "data": {
      "text/plain": [
       "<tf.Tensor: id=2396, shape=(2, 2, 3), dtype=float32, numpy=\n",
       "array([[[1., 0., 0.],\n",
       "        [0., 1., 0.]],\n",
       "\n",
       "       [[0., 1., 0.],\n",
       "        [1., 0., 0.]]], dtype=float32)>"
      ]
     },
     "execution_count": 129,
     "metadata": {},
     "output_type": "execute_result"
    }
   ],
   "source": [
    "S_cut=tf.multiply(spikes,correction_mat)\n",
    "S_cut"
   ]
  },
  {
   "cell_type": "code",
   "execution_count": 130,
   "metadata": {},
   "outputs": [],
   "source": [
    "spike=tf.cast(tf.random_uniform(shape=[batch,num_inputs],minval=0,maxval=2,dtype=tf.int32),tf.float32)"
   ]
  },
  {
   "cell_type": "code",
   "execution_count": 131,
   "metadata": {},
   "outputs": [
    {
     "data": {
      "text/plain": [
       "<tf.Tensor: id=2430, shape=(2, 2), dtype=float32, numpy=\n",
       "array([[0., 1.],\n",
       "       [1., 1.]], dtype=float32)>"
      ]
     },
     "execution_count": 131,
     "metadata": {},
     "output_type": "execute_result"
    }
   ],
   "source": [
    "spike"
   ]
  },
  {
   "cell_type": "code",
   "execution_count": 135,
   "metadata": {},
   "outputs": [
    {
     "data": {
      "text/plain": [
       "<tf.Tensor: id=2594, shape=(2, 2, 4), dtype=float32, numpy=\n",
       "array([[[1., 0., 0., 0.],\n",
       "        [0., 1., 0., 1.]],\n",
       "\n",
       "       [[0., 1., 0., 1.],\n",
       "        [1., 0., 0., 1.]]], dtype=float32)>"
      ]
     },
     "execution_count": 135,
     "metadata": {},
     "output_type": "execute_result"
    }
   ],
   "source": [
    "tf.concat([S_cut,tf.expand_dims(spike,axis=-1)],axis=-1)"
   ]
  },
  {
   "cell_type": "code",
   "execution_count": 144,
   "metadata": {},
   "outputs": [],
   "source": [
    "split2,_ = tf.split(S_cut, [-1, 1], -1)"
   ]
  },
  {
   "cell_type": "code",
   "execution_count": 145,
   "metadata": {},
   "outputs": [
    {
     "data": {
      "text/plain": [
       "<tf.Tensor: id=2914, shape=(2, 2, 2), dtype=float32, numpy=\n",
       "array([[[1., 0.],\n",
       "        [0., 1.]],\n",
       "\n",
       "       [[0., 1.],\n",
       "        [1., 0.]]], dtype=float32)>"
      ]
     },
     "execution_count": 145,
     "metadata": {},
     "output_type": "execute_result"
    }
   ],
   "source": [
    "split2"
   ]
  },
  {
   "cell_type": "code",
   "execution_count": 147,
   "metadata": {},
   "outputs": [],
   "source": [
    "S_out=tf.concat([split2,tf.expand_dims(spike,axis=-1)],axis=-1)"
   ]
  },
  {
   "cell_type": "code",
   "execution_count": 148,
   "metadata": {},
   "outputs": [
    {
     "data": {
      "text/plain": [
       "<tf.Tensor: id=3023, shape=(2, 2, 3), dtype=float32, numpy=\n",
       "array([[[1., 0., 0.],\n",
       "        [0., 1., 1.]],\n",
       "\n",
       "       [[0., 1., 1.],\n",
       "        [1., 0., 1.]]], dtype=float32)>"
      ]
     },
     "execution_count": 148,
     "metadata": {},
     "output_type": "execute_result"
    }
   ],
   "source": [
    "S_out"
   ]
  },
  {
   "cell_type": "code",
   "execution_count": 13,
   "metadata": {},
   "outputs": [],
   "source": [
    "def _lsnn_weight_initializer(shape,dtype=None,partition_info=None,verify_shape=None, gain=0.5):\n",
    "    if dtype is None:\n",
    "        dtype=tf.float32\n",
    "    #extract second dimension\n",
    "    W_rec=tf.divide(gain*tf.random_normal(shape=[shape[0],shape[0]],mean=0,stddev=1,dtype=dtype),tf.sqrt(tf.cast(shape[1],tf.float32)))\n",
    "    new_shape=[shape[0],shape[1]-shape[0]]\n",
    "\n",
    "    W_in = tf.divide(gain*tf.random_normal(shape=new_shape,mean=0,stddev=1,dtype=dtype),tf.sqrt(tf.cast(new_shape[0],tf.float32)))\n",
    "    #W_in=tf.random_normal(new_shape,mean=0,stddev=0.001)\n",
    "    return tf.concat([W_in,W_rec],axis=1)"
   ]
  },
  {
   "cell_type": "code",
   "execution_count": 14,
   "metadata": {},
   "outputs": [],
   "source": [
    "delay_tensor=tf.get_variable('g',shape=[2,3],initializer=_lsnn_weight_initializer)"
   ]
  },
  {
   "cell_type": "code",
   "execution_count": 15,
   "metadata": {},
   "outputs": [
    {
     "data": {
      "text/plain": [
       "<tf.Variable 'g:0' shape=(2, 3) dtype=float32, numpy=\n",
       "array([[ 0.36764896,  0.20081498,  0.34533864],\n",
       "       [-0.10750882,  0.4148495 , -0.06166827]], dtype=float32)>"
      ]
     },
     "execution_count": 15,
     "metadata": {},
     "output_type": "execute_result"
    }
   ],
   "source": [
    "delay_tensor"
   ]
  },
  {
   "cell_type": "code",
   "execution_count": null,
   "metadata": {},
   "outputs": [],
   "source": []
  }
 ],
 "metadata": {
  "kernelspec": {
   "display_name": "Python 3",
   "language": "python",
   "name": "python3"
  },
  "language_info": {
   "codemirror_mode": {
    "name": "ipython",
    "version": 3
   },
   "file_extension": ".py",
   "mimetype": "text/x-python",
   "name": "python",
   "nbconvert_exporter": "python",
   "pygments_lexer": "ipython3",
   "version": "3.6.7"
  }
 },
 "nbformat": 4,
 "nbformat_minor": 2
}
