{
 "cells": [
  {
   "cell_type": "markdown",
   "metadata": {},
   "source": [
    "# Background \n"
   ]
  },
  {
   "cell_type": "markdown",
   "metadata": {},
   "source": [
    "### notes about the implementation \n",
    "-  both input and recurrent weight are combined into 1 kernel matrix \n"
   ]
  },
  {
   "cell_type": "code",
   "execution_count": 85,
   "metadata": {},
   "outputs": [],
   "source": [
    "from __future__ import absolute_import\n",
    "from __future__ import division\n",
    "from __future__ import print_function\n",
    "import matplotlib.pyplot as plt \n",
    "%matplotlib inline\n",
    "import matplotlib.cm as cm\n",
    "import numpy as np\n",
    "import tensorflow as tf\n",
    "import collections\n",
    "import hashlib\n",
    "import numbers\n",
    "from datetime import datetime\n",
    "from pathlib import Path\n",
    "import os\n",
    "\n",
    "import sys\n",
    "sys.path.append('../')\n",
    "import spiking_cell_bare as spiking_cell\n",
    "import adding_problem\n"
   ]
  },
  {
   "cell_type": "code",
   "execution_count": 86,
   "metadata": {},
   "outputs": [],
   "source": [
    "# Training Parameters\n",
    "# Training Parameters\n",
    "weight_learning_rate = 1e-3\n",
    "training_steps = 4000\n",
    "batch_size = 25\n",
    "training_size=batch_size*training_steps\n",
    "epochs=50\n",
    "test_size=1000\n",
    "display_step = 200\n",
    "grad_clip=100\n",
    "buffer_size=600\n",
    "# Network Parameters\n",
    "num_input = 2 # adding problem data input (first input are the random digits , second input is the mask)\n",
    "time_steps = 50\n",
    "num_units_input_layer=50\n",
    "num_hidden = 100 # hidden layer num of features\n",
    "num_output = 1 # value of the addition estimation\n",
    "#\n",
    "training_x, training_y = adding_problem.get_batch(batch_size=training_size,time_steps=time_steps)\n",
    "savepath='/home/eghbal/Desktop/openmind/logs/bptt_snn_addition_dataset/bp_snn_add_T_5e+01_eta_W_1e-03_batch_2e+01_hum_hidd_1e+02_gc_1e+02_steps_4e+03_epoch_5e+00_run_20190310_2035/'"
   ]
  },
  {
   "cell_type": "code",
   "execution_count": 89,
   "metadata": {},
   "outputs": [
    {
     "name": "stdout",
     "output_type": "stream",
     "text": [
      "WARNING:tensorflow:Tensor(\"input_layer/rnn/while/rnn/input_spike_cell/strided_slice:0\", shape=(), dtype=int32): Please use float \n",
      "WARNING:tensorflow:(?, 50): Please use float \n"
     ]
    }
   ],
   "source": [
    "def _hinton_identity_initializer(shape,dtype=None,partition_info=None,verify_shape=None, max_val=1):\n",
    "    if dtype is None:\n",
    "        dtype=tf.float32\n",
    "    #extract second dimension\n",
    "    W_rec=tf.eye(shape[-1],dtype=dtype)\n",
    "    new_shape=[shape[0]-shape[-1],shape[-1]]\n",
    "    W_in=tf.random_normal(new_shape,mean=0,stddev=0.001)\n",
    "    return tf.concat([W_in,W_rec],axis=0)\n",
    "\n",
    "## define KeRNL unit\n",
    "def bptt_snn_all_states(x,context):\n",
    "    with tf.variable_scope('input_layer') as scope:\n",
    "        input_layer_cell=spiking_cell.input_spike_cell(num_units=num_units_input_layer)\n",
    "        output_l1, states_l1 = tf.nn.dynamic_rnn(input_layer_cell, dtype=tf.float32, inputs=x)\n",
    "    with tf.variable_scope('hidden_layer') as scope:\n",
    "        hidden_layer_cell=spiking_cell.conductance_spike_cell(num_units=num_hidden,output_is_tuple=True,tau_refract=2.0,tau_m=20.0,kernel_initializer=tf.contrib.layers.xavier_initializer())\n",
    "        output_hidden, states_hidden = tf.nn.dynamic_rnn(hidden_layer_cell, dtype=tf.float32, inputs=tf.concat([output_l1,context],-1))\n",
    "    with tf.variable_scope('output_layer') as scope :\n",
    "        output_layer_cell=spiking_cell.output_spike_cell(num_units=num_output)\n",
    "        output_voltage, voltage_states=tf.nn.dynamic_rnn(output_layer_cell,dtype=tf.float32,inputs=output_hidden.spike)\n",
    "    return output_voltage,output_hidden\n",
    "\n",
    "tf.reset_default_graph()\n",
    "graph=tf.Graph()\n",
    "with graph.as_default():\n",
    "\n",
    "    BATCH_SIZE=tf.placeholder(tf.int64)\n",
    "    X = tf.placeholder(\"float\", [None, time_steps, num_input])\n",
    "    Y = tf.placeholder(\"float\", [None, num_output])\n",
    "    # define a dataset\n",
    "    dataset=tf.data.Dataset.from_tensor_slices((X,Y)).batch(BATCH_SIZE).repeat()\n",
    "    dataset = dataset.shuffle(buffer_size=buffer_size)\n",
    "    iter = dataset.make_initializable_iterator()\n",
    "    inputs,labels =iter.get_next()\n",
    "    # define a function for extraction of variable names\n",
    "    bptt_output,bptt_hidden_states=bptt_snn_all_states(tf.expand_dims(inputs[:,:,0],axis=-1),tf.expand_dims(inputs[:,:,1],axis=-1))\n",
    "    trainables=tf.trainable_variables()\n",
    "    variable_names=[v.name for v in tf.trainable_variables()]\n",
    "    #\n",
    "    find_join_index = lambda x, name_1,name_2 : [a and b for a,b in zip([np.unicode_.find(k.name, name_1)>-1 for k in x] ,[np.unicode_.find(k.name, name_2)>-1 for k in x])].index(True)\n",
    "    # find trainable parameters for bptt\n",
    "    with tf.name_scope('bptt_Trainables') as scope:\n",
    "        bptt_output_weight_index= find_join_index(trainables,'output_layer','kernel')\n",
    "        bptt_kernel_index= find_join_index(trainables,'hidden_layer','kernel')\n",
    "        bptt_weight_training_indices=np.asarray([bptt_kernel_index,bptt_output_weight_index],dtype=np.int)\n",
    "        bptt_weight_trainables= [trainables[k] for k in bptt_weight_training_indices]\n",
    "\n",
    "    with tf.name_scope('bptt_train_weights') as scope:\n",
    "        bptt_weight_optimizer = tf.train.RMSPropOptimizer(learning_rate=weight_learning_rate)\n",
    "        bptt_loss_output_prediction=tf.losses.mean_squared_error(labels,bptt_output[:,-1,:])\n",
    "        bptt_grad_cost_trainables=tf.gradients(bptt_loss_output_prediction,bptt_weight_trainables)\n",
    "        bptt_weight_grads_and_vars=list(zip(bptt_grad_cost_trainables,bptt_weight_trainables))\n",
    "        bptt_cropped_weight_grads_and_vars=[(tf.clip_by_norm(grad, grad_clip),var) if  np.unicode_.find(var.name,'output')==-1 else (grad,var) for grad,var in bptt_weight_grads_and_vars]\n",
    "        bptt_weight_train_op = bptt_weight_optimizer.apply_gradients(bptt_cropped_weight_grads_and_vars)\n",
    "\n",
    "\n",
    "            ##################\n",
    "            ## bptt train ####\n",
    "            ##################\n",
    "\n",
    "    with tf.name_scope(\"bptt_evaluate\") as scope:\n",
    "        bptt_loss_cross_validiation=tf.losses.mean_squared_error(labels,bptt_output[:,-1,:])\n",
    "\n",
    "    with tf.name_scope('cross_validation_summary') as scope:\n",
    "        tf.summary.scalar('cross_validation_summary',bptt_loss_cross_validiation+1e-10)\n",
    "        bptt_evaluate_summary_op=tf.summary.merge_all(scope=\"cross_validation_summary\")\n",
    "\n",
    "                ##################\n",
    "                # SUMMARIES ######\n",
    "                ##################\n",
    "\n",
    "    with tf.name_scope(\"bptt_weight_summaries\") as scope:\n",
    "        tf.summary.histogram('bptt_kernel_grad',bptt_grad_cost_trainables[0]+1e-10)\n",
    "        tf.summary.histogram('bptt_kernel', trainables[0]+1e-10)\n",
    "        tf.summary.histogram('bptt_output_weight_grad',bptt_grad_cost_trainables[1]+1e-10)\n",
    "        tf.summary.histogram('bptt_output_weights', trainables[1]+1e-10)\n",
    "        tf.summary.scalar('bptt_loss_output_prediction',bptt_loss_output_prediction+1e-10)\n",
    "        # bptt senstivity tensor and temporal filter\n",
    "        bptt_merged_summary_op=tf.summary.merge_all(scope=\"bptt_weight_summaries\")\n",
    "    init = tf.global_variables_initializer()\n",
    "    saver = tf.train.Saver()\n"
   ]
  },
  {
   "cell_type": "code",
   "execution_count": 90,
   "metadata": {},
   "outputs": [
    {
     "name": "stdout",
     "output_type": "stream",
     "text": [
      "INFO:tensorflow:Restoring parameters from /home/eghbal/Desktop/openmind/logs/bptt_snn_addition_dataset/bp_snn_add_T_5e+01_eta_W_1e-03_batch_2e+01_hum_hidd_1e+02_gc_1e+02_steps_4e+03_epoch_5e+00_run_20190310_2035/model.ckpt\n"
     ]
    }
   ],
   "source": [
    "with tf.Session(graph=graph) as sess: \n",
    "    saver.restore(sess, savepath+'model.ckpt')\n",
    "    sess.run(iter.initializer,feed_dict={X: training_x, Y: training_y , BATCH_SIZE: batch_size})\n",
    "    batch_x,batch_y, outputs,hiddens=sess.run([inputs,labels,bptt_output,bptt_hidden_states])"
   ]
  },
  {
   "cell_type": "code",
   "execution_count": null,
   "metadata": {},
   "outputs": [],
   "source": []
  },
  {
   "cell_type": "code",
   "execution_count": 91,
   "metadata": {},
   "outputs": [
    {
     "data": {
      "text/plain": [
       "Text(0, 0.5, 'output class')"
      ]
     },
     "execution_count": 91,
     "metadata": {},
     "output_type": "execute_result"
    },
    {
     "data": {
      "image/png": "[encoded data removed]",
      "text/plain": [
       "<Figure size 1080x1440 with 3 Axes>"
      ]
     },
     "metadata": {
      "needs_background": "light"
     },
     "output_type": "display_data"
    }
   ],
   "source": [
    "voltages=outputs[9,:,:]\n",
    "hidden_spikes=hiddens.spike[9,:,:]\n",
    "plt.figure(figsize=[15,20])\n",
    "\n",
    "\n",
    "ax1=plt.subplot(411)\n",
    "plt.imshow(np.transpose(batch_x[9]))\n",
    "ax1.set_aspect(20)\n",
    "plt.ylabel('input pattern')\n",
    "\n",
    "ax3=plt.subplot(413)\n",
    "colors_map=cm.viridis(np.linspace(0,1,num_hidden))\n",
    "for t in range(time_steps):\n",
    "    cross=np.argwhere(hidden_spikes[t,:])\n",
    "    ax3.scatter(cross*0+t,cross,color=colors_map[cross.flatten(),:],s=2)\n",
    "    plt.xlim([0,time_steps])\n",
    "plt.ylabel('hidden layer spikes')\n",
    "ax1=plt.subplot(414)\n",
    "ax1.imshow(np.transpose(voltages))\n",
    "ax1.set_aspect(20)\n",
    "plt.ylabel('output class')\n",
    "\n",
    "    "
   ]
  },
  {
   "cell_type": "code",
   "execution_count": 97,
   "metadata": {},
   "outputs": [
    {
     "data": {
      "text/plain": [
       "<matplotlib.colorbar.Colorbar at 0x7f48ae7fd7f0>"
      ]
     },
     "execution_count": 97,
     "metadata": {},
     "output_type": "execute_result"
    },
    {
     "data": {
      "image/png": "[encoded data removed]",
      "text/plain": [
       "<Figure size 432x288 with 2 Axes>"
      ]
     },
     "metadata": {
      "needs_background": "light"
     },
     "output_type": "display_data"
    }
   ],
   "source": [
    "plt.imshow(hiddens.v_mem[9,:,:])\n",
    "plt.colorbar()"
   ]
  },
  {
   "cell_type": "code",
   "execution_count": null,
   "metadata": {},
   "outputs": [],
   "source": []
  },
  {
   "cell_type": "code",
   "execution_count": 38,
   "metadata": {},
   "outputs": [
    {
     "name": "stdout",
     "output_type": "stream",
     "text": [
      "Model saved in path: /tmp/model.ckpt\n"
     ]
    }
   ],
   "source": []
  },
  {
   "cell_type": "code",
   "execution_count": null,
   "metadata": {},
   "outputs": [],
   "source": []
  }
 ],
 "metadata": {
  "kernelspec": {
   "display_name": "Python 3",
   "language": "python",
   "name": "python3"
  },
  "language_info": {
   "codemirror_mode": {
    "name": "ipython",
    "version": 3
   },
   "file_extension": ".py",
   "mimetype": "text/x-python",
   "name": "python",
   "nbconvert_exporter": "python",
   "pygments_lexer": "ipython3",
   "version": "3.6.7"
  }
 },
 "nbformat": 4,
 "nbformat_minor": 2
}
